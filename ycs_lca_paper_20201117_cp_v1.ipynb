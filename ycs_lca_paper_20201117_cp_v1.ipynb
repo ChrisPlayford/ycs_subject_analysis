{
 "cells": [
  {
   "cell_type": "markdown",
   "metadata": {},
   "source": [
    "# <center> Investigating Patterns of Inequality in School GCSE Outcomes <br>\n",
    "<br>\n",
    "<br>"
   ]
  },
  {
   "cell_type": "markdown",
   "metadata": {},
   "source": [
    "This analysis is part of the ESRC 'Parental Social Class and Filial School Level Educational Outcomes in Contemporary Britain: Analysis of Understanding Society and Administrative Data' project.\n",
    "\n",
    "Funder: This work was supported by the ESRC under Grant ES/R004978/1.\n",
    "\n",
    "Collaborators:\n",
    "\n",
    "Christopher Playford, University of Exeter  \n",
    "Vernon Gayle, University of Edinburgh  \n",
    "Roxanne Connelly, University of Edinburgh  \n",
    "\n",
    "© Christopher Playford, University of Exeter.\n",
    "\n",
    "Dr Chris Playford (c.j.playford@exeter.ac.uk)  \n",
    "http://socialsciences.exeter.ac.uk/sociology/staff/playford/  \n",
    "https://orcid.org/0000-0002-6069-4898  \n",
    "Twitter: @playford_chris"
   ]
  },
  {
   "cell_type": "markdown",
   "metadata": {},
   "source": [
    "---"
   ]
  },
  {
   "cell_type": "markdown",
   "metadata": {},
   "source": [
    "### Table of Contents: <a class=\"anchor\" id=\"contents\"></a>\n",
    "* [Data](#data)\n",
    "* [Preparation of Stata](#stataprep)\n",
    "* [Data Management](#dataman)\n",
    "* [Tables and figures](#tabsfigs)\n",
    "* [Table 1](#tab1)\n",
    "* [Table 2](#tab2)\n",
    "* [Table 3](#tab3)\n",
    "* [Table 4](#tab4)\n",
    "* [Table 5](#tab5)\n",
    "* [Table 6](#tab6)\n",
    "* [Figure 1](#fig1)\n",
    "* [Figure 2](#fig2)"
   ]
  },
  {
   "cell_type": "markdown",
   "metadata": {},
   "source": [
    "---"
   ]
  },
  {
   "cell_type": "markdown",
   "metadata": {},
   "source": [
    "## Data <a class=\"anchor\" id=\"data\"></a>\n",
    "\n",
    "[Go to Contents](#contents)\n",
    "\n",
    "This study includes data from YCS cohorts 5-11 and the Youth Cohort Time Series.\n",
    "\n",
    "Courtenay, G. (1996). Youth Cohort Study of England and Wales, 1991-1993; Cohort Five, Sweep One to Three. [data collection]. UK Data Service. SN: 3531, http://doi.org/10.5255/UKDA-SN-3531-1\n",
    "\n",
    "Courtenay, G. (1996). Youth Cohort Study of England and Wales, 1992-1994; Cohort Six, Sweep One to Three. [data collection]. UK Data Service. SN: 3532, http://doi.org/10.5255/UKDA-SN-3532-1\n",
    "\n",
    "Courtenay, G. (2000). Youth Cohort Study of England and Wales, 1994-1996; Cohort Seven, Sweep One and Two. [data collection]. 2nd Edition. UK Data Service. SN: 3533, http://doi.org/10.5255/UKDA-SN-3533-1\n",
    "\n",
    "Nice, D., McAleese, I., Russell, N., Finch, S. (2002). Youth Cohort Study of England and Wales, 1996-2000; Cohort Eight, Sweep One to Three. [data collection]. 3rd Edition. UK Data Service. SN: 3805, http://doi.org/10.5255/UKDA-SN-3805-1\n",
    "\n",
    "Russell, N., Finch, S., McAleese, I., Nice, D., Fitzgerald, R., La Valle, I. (2004). Youth Cohort Study of England and Wales, 1998-2000; Cohort Nine, Sweep One to Four. [data collection]. 5th Edition. UK Data Service. SN: 4009, http://doi.org/10.5255/UKDA-SN-4009-1\n",
    "\n",
    "Fitzgerald, R. (2004). Youth Cohort Study of England and Wales, 2000-2002; Cohort Ten, Sweep One, Two and Three. [data collection]. 2nd Edition. UK Data Service. SN: 4571, http://doi.org/10.5255/UKDA-SN-4571-1\n",
    "\n",
    "Johnson, M., Exley, S., Robinson, C., Park, A., Jarvis, L., Phillips, M. (2006). Youth Cohort Study of England and Wales, 2002-2005; Cohort Eleven, Sweep One to Four. [data collection]. UK Data Service. SN: 5452, http://doi.org/10.5255/UKDA-SN-5452-1\n",
    "\n",
    "Shapira, M., Iannelli, C., Croxford, L. (2007). Youth Cohort Time Series for England, Wales and Scotland, 1984-2002. [data collection]. Scottish Centre for Social Research, University of Edinburgh, Centre for Educational Sociology, National Centre for Social Research, [original data producer(s)]. Scottish Centre for Social Research. SN: 5765, http://doi.org/10.5255/UKDA-SN-5765-1"
   ]
  },
  {
   "cell_type": "markdown",
   "metadata": {},
   "source": [
    "---"
   ]
  },
  {
   "cell_type": "markdown",
   "metadata": {},
   "source": [
    "## Preparation of Stata <a class=\"anchor\" id=\"stataprep\"></a>"
   ]
  },
  {
   "cell_type": "markdown",
   "metadata": {},
   "source": [
    "[Go to Contents](#contents) \n",
    "<br>\n",
    "<br>\n",
    "Here we ensure version 16 of Stata is used."
   ]
  },
  {
   "cell_type": "code",
   "execution_count": 1,
   "metadata": {},
   "outputs": [],
   "source": [
    "version 16"
   ]
  },
  {
   "cell_type": "markdown",
   "metadata": {},
   "source": [
    "**You will need the doLCA package from Penn State**"
   ]
  },
  {
   "cell_type": "markdown",
   "metadata": {},
   "source": [
    "LCA Stata Plugin (Version 1.2) [Software]. (2015). University Park: The Methodology Center, Penn State. Retrieved from methodology.psu.edu on 17th November 2020.\n",
    "\n",
    "Lanza, S. T., Dziak, J. J., Huang, L., Wagner, A. T., & Collins, L. M. (2015). LCA Stata plugin users’ guide (Version 1.2). University Park: The Methodology Center, Penn State. Retrieved from methodology.psu.edu on 17th November 2020.  \n",
    "\n",
    "This script uses the x64 version 1.3.2. This can be downloaded using the first URL and installation instructions are provided in the second URL."
   ]
  },
  {
   "cell_type": "markdown",
   "metadata": {},
   "source": [
    "https://www.methodology.psu.edu/downloads/lcastata/\n",
    "\n",
    "https://www.methodology.psu.edu/files/2019/03/Stata-LCA-Plugin-v1.2c-2e00dl9.pdf"
   ]
  },
  {
   "cell_type": "markdown",
   "metadata": {},
   "source": [
    "You will also need the Quasi Variance package (uncomment to install):"
   ]
  },
  {
   "cell_type": "code",
   "execution_count": 2,
   "metadata": {},
   "outputs": [],
   "source": [
    "* ssc install qv"
   ]
  },
  {
   "cell_type": "markdown",
   "metadata": {},
   "source": [
    "**File Paths**"
   ]
  },
  {
   "cell_type": "code",
   "execution_count": 3,
   "metadata": {},
   "outputs": [],
   "source": [
    " global path5 \"C:\\temp\\github_ycs_subject_analysis\\raw_data\\YCS_Cohort_5_Download\\stata8\\\"\n",
    " global path6 \"C:\\temp\\github_ycs_subject_analysis\\raw_data\\YCS_Cohort_6_Download\\stata8\\\"\n",
    " global path7 \"C:\\temp\\github_ycs_subject_analysis\\raw_data\\YCS_Cohort_7_Download\\stata8\\\"\n",
    " global path8 \"C:\\temp\\github_ycs_subject_analysis\\raw_data\\YCS_Cohort_8_Download\\stata8\\\"\n",
    " global path9 \"C:\\temp\\github_ycs_subject_analysis\\raw_data\\YCS_Cohort_9_Download\\stata8\\\"\n",
    "global path10 \"C:\\temp\\github_ycs_subject_analysis\\raw_data\\YCS_Cohort_10_Download\\stata8_se\\\"\n",
    "global path11 \"C:\\temp\\github_ycs_subject_analysis\\raw_data\\YCS_Cohort_11_Download\\stata8_se\\\"\n",
    "global path12 \"C:\\temp\\github_ycs_subject_analysis\\raw_data\\YCS_Cohort_12_Download\\stata8\\\"\n",
    "global path13 \"C:\\temp\\github_ycs_subject_analysis\\raw_data\\YCS_Cohort_13_Download\\stata9\\\"\n",
    "\n",
    " global path2 \"C:\\temp\\github_ycs_subject_analysis\\\"\n",
    " global path3 \"C:\\temp\\github_ycs_subject_analysis\\data\\\"\n",
    " global path4 \"C:\\temp\\github_ycs_subject_analysis\\raw_data\\YCS_time_series\\stata8\\\""
   ]
  },
  {
   "cell_type": "markdown",
   "metadata": {},
   "source": [
    "---"
   ]
  },
  {
   "cell_type": "markdown",
   "metadata": {},
   "source": [
    "## Data Management <a class=\"anchor\" id=\"dataman\"></a>"
   ]
  },
  {
   "cell_type": "markdown",
   "metadata": {},
   "source": [
    "[Go to Contents](#contents) \n",
    "<br>"
   ]
  },
  {
   "cell_type": "markdown",
   "metadata": {},
   "source": [
    "You will need to run the files below. The files have been written in order and are intended to be run sequentially. Details are in the README.md on: \n",
    "\n",
    "https://github.com/ChrisPlayford/ycs_subject_analysis\n",
    "\n",
    "1_ycs_datasets_file_paths.do  \n",
    "2_ycs5_gsce_subjects.do  \n",
    "2_ycs6_gsce_subjects.do  \n",
    "2_ycs7_gsce_subjects.do  \n",
    "2_ycs8_gsce_subjects.do  \n",
    "2_ycs9_gsce_subjects.do\n",
    "2_ycs10_gsce_subjects.do  \n",
    "2_ycs11_gsce_subjects.do  \n",
    "3_soc2000_labels.do  \n",
    "3_ycs10_background_vars.do  \n",
    "3_ycs10_background_vars_check.do  \n",
    "3_ycs10_soc2000_recode.do  \n",
    "3_ycs11_background_vars.do  \n",
    "3_ycs5_789_background_vars.do  \n",
    "3_ycs6_background_vars.do  \n",
    "4_inspection_background_vars_datasets.do  \n",
    "4_inspection_gcse_subjects_datasets.do  \n",
    "4_ycs5_11_append_merge.do  \n",
    "4_ycs5_11_link_class_variables.do  \n",
    "4_ycs5_11_recoding_preparation.do  \n",
    "5_ycs5_11_file1_exploratory_lca.do  \n",
    "5_ycs5_11_file2_assignment.do  \n",
    "5_ycs5_11_file3_exploratory_mlogit.do  "
   ]
  },
  {
   "cell_type": "markdown",
   "metadata": {},
   "source": [
    "---"
   ]
  },
  {
   "cell_type": "markdown",
   "metadata": {},
   "source": [
    "# Tables and figures <a class=\"anchor\" id=\"tabsfigs\"></a>"
   ]
  },
  {
   "cell_type": "markdown",
   "metadata": {},
   "source": [
    "[Go to Contents](#contents) \n",
    "<br>"
   ]
  },
  {
   "cell_type": "markdown",
   "metadata": {},
   "source": [
    "### Table 1 <a class=\"anchor\" id=\"tab1\"></a>\n",
    "*Year 11 School GCSE Subject Areas, YCS Cohorts 5 -11.*\n",
    "\n",
    "**Note**: The 17 most frequently undertaken GCSEs; Unweighted data. "
   ]
  },
  {
   "cell_type": "markdown",
   "metadata": {},
   "source": [
    "[Go to Contents](#contents) \n",
    "<br>"
   ]
  },
  {
   "cell_type": "code",
   "execution_count": 4,
   "metadata": {},
   "outputs": [],
   "source": [
    "use $path3\\ycs5_to_11_set5.dta, clear\n",
    "numlabel _all, add"
   ]
  },
  {
   "cell_type": "code",
   "execution_count": 5,
   "metadata": {},
   "outputs": [
    {
     "name": "stdout",
     "output_type": "stream",
     "text": [
      "\n",
      "-> tabulation of english if sample3==1 \n",
      "\n",
      "    Highest |\n",
      "   Grade in |\n",
      "       GCSE |\n",
      "    English |\n",
      "   subjects |      Freq.     Percent        Cum.\n",
      "------------+-----------------------------------\n",
      "          1 |     16,269       23.95       23.95\n",
      "          2 |     51,668       76.05      100.00\n",
      "------------+-----------------------------------\n",
      "      Total |     67,937      100.00\n",
      "\n",
      "-> tabulation of maths if sample3==1 \n",
      "\n",
      "    Highest |\n",
      "   Grade in |\n",
      " GCSE Maths |\n",
      "   subjects |      Freq.     Percent        Cum.\n",
      "------------+-----------------------------------\n",
      "          1 |     27,521       40.51       40.51\n",
      "          2 |     40,416       59.49      100.00\n",
      "------------+-----------------------------------\n",
      "      Total |     67,937      100.00\n",
      "\n",
      "-> tabulation of science if sample3==1 \n",
      "\n",
      "    Highest |\n",
      "   Grade in |\n",
      "       GCSE |\n",
      "    Science |\n",
      "   subjects |      Freq.     Percent        Cum.\n",
      "------------+-----------------------------------\n",
      "          1 |     26,360       38.80       38.80\n",
      "          2 |     41,577       61.20      100.00\n",
      "------------+-----------------------------------\n",
      "      Total |     67,937      100.00\n",
      "\n",
      "-> tabulation of humanity if sample3==1 \n",
      "\n",
      "    Highest |\n",
      "   Grade in |\n",
      "       GCSE |\n",
      "   Humanity |\n",
      "   subjects |      Freq.     Percent        Cum.\n",
      "------------+-----------------------------------\n",
      "          1 |     23,660       34.83       34.83\n",
      "          2 |     44,277       65.17      100.00\n",
      "------------+-----------------------------------\n",
      "      Total |     67,937      100.00\n",
      "\n",
      "-> tabulation of othersub if sample3==1 \n",
      "\n",
      "    Highest |\n",
      "   Grade in |\n",
      " GCSE Other |\n",
      "   subjects |      Freq.     Percent        Cum.\n",
      "------------+-----------------------------------\n",
      "          1 |     15,825       23.29       23.29\n",
      "          2 |     52,112       76.71      100.00\n",
      "------------+-----------------------------------\n",
      "      Total |     67,937      100.00\n"
     ]
    }
   ],
   "source": [
    "tab1 english maths science humanity othersub if sample3==1, missing"
   ]
  },
  {
   "cell_type": "markdown",
   "metadata": {},
   "source": [
    "### Table 2 <a class=\"anchor\" id=\"tab2\"></a>\n",
    "*Latent Educational Group Models (Goodness of Fit Statistics)*\n",
    "\n",
    "n=67,937; Unweighted data, YCS Cohorts 5-11."
   ]
  },
  {
   "cell_type": "markdown",
   "metadata": {},
   "source": [
    "[Go to Contents](#contents) \n",
    "<br>"
   ]
  },
  {
   "cell_type": "code",
   "execution_count": 6,
   "metadata": {},
   "outputs": [],
   "source": [
    "use $path3\\ycs5_to_11_set5.dta, clear\n",
    "numlabel _all, add"
   ]
  },
  {
   "cell_type": "code",
   "execution_count": 7,
   "metadata": {},
   "outputs": [
    {
     "name": "stdout",
     "output_type": "stream",
     "text": [
      "\n",
      "(50,483 observations deleted)\n",
      "\n",
      "  67,937\n"
     ]
    }
   ],
   "source": [
    "keep if sample3==1\n",
    "count"
   ]
  },
  {
   "cell_type": "code",
   "execution_count": 8,
   "metadata": {},
   "outputs": [],
   "source": [
    "keep english maths science humanity othersub \n",
    "sort english maths science humanity othersub"
   ]
  },
  {
   "cell_type": "code",
   "execution_count": 9,
   "metadata": {},
   "outputs": [],
   "source": [
    "contract english maths science humanity othersub, zero freq(count)\n",
    "qui: list, clean"
   ]
  },
  {
   "cell_type": "markdown",
   "metadata": {},
   "source": [
    "Change the directory to the location of the doLCA plugin."
   ]
  },
  {
   "cell_type": "code",
   "execution_count": 10,
   "metadata": {},
   "outputs": [
    {
     "name": "stdout",
     "output_type": "stream",
     "text": [
      "C:\\ado\\plus\\l\\Release64-1.3.2\n"
     ]
    }
   ],
   "source": [
    "cd C:\\ado\\plus\\l\\Release64-1.3.2"
   ]
  },
  {
   "cell_type": "code",
   "execution_count": 11,
   "metadata": {},
   "outputs": [],
   "source": [
    "capture matrix drop _all"
   ]
  },
  {
   "cell_type": "code",
   "execution_count": 12,
   "metadata": {},
   "outputs": [],
   "source": [
    "forval i = 2/5 {\n",
    "\tqui: doLCA english maths science humanity othersub, ///\n",
    "\t\tnclass(`i') ///\n",
    "\t\tseed(100) ///\n",
    "\t\tseeddraws(1500) ///\n",
    "\t\tcategories(2 2 2 2 2) ///\n",
    "\t\tfreq(count)\n",
    "\t\n",
    "\tmatrix a`i' = r(Gsquared)\n",
    "\tmatrix b`i' = r(loglikelihood) * -2\n",
    "\tmatrix c`i' = r(df)\n",
    "\tmatrix d`i' = r(EntropyRsqd)\n",
    "\tmatrix e`i' = r(aic)\n",
    "\tmatrix f`i' = r(bic)\n",
    "\tmatrix g`i' = r(AdjustedBIC)\n",
    "\tmatrix h`i' = a`i',b`i',c`i',d`i',e`i',f`i',g`i'\t\n",
    "}"
   ]
  },
  {
   "cell_type": "code",
   "execution_count": 13,
   "metadata": {},
   "outputs": [],
   "source": [
    "* Concatenate matrices\n",
    "\n",
    "matrix j = h2\\h3\\h4\\h5"
   ]
  },
  {
   "cell_type": "code",
   "execution_count": 14,
   "metadata": {},
   "outputs": [],
   "source": [
    "* Rownames for matrix\n",
    "\n",
    "matrix colnames j = \"G-squared\" \"Deviance\" \"df\" \"Entropy R-squared\" \"AIC\" \"BIC\" \"adj BIC\"\n",
    "matrix rownames j = \"2 group\" \"3 group\" \"4 group\" \"5 group\""
   ]
  },
  {
   "cell_type": "code",
   "execution_count": 15,
   "metadata": {},
   "outputs": [],
   "source": [
    "* Rounding the values\n",
    "\n",
    "forval i = 1/4 {\n",
    "\tforval j = 1/2 {\n",
    "\t\tmatrix j[`i',`j'] = round(j[`i',`j'], 0.1)\n",
    "}\n",
    "}\n",
    "\n",
    "forval i = 1/4 {\n",
    "\t\tmatrix j[`i',4] = round(j[`i',4], 0.01)\n",
    "}\n",
    "\n",
    "forval i = 1/4 {\n",
    "\tforval j = 5/7 {\n",
    "\t\tmatrix j[`i',`j'] = round(j[`i',`j'], 0.1)\n",
    "}\n",
    "}"
   ]
  },
  {
   "cell_type": "code",
   "execution_count": 16,
   "metadata": {},
   "outputs": [
    {
     "name": "stdout",
     "output_type": "stream",
     "text": [
      "\n",
      "j[4,7]\n",
      "            G-squared      Deviance            df  Entropy R-~d           AIC\n",
      "2 group        5784.3      333101.5            20           .83        5806.3\n",
      "3 group        1080.6      328397.8            14           .71        1114.6\n",
      "4 group          19.8        327337             8            .7          65.8\n",
      "5 group           3.8        327321             2           .69          61.8\n",
      "\n",
      "                  BIC       adj BIC\n",
      "2 group        5906.7        5871.8\n",
      "3 group        1269.8        1215.7\n",
      "4 group         275.7         202.6\n",
      "5 group         326.5         234.3\n"
     ]
    }
   ],
   "source": [
    "matrix list j"
   ]
  },
  {
   "cell_type": "markdown",
   "metadata": {},
   "source": [
    "## Table 3 <a class=\"anchor\" id=\"tab3\"></a>\n",
    "*Latent Group Model Results (Four Group Model)*\n",
    "\n",
    "School GCSE Attainment – Posterior Probabilities and Prior Probabilities (percentages), YCS Cohorts 5-11.   \n",
    "All pupils gaining a GCSE pass at grades A*-G; n=67,937; \n",
    "Probabilities reported as percentages."
   ]
  },
  {
   "cell_type": "markdown",
   "metadata": {},
   "source": [
    "[Go to Contents](#contents) \n",
    "<br>"
   ]
  },
  {
   "cell_type": "code",
   "execution_count": 17,
   "metadata": {},
   "outputs": [],
   "source": [
    "use $path3\\ycs5_to_11_set5.dta, clear\n",
    "numlabel _all, add"
   ]
  },
  {
   "cell_type": "markdown",
   "metadata": {},
   "source": [
    "The following table shows the:\n",
    "* n (based on posterior probabilities)\n",
    "* Estimated Group Membership"
   ]
  },
  {
   "cell_type": "code",
   "execution_count": 18,
   "metadata": {},
   "outputs": [
    {
     "name": "stdout",
     "output_type": "stream",
     "text": [
      "\n",
      "    Sample 3 - |\n",
      "   Modal Class |\n",
      "    Assignment |      Freq.     Percent        Cum.\n",
      "---------------+-----------------------------------\n",
      "1. Poor Grades |     13,595       20.01       20.01\n",
      "    2. Science |      2,934        4.32       24.33\n",
      "3. Non-Science |     12,602       18.55       42.88\n",
      "4. Good Grades |     38,806       57.12      100.00\n",
      "---------------+-----------------------------------\n",
      "         Total |     67,937      100.00\n"
     ]
    }
   ],
   "source": [
    "tab sample3_modal_class"
   ]
  },
  {
   "cell_type": "code",
   "execution_count": 19,
   "metadata": {},
   "outputs": [
    {
     "name": "stdout",
     "output_type": "stream",
     "text": [
      "\n",
      "(50,483 observations deleted)\n",
      "\n",
      "  67,937\n"
     ]
    }
   ],
   "source": [
    "keep if sample3==1\n",
    "count"
   ]
  },
  {
   "cell_type": "code",
   "execution_count": 20,
   "metadata": {},
   "outputs": [],
   "source": [
    "keep english maths science humanity othersub \n",
    "sort english maths science humanity othersub"
   ]
  },
  {
   "cell_type": "code",
   "execution_count": 21,
   "metadata": {},
   "outputs": [],
   "source": [
    "contract english maths science humanity othersub, zero freq(count)"
   ]
  },
  {
   "cell_type": "markdown",
   "metadata": {},
   "source": [
    "Change the directory to the location of the doLCA plugin."
   ]
  },
  {
   "cell_type": "code",
   "execution_count": 22,
   "metadata": {},
   "outputs": [
    {
     "name": "stdout",
     "output_type": "stream",
     "text": [
      "C:\\ado\\plus\\l\\Release64-1.3.2\n"
     ]
    }
   ],
   "source": [
    "cd C:\\ado\\plus\\l\\Release64-1.3.2"
   ]
  },
  {
   "cell_type": "code",
   "execution_count": 23,
   "metadata": {},
   "outputs": [
    {
     "name": "stdout",
     "output_type": "stream",
     "text": [
      "(0 real changes made)\n",
      "(0 real changes made)\n",
      "(0 real changes made)\n",
      "(0 real changes made)\n",
      "(0 real changes made)\n",
      "(0 observations deleted)\n",
      "(0 observations deleted)\n",
      "(0 observations deleted)\n",
      "  variable english was float now byte\n",
      "  variable maths was float now byte\n",
      "  variable science was float now byte\n",
      "  variable humanity was float now byte\n",
      "  variable othersub was float now byte\n",
      "  (480 bytes saved)\n",
      "(0 real changes made)\n",
      "(0 real changes made)\n",
      "(0 real changes made)\n",
      "(0 real changes made)\n",
      "(0 real changes made)\n",
      "Data Summary, Model Information, and Fit Statistics (EM Algorithm)\n",
      "Number of subjects in analysis: = 32\n",
      "Number of measurement items: 5\n",
      "Number of groups in the data: 1\n",
      "Number of latent classes: 4\n",
      "Rho starting values were randomly generated (seed =      100.0000).\n",
      "The model converged in 967 iterations.\n",
      "Log-likelihood = -163668.49\n",
      "G-squared = 19.790061\n",
      "AIC = 65.790061\n",
      "BIC = 275.69579\n",
      "CAIC = 298.69579\n",
      "Adjusted BIC = 202.60123\n",
      "Entropy Raw = 28075.714\n",
      "Entropy R-sqd = .70189519\n",
      "Degrees of freedom = 8\n",
      "Number of gamma parameters estimated:3\n",
      "Number of rho parameters estimated::20\n",
      "(0 real changes made)\n",
      "(32 real changes made)\n",
      "(32 real changes made)\n",
      "(32 real changes made)\n",
      "(32 real changes made)\n"
     ]
    }
   ],
   "source": [
    "doLCA english maths science humanity othersub, ///\n",
    "      nclass(4) ///\n",
    "\t  seed(100) ///\n",
    "\t  seeddraws(1500) ///\n",
    "\t  categories(2 2 2 2 2) ///\n",
    "\t  freq(count)"
   ]
  },
  {
   "cell_type": "markdown",
   "metadata": {},
   "source": [
    "The following code shows the:\n",
    "* Prior Probabilities (latent group membership)"
   ]
  },
  {
   "cell_type": "code",
   "execution_count": 24,
   "metadata": {},
   "outputs": [
    {
     "name": "stdout",
     "output_type": "stream",
     "text": [
      "\n",
      "r(gamma)[1,4]\n",
      "       Class1     Class2     Class3     Class4\n",
      "r1  .19404149   .0828906  .51781766  .20525025\n"
     ]
    }
   ],
   "source": [
    "matrix list r(gamma)"
   ]
  },
  {
   "cell_type": "markdown",
   "metadata": {},
   "source": [
    "The following code shows the:\n",
    "* (prior probabilities) - GCSE subject outcomes"
   ]
  },
  {
   "cell_type": "code",
   "execution_count": 25,
   "metadata": {},
   "outputs": [
    {
     "name": "stdout",
     "output_type": "stream",
     "text": [
      "\n",
      "r(rho)[10,4]\n",
      "               Class1     Class2     Class3     Class4\n",
      " english11  .82156482  .50898259   .0144072  .14813149\n",
      "   maths11  .95625219  .40255831  .06809948    .735258\n",
      " science11  .94911962  .21393121  .05290227  .77325769\n",
      "humanity11  .92726061  .57431392  .05110108  .45929558\n",
      "othersub11  .70333736  .36043373  .03982277  .22393279\n",
      " english21  .17843518  .49101741   .9855928  .85186851\n",
      "   maths21  .04374781  .59744169  .93190052    .264742\n",
      " science21  .05088038  .78606879  .94709773  .22674231\n",
      "humanity21  .07273939  .42568608  .94889892  .54070442\n",
      "othersub21  .29666264  .63956627  .96017723  .77606721\n"
     ]
    }
   ],
   "source": [
    "matrix list r(rho)"
   ]
  },
  {
   "cell_type": "markdown",
   "metadata": {},
   "source": [
    "### Table 4 <a class=\"anchor\" id=\"tab4\"></a>\n",
    "*Agglomerate Measures of School GCSE Attainment by Latent Group*\n",
    "\n",
    "All pupils gaining a GCSE pass at grades A*-G, n=67,937, weighted data, YCS Cohorts 5-11."
   ]
  },
  {
   "cell_type": "markdown",
   "metadata": {},
   "source": [
    "[Go to Contents](#contents) \n",
    "<br>"
   ]
  },
  {
   "cell_type": "code",
   "execution_count": 26,
   "metadata": {},
   "outputs": [],
   "source": [
    "use $path3\\ycs5_to_11_set5.dta, clear\n",
    "numlabel _all, add"
   ]
  },
  {
   "cell_type": "code",
   "execution_count": 27,
   "metadata": {},
   "outputs": [],
   "source": [
    "estimates clear\n",
    "capture matrix drop _all"
   ]
  },
  {
   "cell_type": "code",
   "execution_count": 28,
   "metadata": {},
   "outputs": [],
   "source": [
    "* Summary figures\n",
    "\n",
    "qui: svy: mean t0examac if sample3==1\n",
    "matrix a =  e(b)\n",
    "\n",
    "qui: svy: mean t0examaf if sample3==1\n",
    "matrix b =  e(b)\n",
    "\n",
    "qui: svy: mean t0score2 if sample3==1\n",
    "matrix c =  e(b)\n",
    "\n",
    "qui: svy: mean t0examst if sample3==1\n",
    "matrix d =  e(b)"
   ]
  },
  {
   "cell_type": "code",
   "execution_count": 29,
   "metadata": {},
   "outputs": [],
   "source": [
    "* By Latent Class\n",
    "\n",
    "qui: svy: mean t0examac if sample3==1, over(sample3_modal_class)\n",
    "matrix e =  e(b)\n",
    "\n",
    "qui: svy: mean t0examaf if sample3==1, over(sample3_modal_class)\n",
    "matrix f =  e(b)\n",
    "\n",
    "qui: svy: mean t0score2 if sample3==1, over(sample3_modal_class)\n",
    "matrix g =  e(b)\n",
    "\n",
    "qui: svy: mean t0examst if sample3==1, over(sample3_modal_class)\n",
    "matrix h =  e(b)"
   ]
  },
  {
   "cell_type": "code",
   "execution_count": 30,
   "metadata": {},
   "outputs": [],
   "source": [
    "* Concatenate the sub-matrices\n",
    "\n",
    "matrix i = (e\\f\\g\\h),(a\\b\\c\\d)"
   ]
  },
  {
   "cell_type": "code",
   "execution_count": 31,
   "metadata": {},
   "outputs": [],
   "source": [
    "* Label the column and row names\n",
    "\n",
    "matrix colnames i = \":1 Poor Grades\" \":2 Science\" \":3 Non-Science\" \":4 Good Grades\" \"All\"\n",
    "matrix rownames i = \"Mean number of A*–C passes\" \"Mean number of A*–F passes\" \"Mean GCSE points score\" \"Mean number of GCSEs studied\""
   ]
  },
  {
   "cell_type": "code",
   "execution_count": 32,
   "metadata": {},
   "outputs": [],
   "source": [
    "* Round the values\n",
    "\n",
    "forval i = 1/4 {\n",
    "\tforval j = 1/5 {\n",
    "\t\tmatrix i[`i',`j'] = round(i[`i',`j'], 0.1)\n",
    "}\n",
    "}"
   ]
  },
  {
   "cell_type": "code",
   "execution_count": 33,
   "metadata": {},
   "outputs": [
    {
     "name": "stdout",
     "output_type": "stream",
     "text": [
      "\n",
      "i[4,5]\n",
      "              1 Poor Gra~s     2 Science  3 Non-Scie~e  4 Good Gra~s\n",
      "Mean numbe~s            .5           3.5           3.6           8.1\n",
      "Mean numbe~s           7.1           8.2           8.4           9.1\n",
      "Mean GCSE ~e          24.2          35.1          36.3          51.7\n",
      "Mean numbe~d           7.9           8.1           8.4           8.7\n",
      "\n",
      "                       All\n",
      "Mean numbe~s           4.9\n",
      "Mean numbe~s           8.4\n",
      "Mean GCSE ~e          40.2\n",
      "Mean numbe~d           8.4\n"
     ]
    }
   ],
   "source": [
    "matrix list i"
   ]
  },
  {
   "cell_type": "markdown",
   "metadata": {},
   "source": [
    "### Table 5 <a class=\"anchor\" id=\"tab5\"></a>\n",
    "*Benchmark School GCSE Attainment by Latent Group (Column Percentages)*\n",
    "\n",
    "All pupils gaining a GCSE pass at grades A*-G, n=67,937, weighted data, YCS Cohorts 5-11."
   ]
  },
  {
   "cell_type": "markdown",
   "metadata": {},
   "source": [
    "[Go to Contents](#contents) \n",
    "<br>"
   ]
  },
  {
   "cell_type": "code",
   "execution_count": 34,
   "metadata": {},
   "outputs": [],
   "source": [
    "use $path3\\ycs5_to_11_set5.dta, clear\n",
    "numlabel _all, add"
   ]
  },
  {
   "cell_type": "code",
   "execution_count": 35,
   "metadata": {},
   "outputs": [],
   "source": [
    "estimates clear\n",
    "capture matrix drop _all"
   ]
  },
  {
   "cell_type": "code",
   "execution_count": 36,
   "metadata": {},
   "outputs": [],
   "source": [
    "* English and Maths individually \n",
    "\n",
    "qui: svy: proportion english if sample3==1\n",
    "matrix a1 = e(b)\n",
    "matrix a  = a1[1,2]\n",
    "\n",
    "qui: svy: proportion maths if sample3==1\n",
    "matrix b1 = e(b)\n",
    "matrix b  = b1[1,2]"
   ]
  },
  {
   "cell_type": "code",
   "execution_count": 37,
   "metadata": {},
   "outputs": [
    {
     "name": "stdout",
     "output_type": "stream",
     "text": [
      "\n",
      "\n",
      "(56,995 real changes made)\n",
      "\n",
      "\n",
      "\n"
     ]
    }
   ],
   "source": [
    "* Joint English and Maths\n",
    "\n",
    "gen eng_and_maths=1\n",
    "replace eng_and_maths=2 if (english==2 & maths==2)\n",
    "\n",
    "qui: svy: proportion eng_and_maths if sample3==1\n",
    "matrix c1 = e(b)\n",
    "matrix c  = c1[1,2]"
   ]
  },
  {
   "cell_type": "code",
   "execution_count": 38,
   "metadata": {},
   "outputs": [],
   "source": [
    "* Five or more A*-C passes\n",
    "\n",
    "qui: svy: proportion t0fiveac if sample3==1\n",
    "matrix d1 = e(b)\n",
    "matrix d  = d1[1,2]"
   ]
  },
  {
   "cell_type": "code",
   "execution_count": 39,
   "metadata": {},
   "outputs": [],
   "source": [
    "* Five or more A*-C passes (inc English and Maths)\n",
    "\n",
    "qui: svy: proportion t0fiveac_em if sample3==1\n",
    "matrix e1 = e(b)\n",
    "matrix e  = e1[1,2]"
   ]
  },
  {
   "cell_type": "markdown",
   "metadata": {},
   "source": [
    "**Now for each latent class**"
   ]
  },
  {
   "cell_type": "code",
   "execution_count": 40,
   "metadata": {},
   "outputs": [],
   "source": [
    "* English and Maths individually\n",
    "\n",
    "qui: svy: proportion english if sample3==1, over(sample3_modal_class)\n",
    "matrix f1 = e(b)\n",
    "matrix f  = f1[1,5],f1[1,6],f1[1,7],f1[1,8]\n",
    "\n",
    "qui: svy: proportion maths if sample3==1, over(sample3_modal_class)\n",
    "matrix g1 = e(b)\n",
    "matrix g  = g1[1,5],g1[1,6],g1[1,7],g1[1,8]"
   ]
  },
  {
   "cell_type": "code",
   "execution_count": 41,
   "metadata": {},
   "outputs": [],
   "source": [
    "* Joint English and Maths\n",
    "\n",
    "qui: svy: proportion eng_and_maths if sample3==1, over(sample3_modal_class)\n",
    "matrix h1 = e(b)\n",
    "matrix h  = h1[1,5],h1[1,6],h1[1,7],h1[1,8]"
   ]
  },
  {
   "cell_type": "code",
   "execution_count": 42,
   "metadata": {},
   "outputs": [],
   "source": [
    "* Five or more A*-C passes\n",
    "\n",
    "qui: svy: proportion t0fiveac if sample3==1, over(sample3_modal_class)\n",
    "matrix i1 = e(b)\n",
    "matrix i  = i1[1,5],i1[1,6],i1[1,7],i1[1,8]"
   ]
  },
  {
   "cell_type": "code",
   "execution_count": 43,
   "metadata": {},
   "outputs": [],
   "source": [
    "* Five or more A*-C passes (inc English and Maths)\n",
    "\n",
    "qui: svy: proportion t0fiveac_em if sample3==1, over(sample3_modal_class)\n",
    "matrix j1 = e(b)\n",
    "matrix j  = j1[1,5],j1[1,6],j1[1,7],j1[1,8]"
   ]
  },
  {
   "cell_type": "code",
   "execution_count": 44,
   "metadata": {},
   "outputs": [],
   "source": [
    "* Concatenate the sub-matrices\n",
    "\n",
    "matrix k = (f\\g\\h\\i\\j),(a\\b\\c\\d\\e)"
   ]
  },
  {
   "cell_type": "code",
   "execution_count": 45,
   "metadata": {},
   "outputs": [],
   "source": [
    "matrix colnames k = \":1 Poor Grades\" \":2 Science\" \":3 Non-Science\" \":4 Good Grades\" \"All\"\n",
    "matrix rownames k = \"GCSE English A*-C\" \"GCSE Maths A*-C\" \"Both GCSE Eng & Maths A*-C\" \"5+ A*-C passes\" \"5+ A*-C inc E & M\""
   ]
  },
  {
   "cell_type": "code",
   "execution_count": 46,
   "metadata": {},
   "outputs": [],
   "source": [
    "* Round the values\n",
    "\n",
    "forval i = 1/5 {\n",
    "\tforval j = 1/5 {\n",
    "\t\tmatrix k[`i',`j'] = round(k[`i',`j'], 0.01)\n",
    "}\n",
    "}"
   ]
  },
  {
   "cell_type": "code",
   "execution_count": 47,
   "metadata": {},
   "outputs": [
    {
     "name": "stdout",
     "output_type": "stream",
     "text": [
      "\n",
      "k[5,5]\n",
      "              1 Poor Gra~s     2 Science  3 Non-Scie~e  4 Good Gra~s\n",
      "GCSE Engli~C           .12           .14           .87           .98\n",
      "GCSE Maths~C           .02           .57           .21           .92\n",
      "Both GCSE ~C             0           .14           .15            .9\n",
      "5+ A*-C pa~s             0           .17           .23           .98\n",
      "5+ A*-C in~M             0           .04           .04           .88\n",
      "\n",
      "                       All\n",
      "GCSE Engli~C           .68\n",
      "GCSE Maths~C           .52\n",
      "Both GCSE ~C           .47\n",
      "5+ A*-C pa~s           .52\n",
      "5+ A*-C in~M           .43\n"
     ]
    }
   ],
   "source": [
    "matrix list k"
   ]
  },
  {
   "cell_type": "markdown",
   "metadata": {},
   "source": [
    "### Table 6 <a class=\"anchor\" id=\"tab6\"></a>\n",
    "*Multinomial Logistic Regression Model Results – Latent Educational Group Membership (modal assignment)*"
   ]
  },
  {
   "cell_type": "markdown",
   "metadata": {},
   "source": [
    "[Go to Contents](#contents) \n",
    "<br>"
   ]
  },
  {
   "cell_type": "code",
   "execution_count": 48,
   "metadata": {},
   "outputs": [],
   "source": [
    "use $path3\\ycs5_to_11_set5.dta, clear\n",
    "numlabel _all, rem"
   ]
  },
  {
   "cell_type": "code",
   "execution_count": 49,
   "metadata": {},
   "outputs": [
    {
     "name": "stdout",
     "output_type": "stream",
     "text": [
      "\n",
      "\n",
      "Iteration 0:   log pseudolikelihood = -73322.301  \n",
      "Iteration 1:   log pseudolikelihood = -68511.958  \n",
      "Iteration 2:   log pseudolikelihood = -68414.663  \n",
      "Iteration 3:   log pseudolikelihood = -68414.193  \n",
      "Iteration 4:   log pseudolikelihood = -68414.193  \n",
      "\n",
      "Multinomial logistic regression                 Number of obs     =     67,937\n",
      "                                                Wald chi2(75)     =    7119.96\n",
      "                                                Prob > chi2       =     0.0000\n",
      "Log pseudolikelihood = -68414.193               Pseudo R2         =     0.0669\n",
      "\n",
      "-------------------------------------------------------------------------------\n",
      "              |               Robust\n",
      "sample3_mod~s |      Coef.   Std. Err.      z    P>|z|     [95% Conf. Interval]\n",
      "--------------+----------------------------------------------------------------\n",
      "Poor_Grades   |\n",
      "     t0cohort |\n",
      "        1992  |  -.0678335   .0403269    -1.68   0.093    -.1468729    .0112058\n",
      "        1993  |  -.2472341   .0423852    -5.83   0.000    -.3303076   -.1641606\n",
      "        1995  |  -.3247851    .042262    -7.69   0.000    -.4076172    -.241953\n",
      "        1997  |  -.4792221   .0438724   -10.92   0.000    -.5652105   -.3932337\n",
      "        1999  |  -.5490142   .0486193   -11.29   0.000    -.6443062   -.4537221\n",
      "        2001  |   -.742596   .0464074   -16.00   0.000    -.8335528   -.6516392\n",
      "              |\n",
      "        t0sex |\n",
      "        male  |   .5386673   .0232012    23.22   0.000     .4931937    .5841409\n",
      "              |\n",
      "     t0ethnic |\n",
      "       black  |   .2124378   .1054011     2.02   0.044     .0058554    .4190201\n",
      "      indian  |  -.3536481   .0772282    -4.58   0.000    -.5050126   -.2022836\n",
      "   pakistani  |   .2548266   .0989354     2.58   0.010     .0609168    .4487364\n",
      " bangladeshi  |  -.3182415   .1953348    -1.63   0.103    -.7010906    .0646076\n",
      " other asian  |  -.9841272   .1429356    -6.89   0.000    -1.264276   -.7039784\n",
      "other resp..  |   -.099251   .1363178    -0.73   0.467    -.3664291     .167927\n",
      "              |\n",
      "      t0house |\n",
      "      rented  |    .935765   .0345472    27.09   0.000     .8680539    1.003476\n",
      "       other  |   .2676576   .1033043     2.59   0.010     .0651849    .4701303\n",
      "              |\n",
      "       t0stay |\n",
      " mother only  |   .0340427   .0385089     0.88   0.377    -.0414333    .1095187\n",
      " father only  |   .4765725   .0683766     6.97   0.000     .3425569    .6105882\n",
      "other resp..  |   .5349746    .101648     5.26   0.000     .3357483     .734201\n",
      "              |\n",
      " t0par_nssec2 |\n",
      "1.1 Large ..  |   .5553488   .0737417     7.53   0.000     .4108178    .6998799\n",
      "2 Lower ma..  |    .777397    .057373    13.55   0.000     .6649479     .889846\n",
      "3 Intermed..  |    1.24227   .0585073    21.23   0.000     1.127597    1.356942\n",
      "4 Small em..  |   1.580653   .0597966    26.43   0.000     1.463454    1.697852\n",
      "5 Lower su..  |   1.892094   .0670522    28.22   0.000     1.760674    2.023514\n",
      "6 Semi-rou..  |   2.095648    .060186    34.82   0.000     1.977685     2.21361\n",
      "   7 Routine  |   2.281296   .0663596    34.38   0.000     2.151233    2.411358\n",
      "              |\n",
      "        _cons |  -1.905542   .0609062   -31.29   0.000    -2.024916   -1.786168\n",
      "--------------+----------------------------------------------------------------\n",
      "Science       |\n",
      "     t0cohort |\n",
      "        1992  |  -.1577532   .0733766    -2.15   0.032    -.3015687   -.0139377\n",
      "        1993  |  -.3251154   .0765301    -4.25   0.000    -.4751116   -.1751192\n",
      "        1995  |  -.4267212   .0787843    -5.42   0.000    -.5811355   -.2723069\n",
      "        1997  |  -.5644654   .0790001    -7.15   0.000    -.7193028   -.4096281\n",
      "        1999  |  -.5524158   .0850695    -6.49   0.000    -.7191489   -.3856827\n",
      "        2001  |  -.6878261   .0803283    -8.56   0.000    -.8452666   -.5303856\n",
      "              |\n",
      "        t0sex |\n",
      "        male  |   1.455361   .0472493    30.80   0.000     1.362754    1.547968\n",
      "              |\n",
      "     t0ethnic |\n",
      "       black  |  -.0686016   .2195035    -0.31   0.755    -.4988206    .3616173\n",
      "      indian  |  -.1366249   .1372278    -1.00   0.319    -.4055865    .1323367\n",
      "   pakistani  |  -.0200028    .190954    -0.10   0.917    -.3942657    .3542601\n",
      " bangladeshi  |  -.1850845   .3241049    -0.57   0.568    -.8203184    .4501495\n",
      " other asian  |  -.5088903   .2361272    -2.16   0.031    -.9716911   -.0460896\n",
      "other resp..  |  -.1336189   .2266425    -0.59   0.555      -.57783    .3105921\n",
      "              |\n",
      "      t0house |\n",
      "      rented  |   .5464336   .0663136     8.24   0.000     .4164613    .6764059\n",
      "       other  |   .6288826   .1583725     3.97   0.000     .3184782    .9392871\n",
      "              |\n",
      "       t0stay |\n",
      " mother only  |    .089338   .0690825     1.29   0.196    -.0460613    .2247373\n",
      " father only  |   .4555926    .117188     3.89   0.000     .2259084    .6852768\n",
      "other resp..  |   .1914936   .2024491     0.95   0.344    -.2052994    .5882865\n",
      "              |\n",
      " t0par_nssec2 |\n",
      "1.1 Large ..  |   .1509869   .1179906     1.28   0.201    -.0802705    .3822443\n",
      "2 Lower ma..  |   .3388553   .0862225     3.93   0.000     .1698623    .5078483\n",
      "3 Intermed..  |   .7012802   .0891389     7.87   0.000     .5265712    .8759892\n",
      "4 Small em..  |   1.063831   .0914268    11.64   0.000     .8846381    1.243024\n",
      "5 Lower su..  |    1.10632   .1090422    10.15   0.000     .8926013    1.320039\n",
      "6 Semi-rou..  |   1.240535   .0943707    13.15   0.000     1.055571    1.425498\n",
      "   7 Routine  |   1.307436    .108312    12.07   0.000     1.095149    1.519724\n",
      "              |\n",
      "        _cons |   -3.61289   .0996465   -36.26   0.000    -3.808193   -3.417586\n",
      "--------------+----------------------------------------------------------------\n",
      "Non_Science   |\n",
      "     t0cohort |\n",
      "        1992  |  -.0293234   .0412966    -0.71   0.478    -.1102632    .0516164\n",
      "        1993  |   -.181362   .0424987    -4.27   0.000    -.2646579   -.0980661\n",
      "        1995  |  -.2959365    .043209    -6.85   0.000    -.3806246   -.2112484\n",
      "        1997  |  -.4222132   .0437374    -9.65   0.000    -.5079368   -.3364895\n",
      "        1999  |  -.4352302   .0467265    -9.31   0.000    -.5268124    -.343648\n",
      "        2001  |  -.5013624   .0433469   -11.57   0.000    -.5863208    -.416404\n",
      "              |\n",
      "        t0sex |\n",
      "        male  |  -.2266728     .02337    -9.70   0.000    -.2724771   -.1808685\n",
      "              |\n",
      "     t0ethnic |\n",
      "       black  |   .5680062   .0919004     6.18   0.000     .3878846    .7481277\n",
      "      indian  |  -.1607051   .0724973    -2.22   0.027    -.3027972   -.0186131\n",
      "   pakistani  |   .3584892   .0973531     3.68   0.000     .1676807    .5492978\n",
      " bangladeshi  |   .1828435   .1811355     1.01   0.313    -.1721757    .5378626\n",
      " other asian  |  -.6237185   .1287757    -4.84   0.000    -.8761142   -.3713228\n",
      "other resp..  |   .2410068   .1074386     2.24   0.025      .030431    .4515825\n",
      "              |\n",
      "      t0house |\n",
      "      rented  |   .5958446   .0357587    16.66   0.000     .5257588    .6659304\n",
      "       other  |   .1878979   .1030696     1.82   0.068    -.0141148    .3899106\n",
      "              |\n",
      "       t0stay |\n",
      " mother only  |   .0839221   .0367699     2.28   0.022     .0118544    .1559898\n",
      " father only  |   .3907751   .0674317     5.80   0.000     .2586114    .5229389\n",
      "other resp..  |   .4358748   .1005896     4.33   0.000     .2387229    .6330267\n",
      "              |\n",
      " t0par_nssec2 |\n",
      "1.1 Large ..  |   .4388221   .0609749     7.20   0.000     .3193136    .5583307\n",
      "2 Lower ma..  |   .5211537   .0471279    11.06   0.000     .4287847    .6135227\n",
      "3 Intermed..  |   .8608843   .0487694    17.65   0.000     .7652981    .9564705\n",
      "4 Small em..  |   1.005725   .0512163    19.64   0.000     .9053433    1.106107\n",
      "5 Lower su..  |   1.165116   .0611264    19.06   0.000      1.04531    1.284921\n",
      "6 Semi-rou..  |   1.344117   .0526479    25.53   0.000     1.240929    1.447305\n",
      "   7 Routine  |   1.369284   .0613347    22.32   0.000     1.249071    1.489498\n",
      "              |\n",
      "        _cons |  -1.454294    .051972   -27.98   0.000    -1.556158   -1.352431\n",
      "--------------+----------------------------------------------------------------\n",
      "Good_Grades   |  (base outcome)\n",
      "-------------------------------------------------------------------------------\n",
      "\n"
     ]
    }
   ],
   "source": [
    "mlogit sample3_modal_class ///\n",
    "\t\t\t\ti.t0cohort ///\n",
    "\t\t\t\tib2.t0sex ///\n",
    "\t\t\t\ti.t0ethnic ///\n",
    "\t\t\t\ti.t0house ///\n",
    "\t\t\t\ti.t0stay ///\n",
    "\t\t\t\tib2.t0par_nssec2 ///\n",
    "\t\t\t\t\t[pw=t1weight], base(4) \n",
    "\n",
    "est store a"
   ]
  },
  {
   "cell_type": "markdown",
   "metadata": {},
   "source": [
    "To export using esttab:"
   ]
  },
  {
   "cell_type": "code",
   "execution_count": 50,
   "metadata": {},
   "outputs": [
    {
     "name": "stdout",
     "output_type": "stream",
     "text": [
      "(output written to C:\\temp\\github_ycs_subject_analysis\\outputs\\table9.rtf)\n"
     ]
    }
   ],
   "source": [
    "esttab a using \"C:\\temp\\github_ycs_subject_analysis\\outputs\\table9.rtf\", ///\n",
    "\tb(%9.2f) se(%9.2f) aic(%9.1f) bic(%9.1f) scalars(\"ll Log lik.\") sfmt(%9.1f) pr2 ///\n",
    "\tstarlevels(* .05 ** .01 *** .001) stardetach \t///\n",
    "\tlabel mtitles(\"Multinomial Logit\") ///\n",
    "\twide staraux nogaps noparentheses replace"
   ]
  },
  {
   "cell_type": "markdown",
   "metadata": {},
   "source": [
    "### Figure 1 <a class=\"anchor\" id=\"fig1\"></a>"
   ]
  },
  {
   "cell_type": "markdown",
   "metadata": {},
   "source": [
    "*General schema of Latent Educational Group model and Multinomial Logistic Regression model predicting Latent Group membership*"
   ]
  },
  {
   "cell_type": "markdown",
   "metadata": {},
   "source": [
    "[Go to Contents](#contents) \n",
    "<br>"
   ]
  },
  {
   "attachments": {
    "gcse_attainment_1990s_paper_fig1.JPG": {
     "image/jpeg": "[encoded data removed]"
    }
   },
   "cell_type": "markdown",
   "metadata": {},
   "source": [
    "![gcse_attainment_1990s_paper_fig1.JPG](attachment:gcse_attainment_1990s_paper_fig1.JPG)"
   ]
  },
  {
   "cell_type": "markdown",
   "metadata": {},
   "source": [
    "### Figure 2 <a class=\"anchor\" id=\"fig2\"></a>"
   ]
  },
  {
   "cell_type": "markdown",
   "metadata": {},
   "source": [
    "*Latent Educational Group membership by Parental Occupation (NS-SEC)*"
   ]
  },
  {
   "cell_type": "markdown",
   "metadata": {},
   "source": [
    "[Go to Contents](#contents) \n",
    "<br>"
   ]
  },
  {
   "cell_type": "code",
   "execution_count": 51,
   "metadata": {},
   "outputs": [],
   "source": [
    "use $path3\\ycs5_to_11_set5.dta, clear\n",
    "numlabel _all, rem"
   ]
  },
  {
   "cell_type": "code",
   "execution_count": 52,
   "metadata": {},
   "outputs": [],
   "source": [
    "* Check to make sure quasi-variance installed\n",
    "\n",
    "* ssc install qv"
   ]
  },
  {
   "cell_type": "code",
   "execution_count": 53,
   "metadata": {},
   "outputs": [],
   "source": [
    "* Check the numeric labels on the latent group variable\n",
    "\n",
    "numlabel _all, add\n",
    "qui: tab sample3_modal_class, mi\n",
    "numlabel _all, rem"
   ]
  },
  {
   "cell_type": "code",
   "execution_count": 54,
   "metadata": {},
   "outputs": [
    {
     "name": "stdout",
     "output_type": "stream",
     "text": [
      "\n",
      "\n",
      "Iteration 0:   log pseudolikelihood = -31532.449  \n",
      "Iteration 1:   log pseudolikelihood = -27797.874  \n",
      "Iteration 2:   log pseudolikelihood = -27746.045  \n",
      "Iteration 3:   log pseudolikelihood = -27745.894  \n",
      "Iteration 4:   log pseudolikelihood = -27745.894  \n",
      "\n",
      "Multinomial logistic regression                 Number of obs     =     52,401\n",
      "                                                Wald chi2(25)     =    4905.15\n",
      "                                                Prob > chi2       =     0.0000\n",
      "Log pseudolikelihood = -27745.894               Pseudo R2         =     0.1201\n",
      "\n",
      "-------------------------------------------------------------------------------\n",
      "              |               Robust\n",
      "sample3_mod~s |      Coef.   Std. Err.      z    P>|z|     [95% Conf. Interval]\n",
      "--------------+----------------------------------------------------------------\n",
      "Poor_Grades   |\n",
      "     t0cohort |\n",
      "        1992  |  -.0541527   .0411416    -1.32   0.188    -.1347887    .0264832\n",
      "        1993  |  -.2346574   .0431983    -5.43   0.000    -.3193246   -.1499903\n",
      "        1995  |    -.31273   .0430231    -7.27   0.000    -.3970537   -.2284063\n",
      "        1997  |  -.4742847   .0446832   -10.61   0.000    -.5618621   -.3867073\n",
      "        1999  |  -.5421024   .0494019   -10.97   0.000    -.6389283   -.4452765\n",
      "        2001  |   -.726944   .0473401   -15.36   0.000    -.8197289   -.6341591\n",
      "              |\n",
      "        t0sex |\n",
      "        male  |   .5376956   .0236212    22.76   0.000     .4913988    .5839924\n",
      "              |\n",
      "     t0ethnic |\n",
      "       black  |   .1987312   .1099589     1.81   0.071    -.0167843    .4142467\n",
      "      indian  |  -.3633674   .0784925    -4.63   0.000      -.51721   -.2095249\n",
      "   pakistani  |   .2754362   .1010017     2.73   0.006     .0774764    .4733959\n",
      " bangladeshi  |  -.3222722    .203341    -1.58   0.113    -.7208132    .0762689\n",
      " other asian  |  -.9996225   .1468548    -6.81   0.000    -1.287453   -.7117922\n",
      "other resp..  |  -.0851808   .1433697    -0.59   0.552    -.3661803    .1958186\n",
      "              |\n",
      "      t0house |\n",
      "      rented  |   .9259289   .0351682    26.33   0.000     .8570005    .9948573\n",
      "       other  |   .2713036   .1061632     2.56   0.011     .0632276    .4793796\n",
      "              |\n",
      "       t0stay |\n",
      " mother only  |   .0316897    .039606     0.80   0.424    -.0459367    .1093161\n",
      " father only  |   .4737538   .0698923     6.78   0.000     .3367674    .6107402\n",
      "other resp..  |   .5237727   .1052722     4.98   0.000     .3174431    .7301024\n",
      "              |\n",
      " t0par_nssec2 |\n",
      "1.1 Large ..  |   .5593788     .07372     7.59   0.000     .4148901    .7038674\n",
      "2 Lower ma..  |   .7740536    .057449    13.47   0.000     .6614558    .8866515\n",
      "3 Intermed..  |   1.240488   .0586353    21.16   0.000     1.125565    1.355411\n",
      "4 Small em..  |   1.580024   .0600358    26.32   0.000     1.462356    1.697692\n",
      "5 Lower su..  |   1.881358    .067431    27.90   0.000     1.749196    2.013521\n",
      "6 Semi-rou..  |   2.090172   .0604494    34.58   0.000     1.971693     2.20865\n",
      "   7 Routine  |   2.285033   .0667063    34.26   0.000     2.154291    2.415775\n",
      "              |\n",
      "        _cons |  -1.911272   .0615503   -31.05   0.000    -2.031908   -1.790635\n",
      "--------------+----------------------------------------------------------------\n",
      "Good_Grades   |  (base outcome)\n",
      "-------------------------------------------------------------------------------\n",
      "\n",
      "\n",
      "\n",
      "----------------------------------------------------------------------------\n",
      " Category          Coef.         SE     Quasi-SE      lb(QV)      ub(QV)\n",
      "----------------------------------------------------------------------------\n",
      " 1.t0par_nssec2    0.5594      0.0737     0.0525      0.4513       0.6674\n",
      " 2b.t0par_nssec2    0.0000     0.0000     0.0521     -0.1073       0.1073\n",
      " 3.t0par_nssec2    0.7741      0.0574     0.0247      0.7232       0.8249\n",
      " 4.t0par_nssec2    1.2405      0.0586     0.0271      1.1846       1.2963\n",
      " 5.t0par_nssec2    1.5800      0.0600     0.0297      1.5189       1.6412\n",
      " 6.t0par_nssec2    1.8814      0.0674     0.0428      1.7932       1.9695\n",
      " 7.t0par_nssec2    2.0902      0.0604     0.0302      2.0279       2.1524\n",
      " 8.t0par_nssec2    2.2850      0.0667     0.0411      2.2004       2.3696\n",
      "----------------------------------------------------------------------------\n",
      "*lb and ub calculated at the 95% level\n",
      "(118,412 missing values generated)\n",
      "\n",
      "Iteration 0:   log pseudolikelihood =  -9883.464  \n",
      "Iteration 1:   log pseudolikelihood =  -9081.862  \n",
      "Iteration 2:   log pseudolikelihood = -8970.2603  \n",
      "Iteration 3:   log pseudolikelihood = -8969.9733  \n",
      "Iteration 4:   log pseudolikelihood = -8969.9733  \n",
      "\n",
      "Multinomial logistic regression                 Number of obs     =     41,740\n",
      "                                                Wald chi2(25)     =    1452.84\n",
      "                                                Prob > chi2       =     0.0000\n",
      "Log pseudolikelihood = -8969.9733               Pseudo R2         =     0.0924\n",
      "\n",
      "-------------------------------------------------------------------------------\n",
      "              |               Robust\n",
      "sample3_mod~s |      Coef.   Std. Err.      z    P>|z|     [95% Conf. Interval]\n",
      "--------------+----------------------------------------------------------------\n",
      "Science       |\n",
      "     t0cohort |\n",
      "        1992  |  -.1370153    .074168    -1.85   0.065    -.2823819    .0083513\n",
      "        1993  |  -.3056416   .0774263    -3.95   0.000    -.4573943   -.1538889\n",
      "        1995  |  -.3979766   .0795972    -5.00   0.000    -.5539841    -.241969\n",
      "        1997  |  -.5226798   .0799757    -6.54   0.000    -.6794293   -.3659303\n",
      "        1999  |   -.499081    .085763    -5.82   0.000    -.6671733   -.3309887\n",
      "        2001  |  -.6522592   .0811956    -8.03   0.000    -.8113997   -.4931186\n",
      "              |\n",
      "        t0sex |\n",
      "        male  |   1.432679   .0473083    30.28   0.000     1.339956    1.525401\n",
      "              |\n",
      "     t0ethnic |\n",
      "       black  |  -.1215645   .2174792    -0.56   0.576    -.5478158    .3046868\n",
      "      indian  |  -.1973212   .1374138    -1.44   0.151    -.4666473    .0720049\n",
      "   pakistani  |  -.0446373   .1927634    -0.23   0.817    -.4224466    .3331721\n",
      " bangladeshi  |  -.2461904   .3360257    -0.73   0.464    -.9047887    .4124079\n",
      " other asian  |  -.5322159   .2405714    -2.21   0.027    -1.003727   -.0607046\n",
      "other resp..  |  -.1421468    .228133    -0.62   0.533    -.5892793    .3049857\n",
      "              |\n",
      "      t0house |\n",
      "      rented  |   .4928428   .0681399     7.23   0.000     .3592911    .6263944\n",
      "       other  |   .5708689   .1648666     3.46   0.001     .2477363    .8940015\n",
      "              |\n",
      "       t0stay |\n",
      " mother only  |   .0707978   .0701681     1.01   0.313    -.0667291    .2083247\n",
      " father only  |   .4395261   .1178796     3.73   0.000     .2084863    .6705658\n",
      "other resp..  |   .1487062   .2088909     0.71   0.477    -.2607125    .5581249\n",
      "              |\n",
      " t0par_nssec2 |\n",
      "1.1 Large ..  |   .1628504   .1182018     1.38   0.168    -.0688208    .3945216\n",
      "2 Lower ma..  |   .3495892   .0863925     4.05   0.000     .1802629    .5189154\n",
      "3 Intermed..  |   .7125341   .0892982     7.98   0.000     .5375128    .8875554\n",
      "4 Small em..  |   1.034659   .0917063    11.28   0.000      .854918      1.2144\n",
      "5 Lower su..  |   1.071415     .10984     9.75   0.000     .8561327    1.286698\n",
      "6 Semi-rou..  |   1.233164   .0954783    12.92   0.000      1.04603    1.420298\n",
      "   7 Routine  |   1.305529   .1094862    11.92   0.000      1.09094    1.520118\n",
      "              |\n",
      "        _cons |  -3.612565   .1006451   -35.89   0.000    -3.809826   -3.415304\n",
      "--------------+----------------------------------------------------------------\n",
      "Good_Grades   |  (base outcome)\n",
      "-------------------------------------------------------------------------------\n",
      "\n",
      "\n",
      "\n",
      "----------------------------------------------------------------------------\n",
      " Category          Coef.         SE     Quasi-SE      lb(QV)      ub(QV)\n",
      "----------------------------------------------------------------------------\n",
      " 1.t0par_nssec2    0.1629      0.1182     0.0924     -0.0274       0.3531\n",
      " 2b.t0par_nssec2    0.0000     0.0000     0.0747     -0.1538       0.1538\n",
      " 3.t0par_nssec2    0.3496      0.0864     0.0446      0.2577       0.4415\n",
      " 4.t0par_nssec2    0.7125      0.0893     0.0493      0.6111       0.8140\n",
      " 5.t0par_nssec2    1.0347      0.0917     0.0530      0.9255       1.1438\n"
     ]
    },
    {
     "name": "stdout",
     "output_type": "stream",
     "text": [
      " 6.t0par_nssec2    1.0714      0.1098     0.0803      0.9060       1.2368\n",
      " 7.t0par_nssec2    1.2332      0.0955     0.0587      1.1124       1.3540\n",
      " 8.t0par_nssec2    1.3055      0.1095     0.0789      1.1430       1.4681\n",
      "----------------------------------------------------------------------------\n",
      "*lb and ub calculated at the 95% level\n",
      "(118,412 missing values generated)\n",
      "\n",
      "Iteration 0:   log pseudolikelihood = -25170.939  \n",
      "Iteration 1:   log pseudolikelihood = -23968.787  \n",
      "Iteration 2:   log pseudolikelihood = -23945.372  \n",
      "Iteration 3:   log pseudolikelihood = -23945.331  \n",
      "Iteration 4:   log pseudolikelihood = -23945.331  \n",
      "\n",
      "Multinomial logistic regression                 Number of obs     =     51,408\n",
      "                                                Wald chi2(25)     =    2199.21\n",
      "                                                Prob > chi2       =     0.0000\n",
      "Log pseudolikelihood = -23945.331               Pseudo R2         =     0.0487\n",
      "\n",
      "-------------------------------------------------------------------------------\n",
      "              |               Robust\n",
      "sample3_mod~s |      Coef.   Std. Err.      z    P>|z|     [95% Conf. Interval]\n",
      "--------------+----------------------------------------------------------------\n",
      "Non_Science   |\n",
      "     t0cohort |\n",
      "        1992  |  -.0336335   .0415963    -0.81   0.419    -.1151608    .0478938\n",
      "        1993  |  -.1856473   .0428162    -4.34   0.000    -.2695655   -.1017292\n",
      "        1995  |  -.2945746    .043488    -6.77   0.000    -.3798096   -.2093396\n",
      "        1997  |   -.420767   .0440775    -9.55   0.000    -.5071573   -.3343767\n",
      "        1999  |  -.4359979   .0469521    -9.29   0.000    -.5280224   -.3439734\n",
      "        2001  |  -.5087234   .0436407   -11.66   0.000    -.5942576   -.4231892\n",
      "              |\n",
      "        t0sex |\n",
      "        male  |  -.2349926   .0234986   -10.00   0.000    -.2810489   -.1889362\n",
      "              |\n",
      "     t0ethnic |\n",
      "       black  |    .525335    .093488     5.62   0.000      .342102     .708568\n",
      "      indian  |  -.1642709   .0726384    -2.26   0.024    -.3066396   -.0219023\n",
      "   pakistani  |   .3452866   .0976556     3.54   0.000     .1538851    .5366881\n",
      " bangladeshi  |   .1378307   .1840564     0.75   0.454    -.2229131    .4985746\n",
      " other asian  |  -.6741064   .1301231    -5.18   0.000     -.929143   -.4190698\n",
      "other resp..  |   .1897092    .109267     1.74   0.083    -.0244502    .4038685\n",
      "              |\n",
      "      t0house |\n",
      "      rented  |   .5866131   .0365816    16.04   0.000     .5149144    .6583118\n",
      "       other  |   .1975079   .1037642     1.90   0.057    -.0058662    .4008819\n",
      "              |\n",
      "       t0stay |\n",
      " mother only  |   .0719647   .0371112     1.94   0.052     -.000772    .1447014\n",
      " father only  |   .3715347   .0683147     5.44   0.000     .2376404    .5054291\n",
      "other resp..  |   .4098364   .1036498     3.95   0.000     .2066864    .6129863\n",
      "              |\n",
      " t0par_nssec2 |\n",
      "1.1 Large ..  |   .4389931   .0609755     7.20   0.000     .3194832     .558503\n",
      "2 Lower ma..  |   .5241268   .0471303    11.12   0.000     .4317531    .6165004\n",
      "3 Intermed..  |    .857972    .048801    17.58   0.000     .7623237    .9536202\n",
      "4 Small em..  |    1.00353   .0512608    19.58   0.000     .9030611       1.104\n",
      "5 Lower su..  |   1.156748   .0613522    18.85   0.000       1.0365    1.276996\n",
      "6 Semi-rou..  |   1.346288   .0528602    25.47   0.000     1.242684    1.449892\n",
      "   7 Routine  |    1.34953   .0619904    21.77   0.000     1.228031    1.471029\n",
      "              |\n",
      "        _cons |  -1.441862   .0523316   -27.55   0.000     -1.54443   -1.339294\n",
      "--------------+----------------------------------------------------------------\n",
      "Good_Grades   |  (base outcome)\n",
      "-------------------------------------------------------------------------------\n",
      "\n",
      "\n",
      "\n",
      "----------------------------------------------------------------------------\n",
      " Category          Coef.         SE     Quasi-SE      lb(QV)      ub(QV)\n",
      "----------------------------------------------------------------------------\n",
      " 1.t0par_nssec2    0.4390      0.0610     0.0448      0.3466       0.5314\n",
      " 2b.t0par_nssec2    0.0000     0.0000     0.0416     -0.0857       0.0857\n",
      " 3.t0par_nssec2    0.5241      0.0471     0.0226      0.4777       0.5706\n",
      " 4.t0par_nssec2    0.8580      0.0488     0.0257      0.8051       0.9108\n",
      " 5.t0par_nssec2    1.0035      0.0513     0.0298      0.9421       1.0649\n",
      " 6.t0par_nssec2    1.1567      0.0614     0.0451      1.0639       1.2495\n",
      " 7.t0par_nssec2    1.3463      0.0529     0.0322      1.2800       1.4126\n",
      " 8.t0par_nssec2    1.3495      0.0620     0.0454      1.2561       1.4430\n",
      "----------------------------------------------------------------------------\n",
      "*lb and ub calculated at the 95% level\n",
      "(118,412 missing values generated)\n"
     ]
    }
   ],
   "source": [
    "* Estimate 3 separate models to replicate the mlogit then export the matrices\n",
    "\n",
    "forvalues i = 1/3 {\n",
    "\n",
    "\t* Estimate mlogit model\n",
    "\n",
    "\tmlogit sample3_modal_class ///\n",
    "\t\t\t\ti.t0cohort ///\n",
    "\t\t\t\tib2.t0sex ///\n",
    "\t\t\t\ti.t0ethnic ///\n",
    "\t\t\t\ti.t0house ///\n",
    "\t\t\t\ti.t0stay ///\n",
    "\t\t\t\tib2.t0par_nssec2 ///\n",
    "\t\t\t\t\tif sample3_modal_class==`i' | sample3_modal_class==4 ///\n",
    "\t\t\t\t\t\t[pw=t1weight], base(4) \t\n",
    "\n",
    "\t* These are the coefficients for the comparison group\n",
    "\t\t\t\t\t\n",
    "\tqv ib2.t0par_nssec2\n",
    "\n",
    "\t* Matrix to save the results of the quasi-variances\n",
    "\n",
    "\tmat lowerq`i'\t=\te(qvlb)\n",
    "\tmat upperq`i'\t=\te(qvub)\n",
    "\tsvmat lowerq`i', names(lowerq`i')\n",
    "\tsvmat upperq`i', names(upperq`i')\n",
    "\tgen BETAS`i'\t=\t(lowerq`i'+upperq`i')/2\n",
    "\n",
    "}"
   ]
  },
  {
   "cell_type": "code",
   "execution_count": 55,
   "metadata": {},
   "outputs": [
    {
     "name": "stdout",
     "output_type": "stream",
     "text": [
      "\n",
      "(118,412 missing values generated)\n",
      "\n",
      "(118,412 missing values generated)\n",
      "\n",
      "(118,412 missing values generated)\n"
     ]
    }
   ],
   "source": [
    "* Group (for social class variable)\n",
    "\n",
    "gen class1 = _n in 1/8\n",
    "gen class2 = class1 + 0.1\n",
    "gen class3 = class1 + 0.2"
   ]
  },
  {
   "cell_type": "markdown",
   "metadata": {},
   "source": [
    "Now that the models have been estimated, the graph can be produced."
   ]
  },
  {
   "cell_type": "code",
   "execution_count": 56,
   "metadata": {},
   "outputs": [
    {
     "data": {
      "application/pdf": "[encoded data removed]",
      "image/svg+xml": [
       "<?xml version=\"1.0\" encoding=\"UTF-8\" standalone=\"no\"?>\n",
       "<!-- This is a Stata 16.1 generated SVG file (http://www.stata.com) -->\n",
       "\n",
       "<svg version=\"1.1\" width=\"600px\" height=\"436px\" viewBox=\"0 0 3960 2880\" xmlns=\"http://www.w3.org/2000/svg\" xmlns:xlink=\"http://www.w3.org/1999/xlink\">\n",
       "\t<desc>Stata Graph - Graph</desc>\n",
       "\t<rect x=\"0\" y=\"0\" width=\"3960\" height=\"2880\" style=\"fill:#FFFFFF;stroke:none\"/>\n",
       "\t<rect x=\"0.00\" y=\"0.00\" width=\"3959.88\" height=\"2880.00\" style=\"fill:#FFFFFF\"/>\n",
       "\t<rect x=\"2.88\" y=\"2.88\" width=\"3954.12\" height=\"2874.24\" style=\"fill:none;stroke:#FFFFFF;stroke-width:5.76\"/>\n",
       "\t<rect x=\"393.68\" y=\"692.68\" width=\"3462.46\" height=\"1103.57\" style=\"fill:none;stroke:#000000;stroke-width:5.76\"/>\n",
       "\t<line x1=\"390.80\" y1=\"1678.84\" x2=\"3859.02\" y2=\"1678.84\" style=\"stroke:#303030;stroke-width:8.64\"/>\n",
       "\t<circle cx=\"454.04\" cy=\"1471.80\" r=\"19.91\" style=\"fill:#FFFFFF\"/>\n",
       "\t<circle cx=\"454.04\" cy=\"1471.80\" r=\"15.59\" style=\"fill:none;stroke:#000000;stroke-width:8.64\"/>\n",
       "\t<circle cx=\"918.23\" cy=\"1678.84\" r=\"19.91\" style=\"fill:#FFFFFF\"/>\n",
       "\t<circle cx=\"918.23\" cy=\"1678.84\" r=\"15.59\" style=\"fill:none;stroke:#000000;stroke-width:8.64\"/>\n",
       "\t<circle cx=\"1382.29\" cy=\"1392.35\" r=\"19.91\" style=\"fill:#FFFFFF\"/>\n",
       "\t<circle cx=\"1382.29\" cy=\"1392.35\" r=\"15.59\" style=\"fill:none;stroke:#000000;stroke-width:8.64\"/>\n",
       "\t<circle cx=\"1846.35\" cy=\"1219.59\" r=\"19.91\" style=\"fill:#FFFFFF\"/>\n",
       "\t<circle cx=\"1846.35\" cy=\"1219.59\" r=\"15.59\" style=\"fill:none;stroke:#000000;stroke-width:8.64\"/>\n",
       "\t<circle cx=\"2310.54\" cy=\"1093.86\" r=\"19.91\" style=\"fill:#FFFFFF\"/>\n",
       "\t<circle cx=\"2310.54\" cy=\"1093.86\" r=\"15.59\" style=\"fill:none;stroke:#000000;stroke-width:8.64\"/>\n",
       "\t<circle cx=\"2774.60\" cy=\"982.36\" r=\"19.91\" style=\"fill:#FFFFFF\"/>\n",
       "\t<circle cx=\"2774.60\" cy=\"982.36\" r=\"15.59\" style=\"fill:none;stroke:#000000;stroke-width:8.64\"/>\n",
       "\t<circle cx=\"3238.78\" cy=\"905.01\" r=\"19.91\" style=\"fill:#FFFFFF\"/>\n",
       "\t<circle cx=\"3238.78\" cy=\"905.01\" r=\"15.59\" style=\"fill:none;stroke:#000000;stroke-width:8.64\"/>\n",
       "\t<circle cx=\"3702.85\" cy=\"832.86\" r=\"19.91\" style=\"fill:#FFFFFF\"/>\n",
       "\t<circle cx=\"3702.85\" cy=\"832.86\" r=\"15.59\" style=\"fill:none;stroke:#000000;stroke-width:8.64\"/>\n",
       "\t<polygon points=\"472.31,1618.58 500.44,1590.44 528.58,1618.58 500.44,1646.71\" style=\"fill:#FFFFFF\"/>\n",
       "\t<polygon points=\"478.42,1618.58 500.44,1596.55 522.47,1618.58 500.44,1640.60\" style=\"fill:none;stroke:#000000;stroke-width:8.64\"/>\n",
       "\t<polygon points=\"936.49,1678.84 964.63,1650.71 992.77,1678.84 964.63,1706.98\" style=\"fill:#FFFFFF\"/>\n",
       "\t<polygon points=\"942.60,1678.84 964.63,1656.82 986.66,1678.84 964.63,1700.87\" style=\"fill:none;stroke:#000000;stroke-width:8.64\"/>\n",
       "\t<polygon points=\"1400.56,1549.40 1428.69,1521.26 1456.83,1549.40 1428.69,1577.54\" style=\"fill:#FFFFFF\"/>\n",
       "\t<polygon points=\"1406.67,1549.40 1428.69,1527.37 1450.72,1549.40 1428.69,1571.43\" style=\"fill:none;stroke:#000000;stroke-width:8.64\"/>\n",
       "\t<polygon points=\"1864.62,1415.13 1892.76,1386.99 1920.89,1415.13 1892.76,1443.26\" style=\"fill:#FFFFFF\"/>\n",
       "\t<polygon points=\"1870.73,1415.13 1892.76,1393.10 1914.78,1415.13 1892.76,1437.15\" style=\"fill:none;stroke:#000000;stroke-width:8.64\"/>\n",
       "\t<polygon points=\"2328.81,1295.83 2356.94,1267.69 2385.08,1295.83 2356.94,1323.96\" style=\"fill:#FFFFFF\"/>\n",
       "\t<polygon points=\"2334.91,1295.83 2356.94,1273.80 2378.97,1295.83 2356.94,1317.85\" style=\"fill:none;stroke:#000000;stroke-width:8.64\"/>\n",
       "\t<polygon points=\"2792.87,1282.21 2821.01,1254.08 2849.14,1282.21 2821.01,1310.35\" style=\"fill:#FFFFFF\"/>\n",
       "\t<polygon points=\"2798.98,1282.21 2821.01,1260.19 2843.03,1282.21 2821.01,1304.24\" style=\"fill:none;stroke:#000000;stroke-width:8.64\"/>\n",
       "\t<polygon points=\"3257.05,1222.32 3285.19,1194.18 3313.33,1222.32 3285.19,1250.45\" style=\"fill:#FFFFFF\"/>\n",
       "\t<polygon points=\"3263.16,1222.32 3285.19,1200.29 3307.22,1222.32 3285.19,1244.34\" style=\"fill:none;stroke:#000000;stroke-width:8.64\"/>\n",
       "\t<polygon points=\"3721.12,1195.46 3749.25,1167.33 3777.39,1195.46 3749.25,1223.60\" style=\"fill:#FFFFFF\"/>\n",
       "\t<polygon points=\"3727.23,1195.46 3749.25,1173.43 3771.28,1195.46 3749.25,1217.49\" style=\"fill:none;stroke:#000000;stroke-width:8.64\"/>\n",
       "\t<rect x=\"526.94\" y=\"1496.44\" width=\"39.82\" height=\"39.83\" style=\"fill:#FFFFFF\"/>\n",
       "\t<rect x=\"531.26\" y=\"1500.76\" width=\"31.19\" height=\"31.19\" style=\"fill:none;stroke:#000000;stroke-width:8.64\"/>\n",
       "\t<rect x=\"991.13\" y=\"1658.93\" width=\"39.82\" height=\"39.83\" style=\"fill:#FFFFFF\"/>\n",
       "\t<rect x=\"995.45\" y=\"1663.25\" width=\"31.19\" height=\"31.19\" style=\"fill:none;stroke:#000000;stroke-width:8.64\"/>\n",
       "\t<rect x=\"1455.19\" y=\"1464.89\" width=\"39.82\" height=\"39.83\" style=\"fill:#FFFFFF\"/>\n",
       "\t<rect x=\"1459.51\" y=\"1469.21\" width=\"31.19\" height=\"31.19\" style=\"fill:none;stroke:#000000;stroke-width:8.64\"/>\n",
       "\t<rect x=\"1919.37\" y=\"1341.26\" width=\"39.82\" height=\"39.83\" style=\"fill:#FFFFFF\"/>\n",
       "\t<rect x=\"1923.69\" y=\"1345.58\" width=\"31.19\" height=\"31.19\" style=\"fill:none;stroke:#000000;stroke-width:8.64\"/>\n",
       "\t<rect x=\"2383.44\" y=\"1287.42\" width=\"39.82\" height=\"39.83\" style=\"fill:#FFFFFF\"/>\n",
       "\t<rect x=\"2387.76\" y=\"1291.74\" width=\"31.18\" height=\"31.19\" style=\"fill:none;stroke:#000000;stroke-width:8.64\"/>\n",
       "\t<rect x=\"2847.50\" y=\"1230.74\" width=\"39.82\" height=\"39.83\" style=\"fill:#FFFFFF\"/>\n",
       "\t<rect x=\"2851.82\" y=\"1235.06\" width=\"31.18\" height=\"31.19\" style=\"fill:none;stroke:#000000;stroke-width:8.64\"/>\n",
       "\t<rect x=\"3311.69\" y=\"1160.58\" width=\"39.82\" height=\"39.83\" style=\"fill:#FFFFFF\"/>\n",
       "\t<rect x=\"3316.01\" y=\"1164.90\" width=\"31.18\" height=\"31.19\" style=\"fill:none;stroke:#000000;stroke-width:8.64\"/>\n",
       "\t<rect x=\"3775.75\" y=\"1159.34\" width=\"39.82\" height=\"39.83\" style=\"fill:#FFFFFF\"/>\n",
       "\t<rect x=\"3780.07\" y=\"1163.66\" width=\"31.18\" height=\"31.19\" style=\"fill:none;stroke:#000000;stroke-width:8.64\"/>\n",
       "\t<line x1=\"454.16\" y1=\"1431.71\" x2=\"454.16\" y2=\"1511.78\" style=\"stroke:#000000;stroke-width:8.64\"/>\n",
       "\t<line x1=\"918.23\" y1=\"1639.12\" x2=\"918.23\" y2=\"1718.57\" style=\"stroke:#000000;stroke-width:8.64\"/>\n",
       "\t<line x1=\"1382.41\" y1=\"1373.42\" x2=\"1382.41\" y2=\"1411.04\" style=\"stroke:#000000;stroke-width:8.64\"/>\n",
       "\t<line x1=\"1846.47\" y1=\"1198.80\" x2=\"1846.47\" y2=\"1240.26\" style=\"stroke:#000000;stroke-width:8.64\"/>\n",
       "\t<line x1=\"2310.54\" y1=\"1071.21\" x2=\"2310.54\" y2=\"1116.51\" style=\"stroke:#000000;stroke-width:8.64\"/>\n",
       "\t<line x1=\"2774.72\" y1=\"949.69\" x2=\"2774.72\" y2=\"1014.91\" style=\"stroke:#000000;stroke-width:8.64\"/>\n",
       "\t<line x1=\"3238.78\" y1=\"881.87\" x2=\"3238.78\" y2=\"928.03\" style=\"stroke:#000000;stroke-width:8.64\"/>\n",
       "\t<line x1=\"3702.85\" y1=\"801.43\" x2=\"3702.85\" y2=\"864.17\" style=\"stroke:#000000;stroke-width:8.64\"/>\n",
       "\t<line x1=\"500.57\" y1=\"1548.16\" x2=\"500.57\" y2=\"1688.99\" style=\"stroke:#000000;stroke-width:8.64\"/>\n",
       "\t<line x1=\"964.63\" y1=\"1621.92\" x2=\"964.63\" y2=\"1735.77\" style=\"stroke:#000000;stroke-width:8.64\"/>\n",
       "\t<line x1=\"1428.82\" y1=\"1515.37\" x2=\"1428.82\" y2=\"1583.43\" style=\"stroke:#000000;stroke-width:8.64\"/>\n",
       "\t<line x1=\"1892.88\" y1=\"1377.50\" x2=\"1892.88\" y2=\"1452.62\" style=\"stroke:#000000;stroke-width:8.64\"/>\n",
       "\t<line x1=\"2356.94\" y1=\"1255.36\" x2=\"2356.94\" y2=\"1336.17\" style=\"stroke:#000000;stroke-width:8.64\"/>\n",
       "\t<line x1=\"2821.13\" y1=\"1220.96\" x2=\"2821.13\" y2=\"1343.35\" style=\"stroke:#000000;stroke-width:8.64\"/>\n",
       "\t<line x1=\"3285.19\" y1=\"1177.52\" x2=\"3285.19\" y2=\"1266.99\" style=\"stroke:#000000;stroke-width:8.64\"/>\n",
       "\t<line x1=\"3749.25\" y1=\"1135.32\" x2=\"3749.25\" y2=\"1255.61\" style=\"stroke:#000000;stroke-width:8.64\"/>\n",
       "\t<line x1=\"546.98\" y1=\"1482.08\" x2=\"546.98\" y2=\"1550.51\" style=\"stroke:#000000;stroke-width:8.64\"/>\n",
       "\t<line x1=\"1011.04\" y1=\"1647.04\" x2=\"1011.04\" y2=\"1710.53\" style=\"stroke:#000000;stroke-width:8.64\"/>\n",
       "\t<line x1=\"1475.22\" y1=\"1467.60\" x2=\"1475.22\" y2=\"1502.00\" style=\"stroke:#000000;stroke-width:8.64\"/>\n",
       "\t<line x1=\"1939.29\" y1=\"1341.62\" x2=\"1939.29\" y2=\"1380.72\" style=\"stroke:#000000;stroke-width:8.64\"/>\n",
       "\t<line x1=\"2403.35\" y1=\"1284.57\" x2=\"2403.35\" y2=\"1329.98\" style=\"stroke:#000000;stroke-width:8.64\"/>\n",
       "\t<line x1=\"2867.53\" y1=\"1216.13\" x2=\"2867.53\" y2=\"1284.94\" style=\"stroke:#000000;stroke-width:8.64\"/>\n",
       "\t<line x1=\"3331.60\" y1=\"1155.86\" x2=\"3331.60\" y2=\"1204.87\" style=\"stroke:#000000;stroke-width:8.64\"/>\n",
       "\t<line x1=\"3795.66\" y1=\"1144.60\" x2=\"3795.66\" y2=\"1213.78\" style=\"stroke:#000000;stroke-width:8.64\"/>\n",
       "\t<line x1=\"390.80\" y1=\"1799.13\" x2=\"390.80\" y2=\"689.80\" style=\"stroke:#000000;stroke-width:5.76\"/>\n",
       "\t<line x1=\"390.80\" y1=\"1678.84\" x2=\"350.83\" y2=\"1678.84\" style=\"stroke:#000000;stroke-width:5.76\"/>\n",
       "\t<text x=\"300.72\" y=\"1678.84\" style=\"font-family:'Helvetica';font-size:99.99px;fill:#000000\" transform=\"rotate(-90 300.72,1678.84)\" text-anchor=\"middle\">0</text>\n",
       "\t<line x1=\"390.80\" y1=\"1493.71\" x2=\"350.83\" y2=\"1493.71\" style=\"stroke:#000000;stroke-width:5.76\"/>\n",
       "\t<text x=\"300.72\" y=\"1493.71\" style=\"font-family:'Helvetica';font-size:99.99px;fill:#000000\" transform=\"rotate(-90 300.72,1493.71)\" text-anchor=\"middle\">.5</text>\n",
       "\t<line x1=\"390.80\" y1=\"1308.57\" x2=\"350.83\" y2=\"1308.57\" style=\"stroke:#000000;stroke-width:5.76\"/>\n",
       "\t<text x=\"300.72\" y=\"1308.57\" style=\"font-family:'Helvetica';font-size:99.99px;fill:#000000\" transform=\"rotate(-90 300.72,1308.57)\" text-anchor=\"middle\">1</text>\n",
       "\t<line x1=\"390.80\" y1=\"1123.44\" x2=\"350.83\" y2=\"1123.44\" style=\"stroke:#000000;stroke-width:5.76\"/>\n",
       "\t<text x=\"300.72\" y=\"1123.44\" style=\"font-family:'Helvetica';font-size:99.99px;fill:#000000\" transform=\"rotate(-90 300.72,1123.44)\" text-anchor=\"middle\">1.5</text>\n",
       "\t<line x1=\"390.80\" y1=\"938.30\" x2=\"350.83\" y2=\"938.30\" style=\"stroke:#000000;stroke-width:5.76\"/>\n",
       "\t<text x=\"300.72\" y=\"938.30\" style=\"font-family:'Helvetica';font-size:99.99px;fill:#000000\" transform=\"rotate(-90 300.72,938.30)\" text-anchor=\"middle\">2</text>\n",
       "\t<line x1=\"390.80\" y1=\"753.17\" x2=\"350.83\" y2=\"753.17\" style=\"stroke:#000000;stroke-width:5.76\"/>\n",
       "\t<text x=\"300.72\" y=\"753.17\" style=\"font-family:'Helvetica';font-size:99.99px;fill:#000000\" transform=\"rotate(-90 300.72,753.17)\" text-anchor=\"middle\">2.5</text>\n",
       "\t<text x=\"190.71\" y=\"1244.47\" style=\"font-family:'Helvetica';font-size:99.99px;fill:#000000\" transform=\"rotate(-90 190.71,1244.47)\" text-anchor=\"middle\">Coefficient</text>\n",
       "\t<line x1=\"390.80\" y1=\"1799.13\" x2=\"3859.02\" y2=\"1799.13\" style=\"stroke:#000000;stroke-width:5.76\"/>\n",
       "\t<line x1=\"454.16\" y1=\"1799.13\" x2=\"454.16\" y2=\"1839.11\" style=\"stroke:#000000;stroke-width:5.76\"/>\n",
       "\t<text x=\"454.16\" y=\"1929.09\" style=\"font-family:'Helvetica';font-size:99.99px;fill:#000000\" text-anchor=\"middle\">1.1</text>\n",
       "\t<line x1=\"918.23\" y1=\"1799.13\" x2=\"918.23\" y2=\"1839.11\" style=\"stroke:#000000;stroke-width:5.76\"/>\n",
       "\t<text x=\"918.23\" y=\"1929.09\" style=\"font-family:'Helvetica';font-size:99.99px;fill:#000000\" text-anchor=\"middle\">1.2</text>\n",
       "\t<line x1=\"1382.41\" y1=\"1799.13\" x2=\"1382.41\" y2=\"1839.11\" style=\"stroke:#000000;stroke-width:5.76\"/>\n",
       "\t<text x=\"1382.41\" y=\"1929.09\" style=\"font-family:'Helvetica';font-size:99.99px;fill:#000000\" text-anchor=\"middle\">2</text>\n",
       "\t<line x1=\"1846.47\" y1=\"1799.13\" x2=\"1846.47\" y2=\"1839.11\" style=\"stroke:#000000;stroke-width:5.76\"/>\n",
       "\t<text x=\"1846.47\" y=\"1929.09\" style=\"font-family:'Helvetica';font-size:99.99px;fill:#000000\" text-anchor=\"middle\">3</text>\n",
       "\t<line x1=\"2310.54\" y1=\"1799.13\" x2=\"2310.54\" y2=\"1839.11\" style=\"stroke:#000000;stroke-width:5.76\"/>\n",
       "\t<text x=\"2310.54\" y=\"1929.09\" style=\"font-family:'Helvetica';font-size:99.99px;fill:#000000\" text-anchor=\"middle\">4</text>\n",
       "\t<line x1=\"2774.72\" y1=\"1799.13\" x2=\"2774.72\" y2=\"1839.11\" style=\"stroke:#000000;stroke-width:5.76\"/>\n",
       "\t<text x=\"2774.72\" y=\"1929.09\" style=\"font-family:'Helvetica';font-size:99.99px;fill:#000000\" text-anchor=\"middle\">5</text>\n",
       "\t<line x1=\"3238.78\" y1=\"1799.13\" x2=\"3238.78\" y2=\"1839.11\" style=\"stroke:#000000;stroke-width:5.76\"/>\n",
       "\t<text x=\"3238.78\" y=\"1929.09\" style=\"font-family:'Helvetica';font-size:99.99px;fill:#000000\" text-anchor=\"middle\">6</text>\n",
       "\t<line x1=\"3702.85\" y1=\"1799.13\" x2=\"3702.85\" y2=\"1839.11\" style=\"stroke:#000000;stroke-width:5.76\"/>\n",
       "\t<text x=\"3702.85\" y=\"1929.09\" style=\"font-family:'Helvetica';font-size:99.99px;fill:#000000\" text-anchor=\"middle\">7</text>\n",
       "\t<text x=\"2124.91\" y=\"2039.10\" style=\"font-family:'Helvetica';font-size:99.99px;fill:#000000\" text-anchor=\"middle\">NS-SEC</text>\n",
       "\t<text x=\"2124.91\" y=\"2139.10\" style=\"font-family:'Helvetica';font-size:99.99px;fill:#000000\" text-anchor=\"middle\">Parental Social Class</text>\n",
       "\t<rect x=\"1008.44\" y=\"2223.73\" width=\"2232.94\" height=\"186.37\" style=\"fill:#FFFFFF\"/>\n",
       "\t<rect x=\"1011.32\" y=\"2226.61\" width=\"2227.19\" height=\"180.61\" style=\"fill:none;stroke:#000000;stroke-width:5.76\"/>\n",
       "\t<circle cx=\"1073.65\" cy=\"2316.92\" r=\"19.91\" style=\"fill:#FFFFFF\"/>\n",
       "\t<circle cx=\"1073.65\" cy=\"2316.92\" r=\"15.59\" style=\"fill:none;stroke:#000000;stroke-width:8.64\"/>\n",
       "\t<polygon points=\"1884.54,2316.92 1912.68,2288.78 1940.82,2316.92 1912.68,2345.06\" style=\"fill:#FFFFFF\"/>\n",
       "\t<polygon points=\"1890.65,2316.92 1912.68,2294.89 1934.71,2316.92 1912.68,2338.95\" style=\"fill:none;stroke:#000000;stroke-width:8.64\"/>\n",
       "\t<rect x=\"2504.22\" y=\"2297.01\" width=\"39.82\" height=\"39.83\" style=\"fill:#FFFFFF\"/>\n",
       "\t<rect x=\"2508.54\" y=\"2301.33\" width=\"31.18\" height=\"31.19\" style=\"fill:none;stroke:#000000;stroke-width:8.64\"/>\n",
       "\t<text x=\"1155.70\" y=\"2351.95\" style=\"font-family:'Helvetica';font-size:99.99px;fill:#000000\">Poor Grades</text>\n",
       "\t<text x=\"1994.60\" y=\"2351.95\" style=\"font-family:'Helvetica';font-size:99.99px;fill:#000000\">Science</text>\n",
       "\t<text x=\"2606.18\" y=\"2351.95\" style=\"font-family:'Helvetica';font-size:99.99px;fill:#000000\">Non-Science</text>\n",
       "\t<text x=\"408.00\" y=\"2503.91\" style=\"font-family:'Helvetica';font-size:60.02px;fill:#000000\"> </text>\n",
       "\t<text x=\"408.00\" y=\"2563.81\" style=\"font-family:'Helvetica';font-size:60.02px;fill:#000000\">All pupils gaining a GCSE pass at grades A*-G, n=67,937, weighted data, YCS Cohorts 5-11.</text>\n",
       "\t<text x=\"408.00\" y=\"2623.83\" style=\"font-family:'Helvetica';font-size:60.02px;fill:#000000\"> </text>\n",
       "\t<text x=\"408.00\" y=\"2683.85\" style=\"font-family:'Helvetica';font-size:60.02px;fill:#000000\">Other variables includes in the model:</text>\n",
       "\t<text x=\"408.00\" y=\"2743.87\" style=\"font-family:'Helvetica';font-size:60.02px;fill:#000000\">Year completed compulsory schooling, Gender, Ethnicity, Housing Tenure, Household Type</text>\n",
       "\t<text x=\"2124.91\" y=\"488.54\" style=\"font-family:'Helvetica';font-size:79.94px;fill:#000000\" text-anchor=\"middle\">Multinomial Logistic Regression Coefficients</text>\n",
       "\t<text x=\"2124.91\" y=\"568.49\" style=\"font-family:'Helvetica';font-size:79.94px;fill:#000000\" text-anchor=\"middle\">(With Quasi Variance Comparison Intervals)</text>\n",
       "\t<text x=\"2124.91\" y=\"648.56\" style=\"font-family:'Helvetica';font-size:79.94px;fill:#000000\" text-anchor=\"middle\"> </text>\n",
       "\t<text x=\"2124.91\" y=\"215.98\" style=\"font-family:'Helvetica';font-size:139.96px;fill:#000000\" text-anchor=\"middle\">Latent Educational Group Membership</text>\n",
       "\t<text x=\"2124.91\" y=\"356.06\" style=\"font-family:'Helvetica';font-size:139.96px;fill:#000000\" text-anchor=\"middle\">Parental Social Class (NS-SEC)</text>\n",
       "</svg>\n"
      ],
      "text/html": [
       "                <iframe frameborder=\"0\" scrolling=\"no\" height=\"436\" width=\"600\"                srcdoc=\"<html><body>&lt;?xml version=&quot;1.0&quot; encoding=&quot;UTF-8&quot; standalone=&quot;no&quot;?&gt;\n",
       "&lt;!-- This is a Stata 16.1 generated SVG file (http://www.stata.com) --&gt;\n",
       "\n",
       "&lt;svg version=&quot;1.1&quot; width=&quot;600px&quot; height=&quot;436px&quot; viewBox=&quot;0 0 3960 2880&quot; xmlns=&quot;http://www.w3.org/2000/svg&quot; xmlns:xlink=&quot;http://www.w3.org/1999/xlink&quot;&gt;\n",
       "\t&lt;desc&gt;Stata Graph - Graph&lt;/desc&gt;\n",
       "\t&lt;rect x=&quot;0&quot; y=&quot;0&quot; width=&quot;3960&quot; height=&quot;2880&quot; style=&quot;fill:#FFFFFF;stroke:none&quot;/&gt;\n",
       "\t&lt;rect x=&quot;0.00&quot; y=&quot;0.00&quot; width=&quot;3959.88&quot; height=&quot;2880.00&quot; style=&quot;fill:#FFFFFF&quot;/&gt;\n",
       "\t&lt;rect x=&quot;2.88&quot; y=&quot;2.88&quot; width=&quot;3954.12&quot; height=&quot;2874.24&quot; style=&quot;fill:none;stroke:#FFFFFF;stroke-width:5.76&quot;/&gt;\n",
       "\t&lt;rect x=&quot;393.68&quot; y=&quot;692.68&quot; width=&quot;3462.46&quot; height=&quot;1103.57&quot; style=&quot;fill:none;stroke:#000000;stroke-width:5.76&quot;/&gt;\n",
       "\t&lt;line x1=&quot;390.80&quot; y1=&quot;1678.84&quot; x2=&quot;3859.02&quot; y2=&quot;1678.84&quot; style=&quot;stroke:#303030;stroke-width:8.64&quot;/&gt;\n",
       "\t&lt;circle cx=&quot;454.04&quot; cy=&quot;1471.80&quot; r=&quot;19.91&quot; style=&quot;fill:#FFFFFF&quot;/&gt;\n",
       "\t&lt;circle cx=&quot;454.04&quot; cy=&quot;1471.80&quot; r=&quot;15.59&quot; style=&quot;fill:none;stroke:#000000;stroke-width:8.64&quot;/&gt;\n",
       "\t&lt;circle cx=&quot;918.23&quot; cy=&quot;1678.84&quot; r=&quot;19.91&quot; style=&quot;fill:#FFFFFF&quot;/&gt;\n",
       "\t&lt;circle cx=&quot;918.23&quot; cy=&quot;1678.84&quot; r=&quot;15.59&quot; style=&quot;fill:none;stroke:#000000;stroke-width:8.64&quot;/&gt;\n",
       "\t&lt;circle cx=&quot;1382.29&quot; cy=&quot;1392.35&quot; r=&quot;19.91&quot; style=&quot;fill:#FFFFFF&quot;/&gt;\n",
       "\t&lt;circle cx=&quot;1382.29&quot; cy=&quot;1392.35&quot; r=&quot;15.59&quot; style=&quot;fill:none;stroke:#000000;stroke-width:8.64&quot;/&gt;\n",
       "\t&lt;circle cx=&quot;1846.35&quot; cy=&quot;1219.59&quot; r=&quot;19.91&quot; style=&quot;fill:#FFFFFF&quot;/&gt;\n",
       "\t&lt;circle cx=&quot;1846.35&quot; cy=&quot;1219.59&quot; r=&quot;15.59&quot; style=&quot;fill:none;stroke:#000000;stroke-width:8.64&quot;/&gt;\n",
       "\t&lt;circle cx=&quot;2310.54&quot; cy=&quot;1093.86&quot; r=&quot;19.91&quot; style=&quot;fill:#FFFFFF&quot;/&gt;\n",
       "\t&lt;circle cx=&quot;2310.54&quot; cy=&quot;1093.86&quot; r=&quot;15.59&quot; style=&quot;fill:none;stroke:#000000;stroke-width:8.64&quot;/&gt;\n",
       "\t&lt;circle cx=&quot;2774.60&quot; cy=&quot;982.36&quot; r=&quot;19.91&quot; style=&quot;fill:#FFFFFF&quot;/&gt;\n",
       "\t&lt;circle cx=&quot;2774.60&quot; cy=&quot;982.36&quot; r=&quot;15.59&quot; style=&quot;fill:none;stroke:#000000;stroke-width:8.64&quot;/&gt;\n",
       "\t&lt;circle cx=&quot;3238.78&quot; cy=&quot;905.01&quot; r=&quot;19.91&quot; style=&quot;fill:#FFFFFF&quot;/&gt;\n",
       "\t&lt;circle cx=&quot;3238.78&quot; cy=&quot;905.01&quot; r=&quot;15.59&quot; style=&quot;fill:none;stroke:#000000;stroke-width:8.64&quot;/&gt;\n",
       "\t&lt;circle cx=&quot;3702.85&quot; cy=&quot;832.86&quot; r=&quot;19.91&quot; style=&quot;fill:#FFFFFF&quot;/&gt;\n",
       "\t&lt;circle cx=&quot;3702.85&quot; cy=&quot;832.86&quot; r=&quot;15.59&quot; style=&quot;fill:none;stroke:#000000;stroke-width:8.64&quot;/&gt;\n",
       "\t&lt;polygon points=&quot;472.31,1618.58 500.44,1590.44 528.58,1618.58 500.44,1646.71&quot; style=&quot;fill:#FFFFFF&quot;/&gt;\n",
       "\t&lt;polygon points=&quot;478.42,1618.58 500.44,1596.55 522.47,1618.58 500.44,1640.60&quot; style=&quot;fill:none;stroke:#000000;stroke-width:8.64&quot;/&gt;\n",
       "\t&lt;polygon points=&quot;936.49,1678.84 964.63,1650.71 992.77,1678.84 964.63,1706.98&quot; style=&quot;fill:#FFFFFF&quot;/&gt;\n",
       "\t&lt;polygon points=&quot;942.60,1678.84 964.63,1656.82 986.66,1678.84 964.63,1700.87&quot; style=&quot;fill:none;stroke:#000000;stroke-width:8.64&quot;/&gt;\n",
       "\t&lt;polygon points=&quot;1400.56,1549.40 1428.69,1521.26 1456.83,1549.40 1428.69,1577.54&quot; style=&quot;fill:#FFFFFF&quot;/&gt;\n",
       "\t&lt;polygon points=&quot;1406.67,1549.40 1428.69,1527.37 1450.72,1549.40 1428.69,1571.43&quot; style=&quot;fill:none;stroke:#000000;stroke-width:8.64&quot;/&gt;\n",
       "\t&lt;polygon points=&quot;1864.62,1415.13 1892.76,1386.99 1920.89,1415.13 1892.76,1443.26&quot; style=&quot;fill:#FFFFFF&quot;/&gt;\n",
       "\t&lt;polygon points=&quot;1870.73,1415.13 1892.76,1393.10 1914.78,1415.13 1892.76,1437.15&quot; style=&quot;fill:none;stroke:#000000;stroke-width:8.64&quot;/&gt;\n",
       "\t&lt;polygon points=&quot;2328.81,1295.83 2356.94,1267.69 2385.08,1295.83 2356.94,1323.96&quot; style=&quot;fill:#FFFFFF&quot;/&gt;\n",
       "\t&lt;polygon points=&quot;2334.91,1295.83 2356.94,1273.80 2378.97,1295.83 2356.94,1317.85&quot; style=&quot;fill:none;stroke:#000000;stroke-width:8.64&quot;/&gt;\n",
       "\t&lt;polygon points=&quot;2792.87,1282.21 2821.01,1254.08 2849.14,1282.21 2821.01,1310.35&quot; style=&quot;fill:#FFFFFF&quot;/&gt;\n",
       "\t&lt;polygon points=&quot;2798.98,1282.21 2821.01,1260.19 2843.03,1282.21 2821.01,1304.24&quot; style=&quot;fill:none;stroke:#000000;stroke-width:8.64&quot;/&gt;\n",
       "\t&lt;polygon points=&quot;3257.05,1222.32 3285.19,1194.18 3313.33,1222.32 3285.19,1250.45&quot; style=&quot;fill:#FFFFFF&quot;/&gt;\n",
       "\t&lt;polygon points=&quot;3263.16,1222.32 3285.19,1200.29 3307.22,1222.32 3285.19,1244.34&quot; style=&quot;fill:none;stroke:#000000;stroke-width:8.64&quot;/&gt;\n",
       "\t&lt;polygon points=&quot;3721.12,1195.46 3749.25,1167.33 3777.39,1195.46 3749.25,1223.60&quot; style=&quot;fill:#FFFFFF&quot;/&gt;\n",
       "\t&lt;polygon points=&quot;3727.23,1195.46 3749.25,1173.43 3771.28,1195.46 3749.25,1217.49&quot; style=&quot;fill:none;stroke:#000000;stroke-width:8.64&quot;/&gt;\n",
       "\t&lt;rect x=&quot;526.94&quot; y=&quot;1496.44&quot; width=&quot;39.82&quot; height=&quot;39.83&quot; style=&quot;fill:#FFFFFF&quot;/&gt;\n",
       "\t&lt;rect x=&quot;531.26&quot; y=&quot;1500.76&quot; width=&quot;31.19&quot; height=&quot;31.19&quot; style=&quot;fill:none;stroke:#000000;stroke-width:8.64&quot;/&gt;\n",
       "\t&lt;rect x=&quot;991.13&quot; y=&quot;1658.93&quot; width=&quot;39.82&quot; height=&quot;39.83&quot; style=&quot;fill:#FFFFFF&quot;/&gt;\n",
       "\t&lt;rect x=&quot;995.45&quot; y=&quot;1663.25&quot; width=&quot;31.19&quot; height=&quot;31.19&quot; style=&quot;fill:none;stroke:#000000;stroke-width:8.64&quot;/&gt;\n",
       "\t&lt;rect x=&quot;1455.19&quot; y=&quot;1464.89&quot; width=&quot;39.82&quot; height=&quot;39.83&quot; style=&quot;fill:#FFFFFF&quot;/&gt;\n",
       "\t&lt;rect x=&quot;1459.51&quot; y=&quot;1469.21&quot; width=&quot;31.19&quot; height=&quot;31.19&quot; style=&quot;fill:none;stroke:#000000;stroke-width:8.64&quot;/&gt;\n",
       "\t&lt;rect x=&quot;1919.37&quot; y=&quot;1341.26&quot; width=&quot;39.82&quot; height=&quot;39.83&quot; style=&quot;fill:#FFFFFF&quot;/&gt;\n",
       "\t&lt;rect x=&quot;1923.69&quot; y=&quot;1345.58&quot; width=&quot;31.19&quot; height=&quot;31.19&quot; style=&quot;fill:none;stroke:#000000;stroke-width:8.64&quot;/&gt;\n",
       "\t&lt;rect x=&quot;2383.44&quot; y=&quot;1287.42&quot; width=&quot;39.82&quot; height=&quot;39.83&quot; style=&quot;fill:#FFFFFF&quot;/&gt;\n",
       "\t&lt;rect x=&quot;2387.76&quot; y=&quot;1291.74&quot; width=&quot;31.18&quot; height=&quot;31.19&quot; style=&quot;fill:none;stroke:#000000;stroke-width:8.64&quot;/&gt;\n",
       "\t&lt;rect x=&quot;2847.50&quot; y=&quot;1230.74&quot; width=&quot;39.82&quot; height=&quot;39.83&quot; style=&quot;fill:#FFFFFF&quot;/&gt;\n",
       "\t&lt;rect x=&quot;2851.82&quot; y=&quot;1235.06&quot; width=&quot;31.18&quot; height=&quot;31.19&quot; style=&quot;fill:none;stroke:#000000;stroke-width:8.64&quot;/&gt;\n",
       "\t&lt;rect x=&quot;3311.69&quot; y=&quot;1160.58&quot; width=&quot;39.82&quot; height=&quot;39.83&quot; style=&quot;fill:#FFFFFF&quot;/&gt;\n",
       "\t&lt;rect x=&quot;3316.01&quot; y=&quot;1164.90&quot; width=&quot;31.18&quot; height=&quot;31.19&quot; style=&quot;fill:none;stroke:#000000;stroke-width:8.64&quot;/&gt;\n",
       "\t&lt;rect x=&quot;3775.75&quot; y=&quot;1159.34&quot; width=&quot;39.82&quot; height=&quot;39.83&quot; style=&quot;fill:#FFFFFF&quot;/&gt;\n",
       "\t&lt;rect x=&quot;3780.07&quot; y=&quot;1163.66&quot; width=&quot;31.18&quot; height=&quot;31.19&quot; style=&quot;fill:none;stroke:#000000;stroke-width:8.64&quot;/&gt;\n",
       "\t&lt;line x1=&quot;454.16&quot; y1=&quot;1431.71&quot; x2=&quot;454.16&quot; y2=&quot;1511.78&quot; style=&quot;stroke:#000000;stroke-width:8.64&quot;/&gt;\n",
       "\t&lt;line x1=&quot;918.23&quot; y1=&quot;1639.12&quot; x2=&quot;918.23&quot; y2=&quot;1718.57&quot; style=&quot;stroke:#000000;stroke-width:8.64&quot;/&gt;\n",
       "\t&lt;line x1=&quot;1382.41&quot; y1=&quot;1373.42&quot; x2=&quot;1382.41&quot; y2=&quot;1411.04&quot; style=&quot;stroke:#000000;stroke-width:8.64&quot;/&gt;\n",
       "\t&lt;line x1=&quot;1846.47&quot; y1=&quot;1198.80&quot; x2=&quot;1846.47&quot; y2=&quot;1240.26&quot; style=&quot;stroke:#000000;stroke-width:8.64&quot;/&gt;\n",
       "\t&lt;line x1=&quot;2310.54&quot; y1=&quot;1071.21&quot; x2=&quot;2310.54&quot; y2=&quot;1116.51&quot; style=&quot;stroke:#000000;stroke-width:8.64&quot;/&gt;\n",
       "\t&lt;line x1=&quot;2774.72&quot; y1=&quot;949.69&quot; x2=&quot;2774.72&quot; y2=&quot;1014.91&quot; style=&quot;stroke:#000000;stroke-width:8.64&quot;/&gt;\n",
       "\t&lt;line x1=&quot;3238.78&quot; y1=&quot;881.87&quot; x2=&quot;3238.78&quot; y2=&quot;928.03&quot; style=&quot;stroke:#000000;stroke-width:8.64&quot;/&gt;\n",
       "\t&lt;line x1=&quot;3702.85&quot; y1=&quot;801.43&quot; x2=&quot;3702.85&quot; y2=&quot;864.17&quot; style=&quot;stroke:#000000;stroke-width:8.64&quot;/&gt;\n",
       "\t&lt;line x1=&quot;500.57&quot; y1=&quot;1548.16&quot; x2=&quot;500.57&quot; y2=&quot;1688.99&quot; style=&quot;stroke:#000000;stroke-width:8.64&quot;/&gt;\n",
       "\t&lt;line x1=&quot;964.63&quot; y1=&quot;1621.92&quot; x2=&quot;964.63&quot; y2=&quot;1735.77&quot; style=&quot;stroke:#000000;stroke-width:8.64&quot;/&gt;\n",
       "\t&lt;line x1=&quot;1428.82&quot; y1=&quot;1515.37&quot; x2=&quot;1428.82&quot; y2=&quot;1583.43&quot; style=&quot;stroke:#000000;stroke-width:8.64&quot;/&gt;\n",
       "\t&lt;line x1=&quot;1892.88&quot; y1=&quot;1377.50&quot; x2=&quot;1892.88&quot; y2=&quot;1452.62&quot; style=&quot;stroke:#000000;stroke-width:8.64&quot;/&gt;\n",
       "\t&lt;line x1=&quot;2356.94&quot; y1=&quot;1255.36&quot; x2=&quot;2356.94&quot; y2=&quot;1336.17&quot; style=&quot;stroke:#000000;stroke-width:8.64&quot;/&gt;\n",
       "\t&lt;line x1=&quot;2821.13&quot; y1=&quot;1220.96&quot; x2=&quot;2821.13&quot; y2=&quot;1343.35&quot; style=&quot;stroke:#000000;stroke-width:8.64&quot;/&gt;\n",
       "\t&lt;line x1=&quot;3285.19&quot; y1=&quot;1177.52&quot; x2=&quot;3285.19&quot; y2=&quot;1266.99&quot; style=&quot;stroke:#000000;stroke-width:8.64&quot;/&gt;\n",
       "\t&lt;line x1=&quot;3749.25&quot; y1=&quot;1135.32&quot; x2=&quot;3749.25&quot; y2=&quot;1255.61&quot; style=&quot;stroke:#000000;stroke-width:8.64&quot;/&gt;\n",
       "\t&lt;line x1=&quot;546.98&quot; y1=&quot;1482.08&quot; x2=&quot;546.98&quot; y2=&quot;1550.51&quot; style=&quot;stroke:#000000;stroke-width:8.64&quot;/&gt;\n",
       "\t&lt;line x1=&quot;1011.04&quot; y1=&quot;1647.04&quot; x2=&quot;1011.04&quot; y2=&quot;1710.53&quot; style=&quot;stroke:#000000;stroke-width:8.64&quot;/&gt;\n",
       "\t&lt;line x1=&quot;1475.22&quot; y1=&quot;1467.60&quot; x2=&quot;1475.22&quot; y2=&quot;1502.00&quot; style=&quot;stroke:#000000;stroke-width:8.64&quot;/&gt;\n",
       "\t&lt;line x1=&quot;1939.29&quot; y1=&quot;1341.62&quot; x2=&quot;1939.29&quot; y2=&quot;1380.72&quot; style=&quot;stroke:#000000;stroke-width:8.64&quot;/&gt;\n",
       "\t&lt;line x1=&quot;2403.35&quot; y1=&quot;1284.57&quot; x2=&quot;2403.35&quot; y2=&quot;1329.98&quot; style=&quot;stroke:#000000;stroke-width:8.64&quot;/&gt;\n",
       "\t&lt;line x1=&quot;2867.53&quot; y1=&quot;1216.13&quot; x2=&quot;2867.53&quot; y2=&quot;1284.94&quot; style=&quot;stroke:#000000;stroke-width:8.64&quot;/&gt;\n",
       "\t&lt;line x1=&quot;3331.60&quot; y1=&quot;1155.86&quot; x2=&quot;3331.60&quot; y2=&quot;1204.87&quot; style=&quot;stroke:#000000;stroke-width:8.64&quot;/&gt;\n",
       "\t&lt;line x1=&quot;3795.66&quot; y1=&quot;1144.60&quot; x2=&quot;3795.66&quot; y2=&quot;1213.78&quot; style=&quot;stroke:#000000;stroke-width:8.64&quot;/&gt;\n",
       "\t&lt;line x1=&quot;390.80&quot; y1=&quot;1799.13&quot; x2=&quot;390.80&quot; y2=&quot;689.80&quot; style=&quot;stroke:#000000;stroke-width:5.76&quot;/&gt;\n",
       "\t&lt;line x1=&quot;390.80&quot; y1=&quot;1678.84&quot; x2=&quot;350.83&quot; y2=&quot;1678.84&quot; style=&quot;stroke:#000000;stroke-width:5.76&quot;/&gt;\n",
       "\t&lt;text x=&quot;300.72&quot; y=&quot;1678.84&quot; style=&quot;font-family:&#x27;Helvetica&#x27;;font-size:99.99px;fill:#000000&quot; transform=&quot;rotate(-90 300.72,1678.84)&quot; text-anchor=&quot;middle&quot;&gt;0&lt;/text&gt;\n",
       "\t&lt;line x1=&quot;390.80&quot; y1=&quot;1493.71&quot; x2=&quot;350.83&quot; y2=&quot;1493.71&quot; style=&quot;stroke:#000000;stroke-width:5.76&quot;/&gt;\n",
       "\t&lt;text x=&quot;300.72&quot; y=&quot;1493.71&quot; style=&quot;font-family:&#x27;Helvetica&#x27;;font-size:99.99px;fill:#000000&quot; transform=&quot;rotate(-90 300.72,1493.71)&quot; text-anchor=&quot;middle&quot;&gt;.5&lt;/text&gt;\n",
       "\t&lt;line x1=&quot;390.80&quot; y1=&quot;1308.57&quot; x2=&quot;350.83&quot; y2=&quot;1308.57&quot; style=&quot;stroke:#000000;stroke-width:5.76&quot;/&gt;\n",
       "\t&lt;text x=&quot;300.72&quot; y=&quot;1308.57&quot; style=&quot;font-family:&#x27;Helvetica&#x27;;font-size:99.99px;fill:#000000&quot; transform=&quot;rotate(-90 300.72,1308.57)&quot; text-anchor=&quot;middle&quot;&gt;1&lt;/text&gt;\n",
       "\t&lt;line x1=&quot;390.80&quot; y1=&quot;1123.44&quot; x2=&quot;350.83&quot; y2=&quot;1123.44&quot; style=&quot;stroke:#000000;stroke-width:5.76&quot;/&gt;\n",
       "\t&lt;text x=&quot;300.72&quot; y=&quot;1123.44&quot; style=&quot;font-family:&#x27;Helvetica&#x27;;font-size:99.99px;fill:#000000&quot; transform=&quot;rotate(-90 300.72,1123.44)&quot; text-anchor=&quot;middle&quot;&gt;1.5&lt;/text&gt;\n",
       "\t&lt;line x1=&quot;390.80&quot; y1=&quot;938.30&quot; x2=&quot;350.83&quot; y2=&quot;938.30&quot; style=&quot;stroke:#000000;stroke-width:5.76&quot;/&gt;\n",
       "\t&lt;text x=&quot;300.72&quot; y=&quot;938.30&quot; style=&quot;font-family:&#x27;Helvetica&#x27;;font-size:99.99px;fill:#000000&quot; transform=&quot;rotate(-90 300.72,938.30)&quot; text-anchor=&quot;middle&quot;&gt;2&lt;/text&gt;\n",
       "\t&lt;line x1=&quot;390.80&quot; y1=&quot;753.17&quot; x2=&quot;350.83&quot; y2=&quot;753.17&quot; style=&quot;stroke:#000000;stroke-width:5.76&quot;/&gt;\n",
       "\t&lt;text x=&quot;300.72&quot; y=&quot;753.17&quot; style=&quot;font-family:&#x27;Helvetica&#x27;;font-size:99.99px;fill:#000000&quot; transform=&quot;rotate(-90 300.72,753.17)&quot; text-anchor=&quot;middle&quot;&gt;2.5&lt;/text&gt;\n",
       "\t&lt;text x=&quot;190.71&quot; y=&quot;1244.47&quot; style=&quot;font-family:&#x27;Helvetica&#x27;;font-size:99.99px;fill:#000000&quot; transform=&quot;rotate(-90 190.71,1244.47)&quot; text-anchor=&quot;middle&quot;&gt;Coefficient&lt;/text&gt;\n",
       "\t&lt;line x1=&quot;390.80&quot; y1=&quot;1799.13&quot; x2=&quot;3859.02&quot; y2=&quot;1799.13&quot; style=&quot;stroke:#000000;stroke-width:5.76&quot;/&gt;\n",
       "\t&lt;line x1=&quot;454.16&quot; y1=&quot;1799.13&quot; x2=&quot;454.16&quot; y2=&quot;1839.11&quot; style=&quot;stroke:#000000;stroke-width:5.76&quot;/&gt;\n",
       "\t&lt;text x=&quot;454.16&quot; y=&quot;1929.09&quot; style=&quot;font-family:&#x27;Helvetica&#x27;;font-size:99.99px;fill:#000000&quot; text-anchor=&quot;middle&quot;&gt;1.1&lt;/text&gt;\n",
       "\t&lt;line x1=&quot;918.23&quot; y1=&quot;1799.13&quot; x2=&quot;918.23&quot; y2=&quot;1839.11&quot; style=&quot;stroke:#000000;stroke-width:5.76&quot;/&gt;\n",
       "\t&lt;text x=&quot;918.23&quot; y=&quot;1929.09&quot; style=&quot;font-family:&#x27;Helvetica&#x27;;font-size:99.99px;fill:#000000&quot; text-anchor=&quot;middle&quot;&gt;1.2&lt;/text&gt;\n",
       "\t&lt;line x1=&quot;1382.41&quot; y1=&quot;1799.13&quot; x2=&quot;1382.41&quot; y2=&quot;1839.11&quot; style=&quot;stroke:#000000;stroke-width:5.76&quot;/&gt;\n",
       "\t&lt;text x=&quot;1382.41&quot; y=&quot;1929.09&quot; style=&quot;font-family:&#x27;Helvetica&#x27;;font-size:99.99px;fill:#000000&quot; text-anchor=&quot;middle&quot;&gt;2&lt;/text&gt;\n",
       "\t&lt;line x1=&quot;1846.47&quot; y1=&quot;1799.13&quot; x2=&quot;1846.47&quot; y2=&quot;1839.11&quot; style=&quot;stroke:#000000;stroke-width:5.76&quot;/&gt;\n",
       "\t&lt;text x=&quot;1846.47&quot; y=&quot;1929.09&quot; style=&quot;font-family:&#x27;Helvetica&#x27;;font-size:99.99px;fill:#000000&quot; text-anchor=&quot;middle&quot;&gt;3&lt;/text&gt;\n",
       "\t&lt;line x1=&quot;2310.54&quot; y1=&quot;1799.13&quot; x2=&quot;2310.54&quot; y2=&quot;1839.11&quot; style=&quot;stroke:#000000;stroke-width:5.76&quot;/&gt;\n",
       "\t&lt;text x=&quot;2310.54&quot; y=&quot;1929.09&quot; style=&quot;font-family:&#x27;Helvetica&#x27;;font-size:99.99px;fill:#000000&quot; text-anchor=&quot;middle&quot;&gt;4&lt;/text&gt;\n",
       "\t&lt;line x1=&quot;2774.72&quot; y1=&quot;1799.13&quot; x2=&quot;2774.72&quot; y2=&quot;1839.11&quot; style=&quot;stroke:#000000;stroke-width:5.76&quot;/&gt;\n",
       "\t&lt;text x=&quot;2774.72&quot; y=&quot;1929.09&quot; style=&quot;font-family:&#x27;Helvetica&#x27;;font-size:99.99px;fill:#000000&quot; text-anchor=&quot;middle&quot;&gt;5&lt;/text&gt;\n",
       "\t&lt;line x1=&quot;3238.78&quot; y1=&quot;1799.13&quot; x2=&quot;3238.78&quot; y2=&quot;1839.11&quot; style=&quot;stroke:#000000;stroke-width:5.76&quot;/&gt;\n",
       "\t&lt;text x=&quot;3238.78&quot; y=&quot;1929.09&quot; style=&quot;font-family:&#x27;Helvetica&#x27;;font-size:99.99px;fill:#000000&quot; text-anchor=&quot;middle&quot;&gt;6&lt;/text&gt;\n",
       "\t&lt;line x1=&quot;3702.85&quot; y1=&quot;1799.13&quot; x2=&quot;3702.85&quot; y2=&quot;1839.11&quot; style=&quot;stroke:#000000;stroke-width:5.76&quot;/&gt;\n",
       "\t&lt;text x=&quot;3702.85&quot; y=&quot;1929.09&quot; style=&quot;font-family:&#x27;Helvetica&#x27;;font-size:99.99px;fill:#000000&quot; text-anchor=&quot;middle&quot;&gt;7&lt;/text&gt;\n",
       "\t&lt;text x=&quot;2124.91&quot; y=&quot;2039.10&quot; style=&quot;font-family:&#x27;Helvetica&#x27;;font-size:99.99px;fill:#000000&quot; text-anchor=&quot;middle&quot;&gt;NS-SEC&lt;/text&gt;\n",
       "\t&lt;text x=&quot;2124.91&quot; y=&quot;2139.10&quot; style=&quot;font-family:&#x27;Helvetica&#x27;;font-size:99.99px;fill:#000000&quot; text-anchor=&quot;middle&quot;&gt;Parental Social Class&lt;/text&gt;\n",
       "\t&lt;rect x=&quot;1008.44&quot; y=&quot;2223.73&quot; width=&quot;2232.94&quot; height=&quot;186.37&quot; style=&quot;fill:#FFFFFF&quot;/&gt;\n",
       "\t&lt;rect x=&quot;1011.32&quot; y=&quot;2226.61&quot; width=&quot;2227.19&quot; height=&quot;180.61&quot; style=&quot;fill:none;stroke:#000000;stroke-width:5.76&quot;/&gt;\n",
       "\t&lt;circle cx=&quot;1073.65&quot; cy=&quot;2316.92&quot; r=&quot;19.91&quot; style=&quot;fill:#FFFFFF&quot;/&gt;\n",
       "\t&lt;circle cx=&quot;1073.65&quot; cy=&quot;2316.92&quot; r=&quot;15.59&quot; style=&quot;fill:none;stroke:#000000;stroke-width:8.64&quot;/&gt;\n",
       "\t&lt;polygon points=&quot;1884.54,2316.92 1912.68,2288.78 1940.82,2316.92 1912.68,2345.06&quot; style=&quot;fill:#FFFFFF&quot;/&gt;\n",
       "\t&lt;polygon points=&quot;1890.65,2316.92 1912.68,2294.89 1934.71,2316.92 1912.68,2338.95&quot; style=&quot;fill:none;stroke:#000000;stroke-width:8.64&quot;/&gt;\n",
       "\t&lt;rect x=&quot;2504.22&quot; y=&quot;2297.01&quot; width=&quot;39.82&quot; height=&quot;39.83&quot; style=&quot;fill:#FFFFFF&quot;/&gt;\n",
       "\t&lt;rect x=&quot;2508.54&quot; y=&quot;2301.33&quot; width=&quot;31.18&quot; height=&quot;31.19&quot; style=&quot;fill:none;stroke:#000000;stroke-width:8.64&quot;/&gt;\n",
       "\t&lt;text x=&quot;1155.70&quot; y=&quot;2351.95&quot; style=&quot;font-family:&#x27;Helvetica&#x27;;font-size:99.99px;fill:#000000&quot;&gt;Poor Grades&lt;/text&gt;\n",
       "\t&lt;text x=&quot;1994.60&quot; y=&quot;2351.95&quot; style=&quot;font-family:&#x27;Helvetica&#x27;;font-size:99.99px;fill:#000000&quot;&gt;Science&lt;/text&gt;\n",
       "\t&lt;text x=&quot;2606.18&quot; y=&quot;2351.95&quot; style=&quot;font-family:&#x27;Helvetica&#x27;;font-size:99.99px;fill:#000000&quot;&gt;Non-Science&lt;/text&gt;\n",
       "\t&lt;text x=&quot;408.00&quot; y=&quot;2503.91&quot; style=&quot;font-family:&#x27;Helvetica&#x27;;font-size:60.02px;fill:#000000&quot;&gt; &lt;/text&gt;\n",
       "\t&lt;text x=&quot;408.00&quot; y=&quot;2563.81&quot; style=&quot;font-family:&#x27;Helvetica&#x27;;font-size:60.02px;fill:#000000&quot;&gt;All pupils gaining a GCSE pass at grades A*-G, n=67,937, weighted data, YCS Cohorts 5-11.&lt;/text&gt;\n",
       "\t&lt;text x=&quot;408.00&quot; y=&quot;2623.83&quot; style=&quot;font-family:&#x27;Helvetica&#x27;;font-size:60.02px;fill:#000000&quot;&gt; &lt;/text&gt;\n",
       "\t&lt;text x=&quot;408.00&quot; y=&quot;2683.85&quot; style=&quot;font-family:&#x27;Helvetica&#x27;;font-size:60.02px;fill:#000000&quot;&gt;Other variables includes in the model:&lt;/text&gt;\n",
       "\t&lt;text x=&quot;408.00&quot; y=&quot;2743.87&quot; style=&quot;font-family:&#x27;Helvetica&#x27;;font-size:60.02px;fill:#000000&quot;&gt;Year completed compulsory schooling, Gender, Ethnicity, Housing Tenure, Household Type&lt;/text&gt;\n",
       "\t&lt;text x=&quot;2124.91&quot; y=&quot;488.54&quot; style=&quot;font-family:&#x27;Helvetica&#x27;;font-size:79.94px;fill:#000000&quot; text-anchor=&quot;middle&quot;&gt;Multinomial Logistic Regression Coefficients&lt;/text&gt;\n",
       "\t&lt;text x=&quot;2124.91&quot; y=&quot;568.49&quot; style=&quot;font-family:&#x27;Helvetica&#x27;;font-size:79.94px;fill:#000000&quot; text-anchor=&quot;middle&quot;&gt;(With Quasi Variance Comparison Intervals)&lt;/text&gt;\n",
       "\t&lt;text x=&quot;2124.91&quot; y=&quot;648.56&quot; style=&quot;font-family:&#x27;Helvetica&#x27;;font-size:79.94px;fill:#000000&quot; text-anchor=&quot;middle&quot;&gt; &lt;/text&gt;\n",
       "\t&lt;text x=&quot;2124.91&quot; y=&quot;215.98&quot; style=&quot;font-family:&#x27;Helvetica&#x27;;font-size:139.96px;fill:#000000&quot; text-anchor=&quot;middle&quot;&gt;Latent Educational Group Membership&lt;/text&gt;\n",
       "\t&lt;text x=&quot;2124.91&quot; y=&quot;356.06&quot; style=&quot;font-family:&#x27;Helvetica&#x27;;font-size:139.96px;fill:#000000&quot; text-anchor=&quot;middle&quot;&gt;Parental Social Class (NS-SEC)&lt;/text&gt;\n",
       "&lt;/svg&gt;\n",
       "</body></html>\"></iframe>\n"
      ],
      "text/plain": [
       "This front-end cannot display the desired image type."
      ]
     },
     "metadata": {
      "image/svg+xml": {
       "height": 436,
       "width": 600
      },
      "text/html": {
       "height": 436,
       "width": 600
      }
     },
     "output_type": "display_data"
    }
   ],
   "source": [
    "set scheme s1mono\n",
    "\n",
    "twoway ///\n",
    "(scatter BETAS1 class1, msymbol(smcircle) mlcolor(black) mfcolor(white)  msize(medium)) ///\n",
    "(scatter BETAS2 class2, msymbol(smdiamond) mlcolor(black) mfcolor(white)  msize(medium))  ///\n",
    "(scatter BETAS3 class3, msymbol(smsquare) mlcolor(black) mfcolor(white)  msize(medium))  ///\n",
    "(rspike upperq1 lowerq1 class1, blcolor(black) blwidth(medium)) ///\n",
    "(rspike upperq2 lowerq2 class2, blcolor(black) blwidth(medium)) ///\n",
    "(rspike upperq3 lowerq3 class3, blcolor(black) blwidth(medium)) ///\n",
    ", ///\n",
    "\ttitle(\"Latent Educational Group Membership\" \"Parental Social Class (NS-SEC)\", size(large) justification(center) ) ///\n",
    "\tsubtitle(\"Multinomial Logistic Regression Coefficients\" \"(With Quasi Variance Comparison Intervals)\" \" \", size(small) justification(center) ) ///\n",
    "\txlabel(1 \"1.1\" 2 \"1.2\" 3 \"2\" 4 \"3\" 5 \"4\" 6 \"5\" 7 \"6\" 8 \"7\") ///\n",
    "\txtitle(\"NS-SEC\" \"Parental Social Class\") ///\n",
    "\tytitle(\"Coefficient\") ///\n",
    "\tyline(0) ///\n",
    "\tlegend(order(\t1 \"Poor Grades\" ///\n",
    "\t\t\t\t\t2 \"Science\" ///\n",
    "\t\t\t\t\t3 \"Non-Science\" ) rows(1)) ///\n",
    "\tnote(\t\" \" ///\n",
    "\t\t\t\"All pupils gaining a GCSE pass at grades A*-G, n=67,937, weighted data, YCS Cohorts 5-11.\" ///\n",
    "\t\t\t\" \" ///\n",
    "\t\t\t\"Other variables includes in the model:\" ///\n",
    "\t\t\t\"Year completed compulsory schooling, Gender, Ethnicity, Housing Tenure, Household Type\", size(vsmall) )"
   ]
  },
  {
   "cell_type": "markdown",
   "metadata": {},
   "source": [
    "**END OF FILE**\n",
    "\n",
    "[Go to Contents](#contents)"
   ]
  },
  {
   "cell_type": "code",
   "execution_count": null,
   "metadata": {},
   "outputs": [],
   "source": []
  }
 ],
 "metadata": {
  "kernelspec": {
   "display_name": "Stata",
   "language": "stata",
   "name": "stata"
  },
  "language_info": {
   "codemirror_mode": "stata",
   "file_extension": ".do",
   "mimetype": "text/x-stata",
   "name": "stata",
   "version": "15.1"
  }
 },
 "nbformat": 4,
 "nbformat_minor": 4
}
