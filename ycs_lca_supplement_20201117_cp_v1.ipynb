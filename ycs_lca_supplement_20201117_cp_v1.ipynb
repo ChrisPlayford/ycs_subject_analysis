{
 "cells": [
  {
   "cell_type": "markdown",
   "metadata": {},
   "source": [
    "# <center> Investigating Patterns of Inequality in School GCSE Outcomes <br>\n",
    "<br>\n",
    "<br>"
   ]
  },
  {
   "cell_type": "markdown",
   "metadata": {},
   "source": [
    "## Online-only supplement"
   ]
  },
  {
   "cell_type": "markdown",
   "metadata": {},
   "source": [
    "This analysis is part of the ESRC 'Parental Social Class and Filial School Level Educational Outcomes in Contemporary Britain: Analysis of Understanding Society and Administrative Data' project.\n",
    "\n",
    "Funder: This work was supported by the ESRC under Grant ES/R004978/1.\n",
    "\n",
    "Collaborators:\n",
    "\n",
    "Christopher Playford, University of Exeter  \n",
    "Vernon Gayle, University of Edinburgh  \n",
    "Roxanne Connelly, University of Edinburgh  \n",
    "\n",
    "© Christopher Playford, University of Exeter.\n",
    "\n",
    "Dr Chris Playford (c.j.playford@exeter.ac.uk)  \n",
    "http://socialsciences.exeter.ac.uk/sociology/staff/playford/  \n",
    "https://orcid.org/0000-0002-6069-4898  \n",
    "Twitter: @playford_chris"
   ]
  },
  {
   "cell_type": "markdown",
   "metadata": {},
   "source": [
    "---"
   ]
  },
  {
   "cell_type": "markdown",
   "metadata": {},
   "source": [
    "### Table of Contents: <a class=\"anchor\" id=\"contents\"></a>\n",
    "* [Data](#data)\n",
    "* [Preparation of Stata](#stataprep)\n",
    "* [Data Management](#dataman)\n",
    "* [Tables and figures](#tabsfigs)\n",
    "* [Table A1](#tab1)\n",
    "* [Table A2](#tab2)\n",
    "* [Table A3](#tab3)\n",
    "* [Table A4](#tab4)\n",
    "* [Table A5](#tab5)\n",
    "* [Table A6](#tab6)\n",
    "* [Table A7](#tab7)\n",
    "* [Table A8](#tab8)\n",
    "* [Table A9](#tab9)\n",
    "* [Table A10](#tab10)\n",
    "* [Table A11](#tab11)\n",
    "* [Table A12](#tab12)\n",
    "* [Table A13](#tab13)\n",
    "* [Table A14](#tab14)\n",
    "* [Table A15](#tab15)"
   ]
  },
  {
   "cell_type": "markdown",
   "metadata": {},
   "source": [
    "---"
   ]
  },
  {
   "cell_type": "markdown",
   "metadata": {},
   "source": [
    "## Data <a class=\"anchor\" id=\"data\"></a>\n",
    "\n",
    "[Go to Contents](#contents)\n",
    "\n",
    "This study includes data from YCS cohorts 5-11 and the Youth Cohort Time Series.\n",
    "\n",
    "Courtenay, G. (1996). Youth Cohort Study of England and Wales, 1991-1993; Cohort Five, Sweep One to Three. [data collection]. UK Data Service. SN: 3531, http://doi.org/10.5255/UKDA-SN-3531-1\n",
    "\n",
    "Courtenay, G. (1996). Youth Cohort Study of England and Wales, 1992-1994; Cohort Six, Sweep One to Three. [data collection]. UK Data Service. SN: 3532, http://doi.org/10.5255/UKDA-SN-3532-1\n",
    "\n",
    "Courtenay, G. (2000). Youth Cohort Study of England and Wales, 1994-1996; Cohort Seven, Sweep One and Two. [data collection]. 2nd Edition. UK Data Service. SN: 3533, http://doi.org/10.5255/UKDA-SN-3533-1\n",
    "\n",
    "Nice, D., McAleese, I., Russell, N., Finch, S. (2002). Youth Cohort Study of England and Wales, 1996-2000; Cohort Eight, Sweep One to Three. [data collection]. 3rd Edition. UK Data Service. SN: 3805, http://doi.org/10.5255/UKDA-SN-3805-1\n",
    "\n",
    "Russell, N., Finch, S., McAleese, I., Nice, D., Fitzgerald, R., La Valle, I. (2004). Youth Cohort Study of England and Wales, 1998-2000; Cohort Nine, Sweep One to Four. [data collection]. 5th Edition. UK Data Service. SN: 4009, http://doi.org/10.5255/UKDA-SN-4009-1\n",
    "\n",
    "Fitzgerald, R. (2004). Youth Cohort Study of England and Wales, 2000-2002; Cohort Ten, Sweep One, Two and Three. [data collection]. 2nd Edition. UK Data Service. SN: 4571, http://doi.org/10.5255/UKDA-SN-4571-1\n",
    "\n",
    "Johnson, M., Exley, S., Robinson, C., Park, A., Jarvis, L., Phillips, M. (2006). Youth Cohort Study of England and Wales, 2002-2005; Cohort Eleven, Sweep One to Four. [data collection]. UK Data Service. SN: 5452, http://doi.org/10.5255/UKDA-SN-5452-1\n",
    "\n",
    "Shapira, M., Iannelli, C., Croxford, L. (2007). Youth Cohort Time Series for England, Wales and Scotland, 1984-2002. [data collection]. Scottish Centre for Social Research, University of Edinburgh, Centre for Educational Sociology, National Centre for Social Research, [original data producer(s)]. Scottish Centre for Social Research. SN: 5765, http://doi.org/10.5255/UKDA-SN-5765-1"
   ]
  },
  {
   "cell_type": "markdown",
   "metadata": {},
   "source": [
    "---"
   ]
  },
  {
   "cell_type": "markdown",
   "metadata": {},
   "source": [
    "## Preparation of Stata <a class=\"anchor\" id=\"stataprep\"></a>"
   ]
  },
  {
   "cell_type": "markdown",
   "metadata": {},
   "source": [
    "[Go to Contents](#contents) \n",
    "<br>\n",
    "<br>\n",
    "Here we ensure version 16 of Stata is used."
   ]
  },
  {
   "cell_type": "code",
   "execution_count": 1,
   "metadata": {},
   "outputs": [],
   "source": [
    "version 16"
   ]
  },
  {
   "cell_type": "markdown",
   "metadata": {},
   "source": [
    "**You will need the doLCA package from Penn State**"
   ]
  },
  {
   "cell_type": "markdown",
   "metadata": {},
   "source": [
    "LCA Stata Plugin (Version 1.2) [Software]. (2015). University Park: The Methodology Center, Penn State. Retrieved from methodology.psu.edu on 17th November 2020.\n",
    "\n",
    "Lanza, S. T., Dziak, J. J., Huang, L., Wagner, A. T., & Collins, L. M. (2015). LCA Stata plugin users’ guide (Version 1.2). University Park: The Methodology Center, Penn State. Retrieved from methodology.psu.edu on 17th November 2020.  \n",
    "\n",
    "This script uses the x64 version 1.3.2. This can be downloaded using the first URL and installation instructions are provided in the second URL."
   ]
  },
  {
   "cell_type": "markdown",
   "metadata": {},
   "source": [
    "https://www.methodology.psu.edu/downloads/lcastata/\n",
    "\n",
    "https://www.methodology.psu.edu/files/2019/03/Stata-LCA-Plugin-v1.2c-2e00dl9.pdf"
   ]
  },
  {
   "cell_type": "markdown",
   "metadata": {},
   "source": [
    "You will also need the Quasi Variance package (uncomment to install):"
   ]
  },
  {
   "cell_type": "code",
   "execution_count": 2,
   "metadata": {},
   "outputs": [],
   "source": [
    "* ssc install qv"
   ]
  },
  {
   "cell_type": "markdown",
   "metadata": {},
   "source": [
    "**File Paths**"
   ]
  },
  {
   "cell_type": "code",
   "execution_count": 3,
   "metadata": {},
   "outputs": [],
   "source": [
    " global path5 \"C:\\temp\\github_ycs_subject_analysis\\raw_data\\YCS_Cohort_5_Download\\stata8\\\"\n",
    " global path6 \"C:\\temp\\github_ycs_subject_analysis\\raw_data\\YCS_Cohort_6_Download\\stata8\\\"\n",
    " global path7 \"C:\\temp\\github_ycs_subject_analysis\\raw_data\\YCS_Cohort_7_Download\\stata8\\\"\n",
    " global path8 \"C:\\temp\\github_ycs_subject_analysis\\raw_data\\YCS_Cohort_8_Download\\stata8\\\"\n",
    " global path9 \"C:\\temp\\github_ycs_subject_analysis\\raw_data\\YCS_Cohort_9_Download\\stata8\\\"\n",
    "global path10 \"C:\\temp\\github_ycs_subject_analysis\\raw_data\\YCS_Cohort_10_Download\\stata8_se\\\"\n",
    "global path11 \"C:\\temp\\github_ycs_subject_analysis\\raw_data\\YCS_Cohort_11_Download\\stata8_se\\\"\n",
    "global path12 \"C:\\temp\\github_ycs_subject_analysis\\raw_data\\YCS_Cohort_12_Download\\stata8\\\"\n",
    "global path13 \"C:\\temp\\github_ycs_subject_analysis\\raw_data\\YCS_Cohort_13_Download\\stata9\\\"\n",
    "\n",
    " global path2 \"C:\\temp\\github_ycs_subject_analysis\\\"\n",
    " global path3 \"C:\\temp\\github_ycs_subject_analysis\\data\\\"\n",
    " global path4 \"C:\\temp\\github_ycs_subject_analysis\\raw_data\\YCS_time_series\\stata8\\\""
   ]
  },
  {
   "cell_type": "markdown",
   "metadata": {},
   "source": [
    "---"
   ]
  },
  {
   "cell_type": "markdown",
   "metadata": {},
   "source": [
    "## Data Management <a class=\"anchor\" id=\"dataman\"></a>"
   ]
  },
  {
   "cell_type": "markdown",
   "metadata": {},
   "source": [
    "[Go to Contents](#contents) \n",
    "<br>"
   ]
  },
  {
   "cell_type": "markdown",
   "metadata": {},
   "source": [
    "You will need to run the files below. The files have been written in order and are intended to be run sequentially. Details are in the README.md on: \n",
    "\n",
    "https://github.com/ChrisPlayford/ycs_subject_analysis\n",
    "\n",
    "1_ycs_datasets_file_paths.do  \n",
    "2_ycs5_gsce_subjects.do  \n",
    "2_ycs6_gsce_subjects.do  \n",
    "2_ycs7_gsce_subjects.do  \n",
    "2_ycs8_gsce_subjects.do  \n",
    "2_ycs9_gsce_subjects.do\n",
    "2_ycs10_gsce_subjects.do  \n",
    "2_ycs11_gsce_subjects.do  \n",
    "3_soc2000_labels.do  \n",
    "3_ycs10_background_vars.do  \n",
    "3_ycs10_background_vars_check.do  \n",
    "3_ycs10_soc2000_recode.do  \n",
    "3_ycs11_background_vars.do  \n",
    "3_ycs5_789_background_vars.do  \n",
    "3_ycs6_background_vars.do  \n",
    "4_inspection_background_vars_datasets.do  \n",
    "4_inspection_gcse_subjects_datasets.do  \n",
    "4_ycs5_11_append_merge.do  \n",
    "4_ycs5_11_link_class_variables.do  \n",
    "4_ycs5_11_recoding_preparation.do  \n",
    "5_ycs5_11_file1_exploratory_lca.do  \n",
    "5_ycs5_11_file2_assignment.do  \n",
    "5_ycs5_11_file3_exploratory_mlogit.do  "
   ]
  },
  {
   "cell_type": "markdown",
   "metadata": {},
   "source": [
    "---"
   ]
  },
  {
   "cell_type": "markdown",
   "metadata": {},
   "source": [
    "# Tables and figures <a class=\"anchor\" id=\"tabsfigs\"></a>"
   ]
  },
  {
   "cell_type": "markdown",
   "metadata": {},
   "source": [
    "[Go to Contents](#contents) \n",
    "<br>"
   ]
  },
  {
   "cell_type": "markdown",
   "metadata": {},
   "source": [
    "### Table A1 <a class=\"anchor\" id=\"tab1\"></a>\n",
    "*Agglomerate measures of GCSE attainment: YCS Cohort 5-11.*\n",
    "\n",
    "All pupils gaining a GCSE pass at grades A*-G, n = 67,937; weighted data\n",
    "\n",
    "*GCSE points score as per Croxford, Iannelli, and Shapira (2007): 7 points for an A star/A, 6 points for a B, 5 points for a C, 4 points for a D, 3 points for an E, 2 points for an F and 1 point for a G. The score is capped at a maximum of 84 points per individual.*"
   ]
  },
  {
   "cell_type": "markdown",
   "metadata": {},
   "source": [
    "[Go to Contents](#contents) \n",
    "<br>"
   ]
  },
  {
   "cell_type": "code",
   "execution_count": 4,
   "metadata": {},
   "outputs": [],
   "source": [
    "use $path3\\ycs5_to_11_set5.dta, clear\n",
    "numlabel _all, add"
   ]
  },
  {
   "cell_type": "code",
   "execution_count": 5,
   "metadata": {},
   "outputs": [],
   "source": [
    "estimates clear\n",
    "capture matrix drop _all"
   ]
  },
  {
   "cell_type": "code",
   "execution_count": 6,
   "metadata": {},
   "outputs": [],
   "source": [
    "qui: svy: tab t03cat if sample3==1\n",
    "matrix a =  e(b)\n",
    "\n",
    "qui: svy: tab t03cat_em if sample3==1\n",
    "matrix b =  e(b)\n",
    "\n",
    "qui: svy: mean t0score2 if sample3==1\t\t/* This is capped at 84 points */ \n",
    "matrix c =  e(b)\n",
    "\n",
    "qui: svy: mean t0examst if sample3==1\n",
    "matrix d =  e(b)\n",
    "\n",
    "qui: svy: mean t0examac if sample3==1\n",
    "matrix e =  e(b)\n",
    "\n",
    "qui: svy: mean t0examaf if sample3==1\n",
    "matrix f =  e(b)"
   ]
  },
  {
   "cell_type": "code",
   "execution_count": 7,
   "metadata": {},
   "outputs": [],
   "source": [
    "* Matrix of estimates (horizontally concatenated and transposed)\n",
    "\n",
    "matrix g = (a,b,c,d,e,f)'"
   ]
  },
  {
   "cell_type": "code",
   "execution_count": 8,
   "metadata": {},
   "outputs": [],
   "source": [
    "* Rownames for matrix\n",
    "\n",
    "matrix rownames g = \"0 A*-C passes\" \"1-4 A*-C passes\" \"5+ A*-C passes\" \"0 A*-C inc E & M\" \"1-4 A*-C inc E & M\" \"5+ A*-C inc E & M\" \"Mean GCSE points score\" \"Mean number of GCSEs studied\" \"Mean number of A*–C passes\" \"Mean number of A*–F passes\""
   ]
  },
  {
   "cell_type": "code",
   "execution_count": 9,
   "metadata": {},
   "outputs": [],
   "source": [
    "* Rounding the values\n",
    "\n",
    "forval i = 1/6 {\n",
    "matrix g[`i',1] = round(g[`i',1], 0.01)\n",
    "}\n",
    "\n",
    "forval i = 7/10 {\n",
    "matrix g[`i',1] = round(g[`i',1], 0.1)\n",
    "}"
   ]
  },
  {
   "cell_type": "code",
   "execution_count": 10,
   "metadata": {},
   "outputs": [],
   "source": [
    "* Break this down by YCS cohort\n",
    "* Have to use svy: proportion to store column percentages in matrices.\n",
    "\n",
    "estimates clear\n",
    "\n",
    "* 0 A*-C passes / 1-4 A*-C passes / 5+ A*-C passes\n",
    "\n",
    "qui: svy: proportion t03cat if sample3==1, over(t0cohort)\n",
    "matrix h1 = e(b)\n",
    "\n",
    "matrix h = h1[1 , 1..7] \\ h1[1 , 8..14] \\ h1[1 , 15..21]"
   ]
  },
  {
   "cell_type": "code",
   "execution_count": 11,
   "metadata": {},
   "outputs": [],
   "source": [
    "* 0 A*-C including English and Maths / 1-4 A*-C including English and Maths / 5+ A*-C including English and Maths\n",
    "\n",
    "qui: svy: proportion t03cat_em if sample3==1, over(t0cohort)\n",
    "matrix i1 = e(b)\n",
    "\n",
    "matrix i = i1[1 , 1..7] \\ i1[1 , 8..14] \\ i1[1 , 15..21]"
   ]
  },
  {
   "cell_type": "code",
   "execution_count": 12,
   "metadata": {},
   "outputs": [],
   "source": [
    "qui: svy: mean t0score2 if sample3==1, over(t0cohort)\t\t/* Mean GCSE points score - this is capped at 84 points */ \n",
    "matrix j = e(b)\n",
    "\n",
    "qui: svy: mean t0examst if sample3==1, over(t0cohort)\t\t/* Mean number of GCSEs studied */ \n",
    "matrix k = e(b)\n",
    "\n",
    "qui: svy: mean t0examac if sample3==1, over(t0cohort)\t\t/* Mean number of A*–C passes */ \n",
    "matrix l = e(b)\n",
    "\n",
    "qui: svy: mean t0examaf if sample3==1, over(t0cohort)\t\t/* Mean number of A*–F passes */ \n",
    "matrix m = e(b)"
   ]
  },
  {
   "cell_type": "code",
   "execution_count": 13,
   "metadata": {},
   "outputs": [],
   "source": [
    "* Matrix of estimates (vertically and horizontally concatenated)\n",
    "\n",
    "matrix n = (h\\i\\j\\k\\l\\m),g"
   ]
  },
  {
   "cell_type": "code",
   "execution_count": 14,
   "metadata": {},
   "outputs": [],
   "source": [
    "* Rownames for matrix\n",
    "\n",
    "matrix rownames n = \"0 A*-C passes\" \"1-4 A*-C passes\" \"5+ A*-C passes\" \"0 A*-C inc E & M\" \"1-4 A*-C inc E & M\" \"5+ A*-C inc E & M\" \"Mean GCSE points score\" \"Mean number of GCSEs studied\" \"Mean number of A*–C passes\" \"Mean number of A*–F passes\"\n",
    "matrix colnames n = \":1990\" \":1992\" \":1993\" \":1995\" \":1997\" \":1999\" \":2001\" \"Total\""
   ]
  },
  {
   "cell_type": "code",
   "execution_count": 15,
   "metadata": {},
   "outputs": [],
   "source": [
    "* Rounding the values\n",
    "\n",
    "forval i = 1/6 {\n",
    "\tforval j = 1/8 {\n",
    "\t\tmatrix n[`i',`j'] = round(n[`i',`j'], 0.01)\n",
    "}\n",
    "}\n",
    "\n",
    "forval i = 7/10 {\n",
    "\tforval j = 1/8 {\n",
    "\t\tmatrix n[`i',`j'] = round(n[`i',`j'], 0.1)\n",
    "}\n",
    "}"
   ]
  },
  {
   "cell_type": "code",
   "execution_count": 16,
   "metadata": {},
   "outputs": [
    {
     "name": "stdout",
     "output_type": "stream",
     "text": [
      "\n",
      "\n",
      "n[10,8]\n",
      "               1990   1992   1993   1995   1997   1999   2001  Total\n",
      "0 A*-C pas~s    .19    .18    .18    .17    .16    .15    .14    .17\n",
      "1-4 A*-C p~s    .38    .36    .32    .29    .27    .26    .27    .31\n",
      "5+ A*-C pa~s    .43    .46    .51    .54    .57    .59    .59    .52\n",
      "0 A*-C inc~M     .6    .56    .54    .54    .52    .49    .48    .53\n",
      "1-4 A*-C i~M    .05    .05    .04    .02    .02    .02    .03    .03\n",
      "5+ A*-C in~M    .36    .39    .43    .44    .46    .48     .5    .43\n",
      "Mean GCSE ~e   34.9   37.2   39.1   42.8   42.9     45   41.7   40.2\n",
      "Mean numbe~d    8.5    8.1    8.1    8.6    8.4    8.7    8.6    8.4\n",
      "Mean numbe~s    4.1    4.3    4.7    5.1    5.3    5.6    5.3    4.9\n",
      "Mean numbe~s    7.5    7.9    8.2    8.9    8.8    9.2    8.4    8.4\n"
     ]
    }
   ],
   "source": [
    "matrix list n"
   ]
  },
  {
   "cell_type": "markdown",
   "metadata": {},
   "source": [
    "---"
   ]
  },
  {
   "cell_type": "markdown",
   "metadata": {},
   "source": [
    "### Table A2 <a class=\"anchor\" id=\"tab2\"></a>\n",
    "*Logistic regression models (survey weighted) for school GCSE attainment in Year 11*\n",
    "\n",
    "All pupils gaining a GCSE pass at grades A*-G, n=67,937, weighted data, YCS Cohorts 5-11.\n",
    "Coefficients reported are log odds. Pseudo R2 estimated for unweighted data."
   ]
  },
  {
   "cell_type": "markdown",
   "metadata": {},
   "source": [
    "[Go to Contents](#contents) \n",
    "<br>"
   ]
  },
  {
   "cell_type": "code",
   "execution_count": 17,
   "metadata": {},
   "outputs": [],
   "source": [
    "estimates clear\n",
    "\n",
    "use $path3\\ycs5_to_11_set5.dta, clear\n",
    "numlabel _all, rem"
   ]
  },
  {
   "cell_type": "code",
   "execution_count": 18,
   "metadata": {},
   "outputs": [
    {
     "name": "stdout",
     "output_type": "stream",
     "text": [
      "\n",
      "(50,483 observations deleted)\n",
      "\n",
      "  67,937\n"
     ]
    }
   ],
   "source": [
    "* Latent class sample\n",
    "\n",
    "keep if sample3==1\n",
    "count"
   ]
  },
  {
   "cell_type": "code",
   "execution_count": 19,
   "metadata": {},
   "outputs": [
    {
     "name": "stdout",
     "output_type": "stream",
     "text": [
      "\n",
      " Gained 5+ GCSE |\n",
      "    A*-C passes |      Freq.     Percent        Cum.\n",
      "----------------+-----------------------------------\n",
      "0-4 A*-C passes |     25,625       37.72       37.72\n",
      " 5+ A*-C passes |     42,312       62.28      100.00\n",
      "----------------+-----------------------------------\n",
      "          Total |     67,937      100.00\n"
     ]
    }
   ],
   "source": [
    "* Outcome: Gained 5+ GCSE A*-C passes\n",
    "\n",
    "tab t0fiveac, mi"
   ]
  },
  {
   "cell_type": "code",
   "execution_count": 20,
   "metadata": {},
   "outputs": [
    {
     "name": "stdout",
     "output_type": "stream",
     "text": [
      "\n",
      "\n",
      "Iteration 0:   log pseudolikelihood = -43455.441  \n",
      "Iteration 1:   log pseudolikelihood = -39614.646  \n",
      "Iteration 2:   log pseudolikelihood = -39610.829  \n",
      "Iteration 3:   log pseudolikelihood = -39610.828  \n",
      "\n",
      "Logistic regression                             Number of obs     =     67,937\n",
      "                                                Wald chi2(25)     =    5832.26\n",
      "                                                Prob > chi2       =     0.0000\n",
      "Log pseudolikelihood = -39610.828               Pseudo R2         =     0.0885\n",
      "\n",
      "-------------------------------------------------------------------------------\n",
      "              |               Robust\n",
      "     t0fiveac |      Coef.   Std. Err.      z    P>|z|     [95% Conf. Interval]\n",
      "--------------+----------------------------------------------------------------\n",
      "     t0cohort |\n",
      "        1992  |   .0890812   .0327008     2.72   0.006     .0249888    .1531736\n",
      "        1993  |   .3022963   .0340269     8.88   0.000     .2356049    .3689877\n",
      "        1995  |   .4591983   .0343434    13.37   0.000     .3918864    .5265102\n",
      "        1997  |    .603567   .0352507    17.12   0.000     .5344769    .6726571\n",
      "        1999  |   .6939614   .0384092    18.07   0.000     .6186807    .7692421\n",
      "        2001  |    .707095   .0356092    19.86   0.000     .6373023    .7768877\n",
      "              |\n",
      "        t0sex |\n",
      "        male  |   -.470105   .0183571   -25.61   0.000    -.5060843   -.4341256\n",
      "              |\n",
      "     t0ethnic |\n",
      "       black  |  -.2547947    .082702    -3.08   0.002    -.4168877   -.0927017\n",
      "      indian  |    .268707   .0598682     4.49   0.000     .1513675    .3860465\n",
      "   pakistani  |  -.2856529   .0800548    -3.57   0.000    -.4425574   -.1287484\n",
      " bangladeshi  |    .235243   .1588815     1.48   0.139     -.076159     .546645\n",
      " other asian  |   .8405946   .1099523     7.65   0.000     .6250921    1.056097\n",
      "other resp..  |   .0894251   .1001488     0.89   0.372     -.106863    .2857133\n",
      "              |\n",
      "      t0house |\n",
      "      rented  |   -.759041   .0287784   -26.38   0.000    -.8154455   -.7026364\n",
      "       other  |  -.2314358   .0815106    -2.84   0.005    -.3911936   -.0716781\n",
      "              |\n",
      "       t0stay |\n",
      " mother only  |   -.052559   .0305393    -1.72   0.085    -.1124148    .0072969\n",
      " father only  |  -.4065455   .0554337    -7.33   0.000    -.5151936   -.2978974\n",
      "other resp..  |  -.4652266   .0834186    -5.58   0.000     -.628724   -.3017292\n",
      "              |\n",
      " t0par_nssec2 |\n",
      "1.1 Large ..  |  -.4473476   .0509502    -8.78   0.000     -.547208   -.3474871\n",
      "2 Lower ma..  |  -.6176983   .0392003   -15.76   0.000    -.6945295    -.540867\n",
      "3 Intermed..  |   -1.01466   .0405102   -25.05   0.000    -1.094058   -.9352612\n",
      "4 Small em..  |  -1.318175   .0420812   -31.32   0.000    -1.400653   -1.235698\n",
      "5 Lower su..  |  -1.499854   .0496099   -30.23   0.000    -1.597087    -1.40262\n",
      "6 Semi-rou..  |  -1.700803   .0431119   -39.45   0.000    -1.785301   -1.616305\n",
      "   7 Routine  |  -1.858621    .049453   -37.58   0.000    -1.955547   -1.761695\n",
      "              |\n",
      "        _cons |   1.069422    .043112    24.81   0.000     .9849242     1.15392\n",
      "-------------------------------------------------------------------------------\n",
      "\n"
     ]
    }
   ],
   "source": [
    "* Logistic regression model\n",
    "\n",
    "logit t0fiveac\ti.t0cohort ///\n",
    "\t\t\t\tib2.t0sex ///\n",
    "\t\t\t\ti.t0ethnic ///\n",
    "\t\t\t\ti.t0house ///\n",
    "\t\t\t\ti.t0stay ///\n",
    "\t\t\t\tib2.t0par_nssec2 ///\n",
    "\t\t\t\t\t[pw=t1weight]\n",
    "est store a"
   ]
  },
  {
   "cell_type": "code",
   "execution_count": 21,
   "metadata": {},
   "outputs": [
    {
     "name": "stdout",
     "output_type": "stream",
     "text": [
      "\n",
      " Gained 5+ GCSE |\n",
      "    A*-C passes |\n",
      " inc. English & |\n",
      "          Maths |      Freq.     Percent        Cum.\n",
      "----------------+-----------------------------------\n",
      "0-4 A*-C passes |     32,756       48.22       48.22\n",
      " 5+ A*-C passes |     35,181       51.78      100.00\n",
      "----------------+-----------------------------------\n",
      "          Total |     67,937      100.00\n"
     ]
    }
   ],
   "source": [
    "* Model 2: 5+ A*-C with English Maths\n",
    "\n",
    "* Outcome: Gained 5+ GCSE A*-C passes (inc. Englishs and Maths)\n",
    "\n",
    "tab t0fiveac_em, mi"
   ]
  },
  {
   "cell_type": "code",
   "execution_count": 22,
   "metadata": {},
   "outputs": [
    {
     "name": "stdout",
     "output_type": "stream",
     "text": [
      "\n",
      "\n",
      "Iteration 0:   log pseudolikelihood = -42954.007  \n",
      "Iteration 1:   log pseudolikelihood = -39453.546  \n",
      "Iteration 2:   log pseudolikelihood = -39431.767  \n",
      "Iteration 3:   log pseudolikelihood = -39431.759  \n",
      "Iteration 4:   log pseudolikelihood = -39431.759  \n",
      "\n",
      "Logistic regression                             Number of obs     =     67,937\n",
      "                                                Wald chi2(25)     =    5698.54\n",
      "                                                Prob > chi2       =     0.0000\n",
      "Log pseudolikelihood = -39431.759               Pseudo R2         =     0.0820\n",
      "\n",
      "-------------------------------------------------------------------------------\n",
      "              |               Robust\n",
      "  t0fiveac_em |      Coef.   Std. Err.      z    P>|z|     [95% Conf. Interval]\n",
      "--------------+----------------------------------------------------------------\n",
      "     t0cohort |\n",
      "        1992  |   .1360148   .0327155     4.16   0.000     .0718937     .200136\n",
      "        1993  |   .2986601   .0338216     8.83   0.000      .232371    .3649493\n",
      "        1995  |   .3642091   .0337244    10.80   0.000     .2981104    .4303077\n",
      "        1997  |   .4801379   .0343508    13.98   0.000     .4128116    .5474641\n",
      "        1999  |   .5440147   .0367177    14.82   0.000     .4720493      .61598\n",
      "        2001  |   .6525871   .0344989    18.92   0.000     .5849706    .7202037\n",
      "              |\n",
      "        t0sex |\n",
      "        male  |  -.2863706     .01772   -16.16   0.000    -.3211012   -.2516401\n",
      "              |\n",
      "     t0ethnic |\n",
      "       black  |  -.4129946   .0827041    -4.99   0.000    -.5750916   -.2508976\n",
      "      indian  |   .2426442   .0568113     4.27   0.000     .1312962    .3539923\n",
      "   pakistani  |  -.3521101   .0818012    -4.30   0.000    -.5124376   -.1917826\n",
      " bangladeshi  |   .0180067   .1595843     0.11   0.910    -.2947727    .3307862\n",
      " other asian  |   .6563336   .0963791     6.81   0.000      .467434    .8452331\n",
      "other resp..  |   .0003243   .0943159     0.00   0.997    -.1845316    .1851801\n",
      "              |\n",
      "      t0house |\n",
      "      rented  |  -.7840708   .0298526   -26.26   0.000    -.8425809   -.7255608\n",
      "       other  |  -.2634837   .0808452    -3.26   0.001    -.4219375     -.10503\n",
      "              |\n",
      "       t0stay |\n",
      " mother only  |  -.0735037    .029766    -2.47   0.014    -.1318441   -.0151634\n",
      " father only  |  -.4316251   .0558324    -7.73   0.000    -.5410545   -.3221956\n",
      "other resp..  |   -.594898   .0869415    -6.84   0.000    -.7653002   -.4244958\n",
      "              |\n",
      " t0par_nssec2 |\n",
      "1.1 Large ..  |  -.4191851   .0455175    -9.21   0.000    -.5083978   -.3299723\n",
      "2 Lower ma..  |  -.6111893   .0346025   -17.66   0.000    -.6790089   -.5433697\n",
      "3 Intermed..  |  -.9969716   .0363042   -27.46   0.000    -1.068126   -.9258167\n",
      "4 Small em..  |  -1.305652   .0382928   -34.10   0.000    -1.380705     -1.2306\n",
      "5 Lower su..  |  -1.535351   .0470068   -32.66   0.000    -1.627482   -1.443219\n",
      "6 Semi-rou..  |  -1.704157   .0401399   -42.46   0.000     -1.78283   -1.625485\n",
      "   7 Routine  |  -1.860427   .0480983   -38.68   0.000    -1.954698   -1.766156\n",
      "              |\n",
      "        _cons |   .6302897   .0394775    15.97   0.000     .5529153    .7076641\n",
      "-------------------------------------------------------------------------------\n",
      "\n"
     ]
    }
   ],
   "source": [
    "* Logistic regression model\n",
    "\n",
    "logit t0fiveac_em\ti.t0cohort ///\n",
    "\t\t\t\t\tib2.t0sex ///\n",
    "\t\t\t\t\ti.t0ethnic ///\n",
    "\t\t\t\t\ti.t0house ///\n",
    "\t\t\t\t\ti.t0stay ///\n",
    "\t\t\t\t\tib2.t0par_nssec2 ///\n",
    "\t\t\t\t\t\t[pw=t1weight]\n",
    "est store b"
   ]
  },
  {
   "cell_type": "code",
   "execution_count": 23,
   "metadata": {},
   "outputs": [
    {
     "name": "stdout",
     "output_type": "stream",
     "text": [
      "(output written to C:\\temp\\github_ycs_subject_analysis\\outputs\\agg_models_table1\n",
      "> .rtf)\n"
     ]
    }
   ],
   "source": [
    "* Export estimates from models\n",
    "\n",
    "esttab a b using \"$path2\\outputs\\agg_models_table1.rtf\", ///\n",
    "\tb(%9.2f) se(%9.2f) aic(%9.1f) bic(%9.1f) scalars(\"ll Log lik.\") sfmt(%9.1f) pr2 ///\n",
    "\tstarlevels(* .05 ** .01 *** .001) stardetach \t///\n",
    "\tlabel mtitles(\"Logit 5+ A*-C\" \"Logit 5+ A*-C EM\") ///\n",
    "\twide staraux nogaps noparentheses replace"
   ]
  },
  {
   "cell_type": "markdown",
   "metadata": {},
   "source": [
    "## Table A3 <a class=\"anchor\" id=\"tab3\"></a>\n",
    "*Zero inflated Poisson regression model (survey weighted) for GCSE attainment Year 11 (number of GCSEs at grades A*–C).*\n",
    "\n",
    "All pupils gaining a GCSE pass at grades A*-G, n=67,937, weighted data, YCS Cohorts 5-11.\n",
    "Non-zero observations = 61,361; Zero observations = 6,576; BIC for ZIP model = 315001.5; BIC for Poisson model = 359590.7."
   ]
  },
  {
   "cell_type": "markdown",
   "metadata": {},
   "source": [
    "[Go to Contents](#contents) \n",
    "<br>"
   ]
  },
  {
   "cell_type": "code",
   "execution_count": 24,
   "metadata": {},
   "outputs": [
    {
     "name": "stdout",
     "output_type": "stream",
     "text": [
      "\n",
      "\n",
      "--------------------------------------------------------------------------------\n",
      "t0examac                                    num of a-c awards in y11 or s4 exams\n",
      "--------------------------------------------------------------------------------\n",
      "\n",
      "                  type:  numeric (float)\n",
      "\n",
      "                 range:  [0,15]                       units:  1\n",
      "         unique values:  16                       missing .:  0/67,937\n",
      "\n",
      "                  mean:   5.60725\n",
      "              std. dev:   3.34488\n",
      "\n",
      "           percentiles:        10%       25%       50%       75%       90%\n",
      "                                 1         3         6         9        10\n",
      "\n",
      "(bin=48, start=0, width=.3125)\n"
     ]
    },
    {
     "data": {
      "application/pdf": "[encoded data removed]",
      "image/svg+xml": [
       "<?xml version=\"1.0\" encoding=\"UTF-8\" standalone=\"no\"?>\n",
       "<!-- This is a Stata 16.1 generated SVG file (http://www.stata.com) -->\n",
       "\n",
       "<svg version=\"1.1\" width=\"600px\" height=\"436px\" viewBox=\"0 0 3960 2880\" xmlns=\"http://www.w3.org/2000/svg\" xmlns:xlink=\"http://www.w3.org/1999/xlink\">\n",
       "\t<desc>Stata Graph - Graph</desc>\n",
       "\t<rect x=\"0\" y=\"0\" width=\"3960\" height=\"2880\" style=\"fill:#EAF2F3;stroke:none\"/>\n",
       "\t<rect x=\"0.00\" y=\"0.00\" width=\"3959.88\" height=\"2880.00\" style=\"fill:#EAF2F3\"/>\n",
       "\t<rect x=\"2.88\" y=\"2.88\" width=\"3954.12\" height=\"2874.24\" style=\"fill:none;stroke:#EAF2F3;stroke-width:5.76\"/>\n",
       "\t<rect x=\"390.80\" y=\"100.86\" width=\"3468.22\" height=\"2388.33\" style=\"fill:#FFFFFF\"/>\n",
       "\t<rect x=\"393.68\" y=\"103.74\" width=\"3462.46\" height=\"2382.57\" style=\"fill:none;stroke:#FFFFFF;stroke-width:5.76\"/>\n",
       "\t<line x1=\"390.80\" y1=\"2489.19\" x2=\"3859.02\" y2=\"2489.19\" style=\"stroke:#EAF2F3;stroke-width:8.64\"/>\n",
       "\t<line x1=\"390.80\" y1=\"2024.24\" x2=\"3859.02\" y2=\"2024.24\" style=\"stroke:#EAF2F3;stroke-width:8.64\"/>\n",
       "\t<line x1=\"390.80\" y1=\"1559.17\" x2=\"3859.02\" y2=\"1559.17\" style=\"stroke:#EAF2F3;stroke-width:8.64\"/>\n",
       "\t<line x1=\"390.80\" y1=\"1094.23\" x2=\"3859.02\" y2=\"1094.23\" style=\"stroke:#EAF2F3;stroke-width:8.64\"/>\n",
       "\t<line x1=\"390.80\" y1=\"629.16\" x2=\"3859.02\" y2=\"629.16\" style=\"stroke:#EAF2F3;stroke-width:8.64\"/>\n",
       "\t<line x1=\"390.80\" y1=\"164.22\" x2=\"3859.02\" y2=\"164.22\" style=\"stroke:#EAF2F3;stroke-width:8.64\"/>\n",
       "\t<rect x=\"488.56\" y=\"1048.81\" width=\"68.93\" height=\"1440.37\" style=\"fill:#CAC27E\"/>\n",
       "\t<rect x=\"492.88\" y=\"1053.13\" width=\"60.29\" height=\"1431.73\" style=\"fill:none;stroke:#D7D29E;stroke-width:8.64\"/>\n",
       "\t<rect x=\"695.23\" y=\"1358.32\" width=\"68.93\" height=\"1130.86\" style=\"fill:#CAC27E\"/>\n",
       "\t<rect x=\"699.55\" y=\"1362.64\" width=\"60.29\" height=\"1122.22\" style=\"fill:none;stroke:#D7D29E;stroke-width:8.64\"/>\n",
       "\t<rect x=\"902.01\" y=\"1470.69\" width=\"68.81\" height=\"1018.49\" style=\"fill:#CAC27E\"/>\n",
       "\t<rect x=\"906.33\" y=\"1475.01\" width=\"60.17\" height=\"1009.85\" style=\"fill:none;stroke:#D7D29E;stroke-width:8.64\"/>\n",
       "\t<rect x=\"1108.68\" y=\"1491.73\" width=\"68.93\" height=\"997.46\" style=\"fill:#CAC27E\"/>\n",
       "\t<rect x=\"1113.00\" y=\"1496.05\" width=\"60.29\" height=\"988.82\" style=\"fill:none;stroke:#D7D29E;stroke-width:8.64\"/>\n",
       "\t<rect x=\"1315.34\" y=\"1463.76\" width=\"68.93\" height=\"1025.42\" style=\"fill:#CAC27E\"/>\n",
       "\t<rect x=\"1319.66\" y=\"1468.08\" width=\"60.29\" height=\"1016.78\" style=\"fill:none;stroke:#D7D29E;stroke-width:8.64\"/>\n",
       "\t<rect x=\"1590.93\" y=\"1437.03\" width=\"68.93\" height=\"1052.16\" style=\"fill:#CAC27E\"/>\n",
       "\t<rect x=\"1595.25\" y=\"1441.35\" width=\"60.29\" height=\"1043.52\" style=\"fill:none;stroke:#D7D29E;stroke-width:8.64\"/>\n",
       "\t<rect x=\"1797.72\" y=\"1353.12\" width=\"68.81\" height=\"1136.06\" style=\"fill:#CAC27E\"/>\n",
       "\t<rect x=\"1802.04\" y=\"1357.44\" width=\"60.17\" height=\"1127.42\" style=\"fill:none;stroke:#D7D29E;stroke-width:8.64\"/>\n",
       "\t<rect x=\"2004.38\" y=\"1151.78\" width=\"68.93\" height=\"1337.41\" style=\"fill:#CAC27E\"/>\n",
       "\t<rect x=\"2008.70\" y=\"1156.10\" width=\"60.29\" height=\"1328.77\" style=\"fill:none;stroke:#D7D29E;stroke-width:8.64\"/>\n",
       "\t<rect x=\"2211.04\" y=\"588.45\" width=\"68.93\" height=\"1900.74\" style=\"fill:#CAC27E\"/>\n",
       "\t<rect x=\"2215.36\" y=\"592.77\" width=\"60.29\" height=\"1892.10\" style=\"fill:none;stroke:#D7D29E;stroke-width:8.64\"/>\n",
       "\t<rect x=\"2417.70\" y=\"188.23\" width=\"68.93\" height=\"2300.96\" style=\"fill:#CAC27E\"/>\n",
       "\t<rect x=\"2422.02\" y=\"192.55\" width=\"60.29\" height=\"2292.32\" style=\"fill:none;stroke:#D7D29E;stroke-width:8.64\"/>\n",
       "\t<rect x=\"2693.30\" y=\"1298.55\" width=\"68.93\" height=\"1190.64\" style=\"fill:#CAC27E\"/>\n",
       "\t<rect x=\"2697.61\" y=\"1302.87\" width=\"60.29\" height=\"1182.00\" style=\"fill:none;stroke:#D7D29E;stroke-width:8.64\"/>\n",
       "\t<rect x=\"2900.08\" y=\"2199.85\" width=\"68.80\" height=\"289.34\" style=\"fill:#CAC27E\"/>\n",
       "\t<rect x=\"2904.40\" y=\"2204.17\" width=\"60.17\" height=\"280.70\" style=\"fill:none;stroke:#D7D29E;stroke-width:8.64\"/>\n",
       "\t<rect x=\"3106.74\" y=\"2437.46\" width=\"68.93\" height=\"51.73\" style=\"fill:#CAC27E\"/>\n",
       "\t<rect x=\"3111.06\" y=\"2441.78\" width=\"60.29\" height=\"43.09\" style=\"fill:none;stroke:#D7D29E;stroke-width:8.64\"/>\n",
       "\t<rect x=\"3313.41\" y=\"2481.27\" width=\"68.93\" height=\"7.92\" style=\"fill:#CAC27E\"/>\n",
       "\t<rect x=\"3317.73\" y=\"2484.87\" width=\"60.29\" height=\"0.72\" style=\"fill:none;stroke:#D7D29E;stroke-width:8.64\"/>\n",
       "\t<rect x=\"3520.07\" y=\"2488.81\" width=\"68.93\" height=\"0.37\" style=\"fill:#CAC27E\"/>\n",
       "\t<rect x=\"3524.39\" y=\"2484.87\" width=\"60.29\" height=\"8.27\" style=\"fill:none;stroke:#D7D29E;stroke-width:8.64\"/>\n",
       "\t<rect x=\"3726.86\" y=\"2488.94\" width=\"68.80\" height=\"0.25\" style=\"fill:#CAC27E\"/>\n",
       "\t<rect x=\"3731.17\" y=\"2484.87\" width=\"60.17\" height=\"8.39\" style=\"fill:none;stroke:#D7D29E;stroke-width:8.64\"/>\n",
       "\t<line x1=\"390.80\" y1=\"2489.19\" x2=\"390.80\" y2=\"100.86\" style=\"stroke:#000000;stroke-width:5.76\"/>\n",
       "\t<line x1=\"390.80\" y1=\"2489.19\" x2=\"350.83\" y2=\"2489.19\" style=\"stroke:#000000;stroke-width:5.76\"/>\n",
       "\t<text x=\"300.72\" y=\"2489.19\" style=\"font-family:'Helvetica';font-size:99.99px;fill:#000000\" transform=\"rotate(-90 300.72,2489.19)\" text-anchor=\"middle\">0</text>\n",
       "\t<line x1=\"390.80\" y1=\"2024.24\" x2=\"350.83\" y2=\"2024.24\" style=\"stroke:#000000;stroke-width:5.76\"/>\n",
       "\t<text x=\"300.72\" y=\"2024.24\" style=\"font-family:'Helvetica';font-size:99.99px;fill:#000000\" transform=\"rotate(-90 300.72,2024.24)\" text-anchor=\"middle\">.1</text>\n",
       "\t<line x1=\"390.80\" y1=\"1559.17\" x2=\"350.83\" y2=\"1559.17\" style=\"stroke:#000000;stroke-width:5.76\"/>\n",
       "\t<text x=\"300.72\" y=\"1559.17\" style=\"font-family:'Helvetica';font-size:99.99px;fill:#000000\" transform=\"rotate(-90 300.72,1559.17)\" text-anchor=\"middle\">.2</text>\n",
       "\t<line x1=\"390.80\" y1=\"1094.23\" x2=\"350.83\" y2=\"1094.23\" style=\"stroke:#000000;stroke-width:5.76\"/>\n",
       "\t<text x=\"300.72\" y=\"1094.23\" style=\"font-family:'Helvetica';font-size:99.99px;fill:#000000\" transform=\"rotate(-90 300.72,1094.23)\" text-anchor=\"middle\">.3</text>\n",
       "\t<line x1=\"390.80\" y1=\"629.16\" x2=\"350.83\" y2=\"629.16\" style=\"stroke:#000000;stroke-width:5.76\"/>\n",
       "\t<text x=\"300.72\" y=\"629.16\" style=\"font-family:'Helvetica';font-size:99.99px;fill:#000000\" transform=\"rotate(-90 300.72,629.16)\" text-anchor=\"middle\">.4</text>\n",
       "\t<line x1=\"390.80\" y1=\"164.22\" x2=\"350.83\" y2=\"164.22\" style=\"stroke:#000000;stroke-width:5.76\"/>\n",
       "\t<text x=\"300.72\" y=\"164.22\" style=\"font-family:'Helvetica';font-size:99.99px;fill:#000000\" transform=\"rotate(-90 300.72,164.22)\" text-anchor=\"middle\">.5</text>\n",
       "\t<text x=\"190.71\" y=\"1294.96\" style=\"font-family:'Helvetica';font-size:99.99px;fill:#000000\" transform=\"rotate(-90 190.71,1294.96)\" text-anchor=\"middle\">Density</text>\n",
       "\t<line x1=\"390.80\" y1=\"2489.19\" x2=\"3859.02\" y2=\"2489.19\" style=\"stroke:#000000;stroke-width:5.76\"/>\n",
       "\t<line x1=\"488.56\" y1=\"2489.19\" x2=\"488.56\" y2=\"2529.16\" style=\"stroke:#000000;stroke-width:5.76\"/>\n",
       "\t<text x=\"488.56\" y=\"2619.14\" style=\"font-family:'Helvetica';font-size:99.99px;fill:#000000\" text-anchor=\"middle\">0</text>\n",
       "\t<line x1=\"1590.93\" y1=\"2489.19\" x2=\"1590.93\" y2=\"2529.16\" style=\"stroke:#000000;stroke-width:5.76\"/>\n",
       "\t<text x=\"1590.93\" y=\"2619.14\" style=\"font-family:'Helvetica';font-size:99.99px;fill:#000000\" text-anchor=\"middle\">5</text>\n",
       "\t<line x1=\"2693.30\" y1=\"2489.19\" x2=\"2693.30\" y2=\"2529.16\" style=\"stroke:#000000;stroke-width:5.76\"/>\n",
       "\t<text x=\"2693.30\" y=\"2619.14\" style=\"font-family:'Helvetica';font-size:99.99px;fill:#000000\" text-anchor=\"middle\">10</text>\n",
       "\t<line x1=\"3795.66\" y1=\"2489.19\" x2=\"3795.66\" y2=\"2529.16\" style=\"stroke:#000000;stroke-width:5.76\"/>\n",
       "\t<text x=\"3795.66\" y=\"2619.14\" style=\"font-family:'Helvetica';font-size:99.99px;fill:#000000\" text-anchor=\"middle\">15</text>\n",
       "\t<text x=\"2124.91\" y=\"2729.16\" style=\"font-family:'Helvetica';font-size:99.99px;fill:#000000\" text-anchor=\"middle\">num of a-c awards in y11 or s4 exams</text>\n",
       "</svg>\n"
      ],
      "text/html": [
       "                <iframe frameborder=\"0\" scrolling=\"no\" height=\"436\" width=\"600\"                srcdoc=\"<html><body>&lt;?xml version=&quot;1.0&quot; encoding=&quot;UTF-8&quot; standalone=&quot;no&quot;?&gt;\n",
       "&lt;!-- This is a Stata 16.1 generated SVG file (http://www.stata.com) --&gt;\n",
       "\n",
       "&lt;svg version=&quot;1.1&quot; width=&quot;600px&quot; height=&quot;436px&quot; viewBox=&quot;0 0 3960 2880&quot; xmlns=&quot;http://www.w3.org/2000/svg&quot; xmlns:xlink=&quot;http://www.w3.org/1999/xlink&quot;&gt;\n",
       "\t&lt;desc&gt;Stata Graph - Graph&lt;/desc&gt;\n",
       "\t&lt;rect x=&quot;0&quot; y=&quot;0&quot; width=&quot;3960&quot; height=&quot;2880&quot; style=&quot;fill:#EAF2F3;stroke:none&quot;/&gt;\n",
       "\t&lt;rect x=&quot;0.00&quot; y=&quot;0.00&quot; width=&quot;3959.88&quot; height=&quot;2880.00&quot; style=&quot;fill:#EAF2F3&quot;/&gt;\n",
       "\t&lt;rect x=&quot;2.88&quot; y=&quot;2.88&quot; width=&quot;3954.12&quot; height=&quot;2874.24&quot; style=&quot;fill:none;stroke:#EAF2F3;stroke-width:5.76&quot;/&gt;\n",
       "\t&lt;rect x=&quot;390.80&quot; y=&quot;100.86&quot; width=&quot;3468.22&quot; height=&quot;2388.33&quot; style=&quot;fill:#FFFFFF&quot;/&gt;\n",
       "\t&lt;rect x=&quot;393.68&quot; y=&quot;103.74&quot; width=&quot;3462.46&quot; height=&quot;2382.57&quot; style=&quot;fill:none;stroke:#FFFFFF;stroke-width:5.76&quot;/&gt;\n",
       "\t&lt;line x1=&quot;390.80&quot; y1=&quot;2489.19&quot; x2=&quot;3859.02&quot; y2=&quot;2489.19&quot; style=&quot;stroke:#EAF2F3;stroke-width:8.64&quot;/&gt;\n",
       "\t&lt;line x1=&quot;390.80&quot; y1=&quot;2024.24&quot; x2=&quot;3859.02&quot; y2=&quot;2024.24&quot; style=&quot;stroke:#EAF2F3;stroke-width:8.64&quot;/&gt;\n",
       "\t&lt;line x1=&quot;390.80&quot; y1=&quot;1559.17&quot; x2=&quot;3859.02&quot; y2=&quot;1559.17&quot; style=&quot;stroke:#EAF2F3;stroke-width:8.64&quot;/&gt;\n",
       "\t&lt;line x1=&quot;390.80&quot; y1=&quot;1094.23&quot; x2=&quot;3859.02&quot; y2=&quot;1094.23&quot; style=&quot;stroke:#EAF2F3;stroke-width:8.64&quot;/&gt;\n",
       "\t&lt;line x1=&quot;390.80&quot; y1=&quot;629.16&quot; x2=&quot;3859.02&quot; y2=&quot;629.16&quot; style=&quot;stroke:#EAF2F3;stroke-width:8.64&quot;/&gt;\n",
       "\t&lt;line x1=&quot;390.80&quot; y1=&quot;164.22&quot; x2=&quot;3859.02&quot; y2=&quot;164.22&quot; style=&quot;stroke:#EAF2F3;stroke-width:8.64&quot;/&gt;\n",
       "\t&lt;rect x=&quot;488.56&quot; y=&quot;1048.81&quot; width=&quot;68.93&quot; height=&quot;1440.37&quot; style=&quot;fill:#CAC27E&quot;/&gt;\n",
       "\t&lt;rect x=&quot;492.88&quot; y=&quot;1053.13&quot; width=&quot;60.29&quot; height=&quot;1431.73&quot; style=&quot;fill:none;stroke:#D7D29E;stroke-width:8.64&quot;/&gt;\n",
       "\t&lt;rect x=&quot;695.23&quot; y=&quot;1358.32&quot; width=&quot;68.93&quot; height=&quot;1130.86&quot; style=&quot;fill:#CAC27E&quot;/&gt;\n",
       "\t&lt;rect x=&quot;699.55&quot; y=&quot;1362.64&quot; width=&quot;60.29&quot; height=&quot;1122.22&quot; style=&quot;fill:none;stroke:#D7D29E;stroke-width:8.64&quot;/&gt;\n",
       "\t&lt;rect x=&quot;902.01&quot; y=&quot;1470.69&quot; width=&quot;68.81&quot; height=&quot;1018.49&quot; style=&quot;fill:#CAC27E&quot;/&gt;\n",
       "\t&lt;rect x=&quot;906.33&quot; y=&quot;1475.01&quot; width=&quot;60.17&quot; height=&quot;1009.85&quot; style=&quot;fill:none;stroke:#D7D29E;stroke-width:8.64&quot;/&gt;\n",
       "\t&lt;rect x=&quot;1108.68&quot; y=&quot;1491.73&quot; width=&quot;68.93&quot; height=&quot;997.46&quot; style=&quot;fill:#CAC27E&quot;/&gt;\n",
       "\t&lt;rect x=&quot;1113.00&quot; y=&quot;1496.05&quot; width=&quot;60.29&quot; height=&quot;988.82&quot; style=&quot;fill:none;stroke:#D7D29E;stroke-width:8.64&quot;/&gt;\n",
       "\t&lt;rect x=&quot;1315.34&quot; y=&quot;1463.76&quot; width=&quot;68.93&quot; height=&quot;1025.42&quot; style=&quot;fill:#CAC27E&quot;/&gt;\n",
       "\t&lt;rect x=&quot;1319.66&quot; y=&quot;1468.08&quot; width=&quot;60.29&quot; height=&quot;1016.78&quot; style=&quot;fill:none;stroke:#D7D29E;stroke-width:8.64&quot;/&gt;\n",
       "\t&lt;rect x=&quot;1590.93&quot; y=&quot;1437.03&quot; width=&quot;68.93&quot; height=&quot;1052.16&quot; style=&quot;fill:#CAC27E&quot;/&gt;\n",
       "\t&lt;rect x=&quot;1595.25&quot; y=&quot;1441.35&quot; width=&quot;60.29&quot; height=&quot;1043.52&quot; style=&quot;fill:none;stroke:#D7D29E;stroke-width:8.64&quot;/&gt;\n",
       "\t&lt;rect x=&quot;1797.72&quot; y=&quot;1353.12&quot; width=&quot;68.81&quot; height=&quot;1136.06&quot; style=&quot;fill:#CAC27E&quot;/&gt;\n",
       "\t&lt;rect x=&quot;1802.04&quot; y=&quot;1357.44&quot; width=&quot;60.17&quot; height=&quot;1127.42&quot; style=&quot;fill:none;stroke:#D7D29E;stroke-width:8.64&quot;/&gt;\n",
       "\t&lt;rect x=&quot;2004.38&quot; y=&quot;1151.78&quot; width=&quot;68.93&quot; height=&quot;1337.41&quot; style=&quot;fill:#CAC27E&quot;/&gt;\n",
       "\t&lt;rect x=&quot;2008.70&quot; y=&quot;1156.10&quot; width=&quot;60.29&quot; height=&quot;1328.77&quot; style=&quot;fill:none;stroke:#D7D29E;stroke-width:8.64&quot;/&gt;\n",
       "\t&lt;rect x=&quot;2211.04&quot; y=&quot;588.45&quot; width=&quot;68.93&quot; height=&quot;1900.74&quot; style=&quot;fill:#CAC27E&quot;/&gt;\n",
       "\t&lt;rect x=&quot;2215.36&quot; y=&quot;592.77&quot; width=&quot;60.29&quot; height=&quot;1892.10&quot; style=&quot;fill:none;stroke:#D7D29E;stroke-width:8.64&quot;/&gt;\n",
       "\t&lt;rect x=&quot;2417.70&quot; y=&quot;188.23&quot; width=&quot;68.93&quot; height=&quot;2300.96&quot; style=&quot;fill:#CAC27E&quot;/&gt;\n",
       "\t&lt;rect x=&quot;2422.02&quot; y=&quot;192.55&quot; width=&quot;60.29&quot; height=&quot;2292.32&quot; style=&quot;fill:none;stroke:#D7D29E;stroke-width:8.64&quot;/&gt;\n",
       "\t&lt;rect x=&quot;2693.30&quot; y=&quot;1298.55&quot; width=&quot;68.93&quot; height=&quot;1190.64&quot; style=&quot;fill:#CAC27E&quot;/&gt;\n",
       "\t&lt;rect x=&quot;2697.61&quot; y=&quot;1302.87&quot; width=&quot;60.29&quot; height=&quot;1182.00&quot; style=&quot;fill:none;stroke:#D7D29E;stroke-width:8.64&quot;/&gt;\n",
       "\t&lt;rect x=&quot;2900.08&quot; y=&quot;2199.85&quot; width=&quot;68.80&quot; height=&quot;289.34&quot; style=&quot;fill:#CAC27E&quot;/&gt;\n",
       "\t&lt;rect x=&quot;2904.40&quot; y=&quot;2204.17&quot; width=&quot;60.17&quot; height=&quot;280.70&quot; style=&quot;fill:none;stroke:#D7D29E;stroke-width:8.64&quot;/&gt;\n",
       "\t&lt;rect x=&quot;3106.74&quot; y=&quot;2437.46&quot; width=&quot;68.93&quot; height=&quot;51.73&quot; style=&quot;fill:#CAC27E&quot;/&gt;\n",
       "\t&lt;rect x=&quot;3111.06&quot; y=&quot;2441.78&quot; width=&quot;60.29&quot; height=&quot;43.09&quot; style=&quot;fill:none;stroke:#D7D29E;stroke-width:8.64&quot;/&gt;\n",
       "\t&lt;rect x=&quot;3313.41&quot; y=&quot;2481.27&quot; width=&quot;68.93&quot; height=&quot;7.92&quot; style=&quot;fill:#CAC27E&quot;/&gt;\n",
       "\t&lt;rect x=&quot;3317.73&quot; y=&quot;2484.87&quot; width=&quot;60.29&quot; height=&quot;0.72&quot; style=&quot;fill:none;stroke:#D7D29E;stroke-width:8.64&quot;/&gt;\n",
       "\t&lt;rect x=&quot;3520.07&quot; y=&quot;2488.81&quot; width=&quot;68.93&quot; height=&quot;0.37&quot; style=&quot;fill:#CAC27E&quot;/&gt;\n",
       "\t&lt;rect x=&quot;3524.39&quot; y=&quot;2484.87&quot; width=&quot;60.29&quot; height=&quot;8.27&quot; style=&quot;fill:none;stroke:#D7D29E;stroke-width:8.64&quot;/&gt;\n",
       "\t&lt;rect x=&quot;3726.86&quot; y=&quot;2488.94&quot; width=&quot;68.80&quot; height=&quot;0.25&quot; style=&quot;fill:#CAC27E&quot;/&gt;\n",
       "\t&lt;rect x=&quot;3731.17&quot; y=&quot;2484.87&quot; width=&quot;60.17&quot; height=&quot;8.39&quot; style=&quot;fill:none;stroke:#D7D29E;stroke-width:8.64&quot;/&gt;\n",
       "\t&lt;line x1=&quot;390.80&quot; y1=&quot;2489.19&quot; x2=&quot;390.80&quot; y2=&quot;100.86&quot; style=&quot;stroke:#000000;stroke-width:5.76&quot;/&gt;\n",
       "\t&lt;line x1=&quot;390.80&quot; y1=&quot;2489.19&quot; x2=&quot;350.83&quot; y2=&quot;2489.19&quot; style=&quot;stroke:#000000;stroke-width:5.76&quot;/&gt;\n",
       "\t&lt;text x=&quot;300.72&quot; y=&quot;2489.19&quot; style=&quot;font-family:&#x27;Helvetica&#x27;;font-size:99.99px;fill:#000000&quot; transform=&quot;rotate(-90 300.72,2489.19)&quot; text-anchor=&quot;middle&quot;&gt;0&lt;/text&gt;\n",
       "\t&lt;line x1=&quot;390.80&quot; y1=&quot;2024.24&quot; x2=&quot;350.83&quot; y2=&quot;2024.24&quot; style=&quot;stroke:#000000;stroke-width:5.76&quot;/&gt;\n",
       "\t&lt;text x=&quot;300.72&quot; y=&quot;2024.24&quot; style=&quot;font-family:&#x27;Helvetica&#x27;;font-size:99.99px;fill:#000000&quot; transform=&quot;rotate(-90 300.72,2024.24)&quot; text-anchor=&quot;middle&quot;&gt;.1&lt;/text&gt;\n",
       "\t&lt;line x1=&quot;390.80&quot; y1=&quot;1559.17&quot; x2=&quot;350.83&quot; y2=&quot;1559.17&quot; style=&quot;stroke:#000000;stroke-width:5.76&quot;/&gt;\n",
       "\t&lt;text x=&quot;300.72&quot; y=&quot;1559.17&quot; style=&quot;font-family:&#x27;Helvetica&#x27;;font-size:99.99px;fill:#000000&quot; transform=&quot;rotate(-90 300.72,1559.17)&quot; text-anchor=&quot;middle&quot;&gt;.2&lt;/text&gt;\n",
       "\t&lt;line x1=&quot;390.80&quot; y1=&quot;1094.23&quot; x2=&quot;350.83&quot; y2=&quot;1094.23&quot; style=&quot;stroke:#000000;stroke-width:5.76&quot;/&gt;\n",
       "\t&lt;text x=&quot;300.72&quot; y=&quot;1094.23&quot; style=&quot;font-family:&#x27;Helvetica&#x27;;font-size:99.99px;fill:#000000&quot; transform=&quot;rotate(-90 300.72,1094.23)&quot; text-anchor=&quot;middle&quot;&gt;.3&lt;/text&gt;\n",
       "\t&lt;line x1=&quot;390.80&quot; y1=&quot;629.16&quot; x2=&quot;350.83&quot; y2=&quot;629.16&quot; style=&quot;stroke:#000000;stroke-width:5.76&quot;/&gt;\n",
       "\t&lt;text x=&quot;300.72&quot; y=&quot;629.16&quot; style=&quot;font-family:&#x27;Helvetica&#x27;;font-size:99.99px;fill:#000000&quot; transform=&quot;rotate(-90 300.72,629.16)&quot; text-anchor=&quot;middle&quot;&gt;.4&lt;/text&gt;\n",
       "\t&lt;line x1=&quot;390.80&quot; y1=&quot;164.22&quot; x2=&quot;350.83&quot; y2=&quot;164.22&quot; style=&quot;stroke:#000000;stroke-width:5.76&quot;/&gt;\n",
       "\t&lt;text x=&quot;300.72&quot; y=&quot;164.22&quot; style=&quot;font-family:&#x27;Helvetica&#x27;;font-size:99.99px;fill:#000000&quot; transform=&quot;rotate(-90 300.72,164.22)&quot; text-anchor=&quot;middle&quot;&gt;.5&lt;/text&gt;\n",
       "\t&lt;text x=&quot;190.71&quot; y=&quot;1294.96&quot; style=&quot;font-family:&#x27;Helvetica&#x27;;font-size:99.99px;fill:#000000&quot; transform=&quot;rotate(-90 190.71,1294.96)&quot; text-anchor=&quot;middle&quot;&gt;Density&lt;/text&gt;\n",
       "\t&lt;line x1=&quot;390.80&quot; y1=&quot;2489.19&quot; x2=&quot;3859.02&quot; y2=&quot;2489.19&quot; style=&quot;stroke:#000000;stroke-width:5.76&quot;/&gt;\n",
       "\t&lt;line x1=&quot;488.56&quot; y1=&quot;2489.19&quot; x2=&quot;488.56&quot; y2=&quot;2529.16&quot; style=&quot;stroke:#000000;stroke-width:5.76&quot;/&gt;\n",
       "\t&lt;text x=&quot;488.56&quot; y=&quot;2619.14&quot; style=&quot;font-family:&#x27;Helvetica&#x27;;font-size:99.99px;fill:#000000&quot; text-anchor=&quot;middle&quot;&gt;0&lt;/text&gt;\n",
       "\t&lt;line x1=&quot;1590.93&quot; y1=&quot;2489.19&quot; x2=&quot;1590.93&quot; y2=&quot;2529.16&quot; style=&quot;stroke:#000000;stroke-width:5.76&quot;/&gt;\n",
       "\t&lt;text x=&quot;1590.93&quot; y=&quot;2619.14&quot; style=&quot;font-family:&#x27;Helvetica&#x27;;font-size:99.99px;fill:#000000&quot; text-anchor=&quot;middle&quot;&gt;5&lt;/text&gt;\n",
       "\t&lt;line x1=&quot;2693.30&quot; y1=&quot;2489.19&quot; x2=&quot;2693.30&quot; y2=&quot;2529.16&quot; style=&quot;stroke:#000000;stroke-width:5.76&quot;/&gt;\n",
       "\t&lt;text x=&quot;2693.30&quot; y=&quot;2619.14&quot; style=&quot;font-family:&#x27;Helvetica&#x27;;font-size:99.99px;fill:#000000&quot; text-anchor=&quot;middle&quot;&gt;10&lt;/text&gt;\n",
       "\t&lt;line x1=&quot;3795.66&quot; y1=&quot;2489.19&quot; x2=&quot;3795.66&quot; y2=&quot;2529.16&quot; style=&quot;stroke:#000000;stroke-width:5.76&quot;/&gt;\n",
       "\t&lt;text x=&quot;3795.66&quot; y=&quot;2619.14&quot; style=&quot;font-family:&#x27;Helvetica&#x27;;font-size:99.99px;fill:#000000&quot; text-anchor=&quot;middle&quot;&gt;15&lt;/text&gt;\n",
       "\t&lt;text x=&quot;2124.91&quot; y=&quot;2729.16&quot; style=&quot;font-family:&#x27;Helvetica&#x27;;font-size:99.99px;fill:#000000&quot; text-anchor=&quot;middle&quot;&gt;num of a-c awards in y11 or s4 exams&lt;/text&gt;\n",
       "&lt;/svg&gt;\n",
       "</body></html>\"></iframe>\n"
      ],
      "text/plain": [
       "This front-end cannot display the desired image type."
      ]
     },
     "metadata": {
      "image/svg+xml": {
       "height": 436,
       "width": 600
      },
      "text/html": {
       "height": 436,
       "width": 600
      }
     },
     "output_type": "display_data"
    },
    {
     "name": "stdout",
     "output_type": "stream",
     "text": [
      "\n"
     ]
    }
   ],
   "source": [
    "* Model A3: Count A* C - zip model\n",
    "\n",
    "* Outcome: Count of number of A*-C GCSE passes\n",
    "\n",
    "codebook t0examac\n",
    "hist t0examac"
   ]
  },
  {
   "cell_type": "code",
   "execution_count": 25,
   "metadata": {},
   "outputs": [
    {
     "name": "stdout",
     "output_type": "stream",
     "text": [
      "\n",
      "\n",
      "Fitting constant-only model:\n",
      "\n",
      "Iteration 0:   log pseudolikelihood =  -184695.7  \n",
      "Iteration 1:   log pseudolikelihood =  -163392.6  \n",
      "Iteration 2:   log pseudolikelihood = -162683.67  \n",
      "Iteration 3:   log pseudolikelihood = -162673.52  \n",
      "Iteration 4:   log pseudolikelihood = -162673.46  \n",
      "Iteration 5:   log pseudolikelihood = -162673.46  \n",
      "\n",
      "Fitting full model:\n",
      "\n",
      "Iteration 0:   log pseudolikelihood = -162673.46  \n",
      "Iteration 1:   log pseudolikelihood = -157300.37  \n",
      "Iteration 2:   log pseudolikelihood = -157211.54  \n",
      "Iteration 3:   log pseudolikelihood = -157211.48  \n",
      "Iteration 4:   log pseudolikelihood = -157211.48  \n",
      "\n",
      "Zero-inflated Poisson regression                Number of obs     =     67,937\n",
      "                                                Nonzero obs       =     61,361\n",
      "                                                Zero obs          =      6,576\n",
      "\n",
      "Inflation model      = logit                    Wald chi2(25)     =    7432.48\n",
      "Log pseudolikelihood = -157211.5                Prob > chi2       =     0.0000\n",
      "\n",
      "-------------------------------------------------------------------------------\n",
      "              |               Robust\n",
      "     t0examac |      Coef.   Std. Err.      z    P>|z|     [95% Conf. Interval]\n",
      "--------------+----------------------------------------------------------------\n",
      "t0examac      |\n",
      "     t0cohort |\n",
      "        1992  |   .0594007   .0089543     6.63   0.000     .0418505    .0769508\n",
      "        1993  |   .1410077   .0089911    15.68   0.000     .1233854    .1586299\n",
      "        1995  |    .218766   .0089691    24.39   0.000     .2011869     .236345\n",
      "        1997  |   .2407967   .0087941    27.38   0.000     .2235606    .2580328\n",
      "        1999  |   .2824723   .0091881    30.74   0.000      .264464    .3004806\n",
      "        2001  |    .218446   .0085527    25.54   0.000      .201683     .235209\n",
      "              |\n",
      "        t0sex |\n",
      "        male  |   -.101043   .0044378   -22.77   0.000     -.109741    -.092345\n",
      "              |\n",
      "     t0ethnic |\n",
      "       black  |  -.1167349   .0219976    -5.31   0.000    -.1598495   -.0736204\n",
      "      indian  |   .0471757   .0138865     3.40   0.001     .0199587    .0743928\n",
      "   pakistani  |  -.0854381   .0235504    -3.63   0.000     -.131596   -.0392802\n",
      " bangladeshi  |   .0512132   .0419788     1.22   0.222    -.0310637    .1334901\n",
      " other asian  |   .1535729   .0196596     7.81   0.000     .1150408     .192105\n",
      "other resp..  |   .0016329   .0216284     0.08   0.940     -.040758    .0440238\n",
      "              |\n",
      "      t0house |\n",
      "      rented  |  -.2098958   .0091159   -23.03   0.000    -.2277627   -.1920289\n",
      "       other  |  -.0783912   .0208577    -3.76   0.000    -.1192715   -.0375109\n",
      "              |\n",
      "       t0stay |\n",
      " mother only  |  -.0151385   .0074775    -2.02   0.043    -.0297941   -.0004829\n",
      " father only  |  -.1201348   .0151367    -7.94   0.000    -.1498022   -.0904674\n",
      "other resp..  |  -.1479317   .0243588    -6.07   0.000     -.195674   -.1001894\n",
      "              |\n",
      " t0par_nssec2 |\n",
      "1.1 Large ..  |  -.0688986   .0086414    -7.97   0.000    -.0858354   -.0519618\n",
      "2 Lower ma..  |  -.1094784   .0063968   -17.11   0.000     -.122016   -.0969408\n",
      "3 Intermed..  |  -.2078359   .0073738   -28.19   0.000    -.2222882   -.1933836\n",
      "4 Small em..  |  -.2850189   .0084252   -33.83   0.000     -.301532   -.2685058\n",
      "5 Lower su..  |  -.3411983   .0119338   -28.59   0.000    -.3645881   -.3178084\n",
      "6 Semi-rou..  |  -.3974671   .0096739   -41.09   0.000    -.4164276   -.3785067\n",
      "   7 Routine  |  -.4360984   .0129936   -33.56   0.000    -.4615654   -.4106313\n",
      "              |\n",
      "        _cons |   1.867911     .00866   215.69   0.000     1.850938    1.884884\n",
      "--------------+----------------------------------------------------------------\n",
      "inflate       |\n",
      "     t0cohort |\n",
      "        1992  |  -.0154198   .0507485    -0.30   0.761    -.1148849    .0840454\n",
      "        1993  |  -.0430662   .0535142    -0.80   0.421     -.147952    .0618196\n",
      "        1995  |  -.1119737    .053574    -2.09   0.037    -.2169767   -.0069707\n",
      "        1997  |  -.1489299   .0559544    -2.66   0.008    -.2585985   -.0392614\n",
      "        1999  |  -.2274971    .063785    -3.57   0.000    -.3525133   -.1024809\n",
      "        2001  |  -.3511215   .0607692    -5.78   0.000    -.4702268   -.2320162\n",
      "              |\n",
      "        t0sex |\n",
      "        male  |   .6231001   .0298708    20.86   0.000     .5645543    .6816459\n",
      "              |\n",
      "     t0ethnic |\n",
      "       black  |  -.1925126   .1359771    -1.42   0.157    -.4590228    .0739976\n",
      "      indian  |  -.3409346   .1020872    -3.34   0.001    -.5410217   -.1408474\n",
      "   pakistani  |   -.018457   .1262075    -0.15   0.884    -.2658191    .2289052\n",
      " bangladeshi  |  -.5032732   .2471716    -2.04   0.042    -.9877207   -.0188257\n",
      " other asian  |  -.9808507   .2115623    -4.64   0.000    -1.395505   -.5661962\n",
      "other resp..  |  -.2478062   .1787908    -1.39   0.166    -.5982296    .1026173\n",
      "              |\n",
      "      t0house |\n",
      "      rented  |   .5924895   .0402377    14.72   0.000     .5136251    .6713539\n",
      "       other  |   .1031916   .1321823     0.78   0.435     -.155881    .3622642\n",
      "              |\n",
      "       t0stay |\n",
      " mother only  |   .0279942   .0479016     0.58   0.559    -.0658913    .1218796\n",
      " father only  |   .2429172   .0841254     2.89   0.004     .0780346    .4077999\n",
      "other resp..  |   .2953685   .1173102     2.52   0.012     .0654448    .5252922\n",
      "              |\n",
      " t0par_nssec2 |\n",
      "1.1 Large ..  |   .6255773   .1082793     5.78   0.000     .4133538    .8378007\n",
      "2 Lower ma..  |   .7647938   .0868995     8.80   0.000      .594474    .9351136\n",
      "3 Intermed..  |   1.099431   .0877086    12.54   0.000      .927525    1.271336\n",
      "4 Small em..  |   1.335914   .0885467    15.09   0.000     1.162366    1.509462\n",
      "5 Lower su..  |   1.607211    .094701    16.97   0.000       1.4216    1.792821\n",
      "6 Semi-rou..  |   1.703179   .0877544    19.41   0.000     1.531184    1.875174\n",
      "   7 Routine  |   1.874264   .0923416    20.30   0.000     1.693278     2.05525\n",
      "              |\n",
      "        _cons |  -3.127977    .090501   -34.56   0.000    -3.305356   -2.950598\n",
      "-------------------------------------------------------------------------------\n",
      "\n"
     ]
    }
   ],
   "source": [
    "zip t0examac \ti.t0cohort ///\n",
    "\t\t\t\tib2.t0sex ///\n",
    "\t\t\t\ti.t0ethnic ///\n",
    "\t\t\t\ti.t0house ///\n",
    "\t\t\t\ti.t0stay ///\n",
    "\t\t\t\tib2.t0par_nssec2 [pw=t1weight], ///\n",
    "\t\t\t\t\tinflate(i.t0cohort ///\n",
    "\t\t\t\t\t\t\tib2.t0sex ///\n",
    "\t\t\t\t\t\t\ti.t0ethnic ///\n",
    "\t\t\t\t\t\t\ti.t0house ///\n",
    "\t\t\t\t\t\t\ti.t0stay ///\n",
    "\t\t\t\t\t\t\tib2.t0par_nssec2 )\n",
    "est store c"
   ]
  },
  {
   "cell_type": "code",
   "execution_count": 26,
   "metadata": {},
   "outputs": [
    {
     "name": "stdout",
     "output_type": "stream",
     "text": [
      "(output written to C:\\temp\\github_ycs_subject_analysis\\outputs\\agg_models_table2\n",
      "> .rtf)\n"
     ]
    }
   ],
   "source": [
    "* Export model results\n",
    "\n",
    "esttab c using \"$path2\\outputs\\agg_models_table2.rtf\", ///\n",
    "\tb(%9.2f) se(%9.2f) aic(%9.1f) bic(%9.1f) scalars(\"ll Log lik.\") sfmt(%9.1f) ///\n",
    "\tstarlevels(* .05 ** .01 *** .001) stardetach \t///\n",
    "\tlabel mtitles(\"ZIP Model\") ///\n",
    "\twide staraux nogaps noparentheses replace"
   ]
  },
  {
   "cell_type": "code",
   "execution_count": 27,
   "metadata": {},
   "outputs": [
    {
     "name": "stdout",
     "output_type": "stream",
     "text": [
      "\n",
      "\n",
      "Measures of Fit for zip of t0examac\n",
      "\n",
      "Log-Lik Intercept Only:  -164641.088     Log-Lik Full Model:      -157211.481\n",
      "D(67873):                 314422.962     LR(62):                    14859.213\n",
      "                                         Prob > LR:                     0.000\n",
      "McFadden's R2:                 0.045     McFadden's Adj R2:             0.045\n",
      "Maximum Likelihood R2:         0.196     Cragg & Uhler's R2:            0.198\n",
      "AIC:                           4.630     AIC*n:                    314550.962\n",
      "BIC:                     -440754.847     BIC':                     -14169.380\n",
      "\n",
      "\n",
      "Akaike's information criterion and Bayesian information criterion\n",
      "\n",
      "-----------------------------------------------------------------------------\n",
      "       Model |          N   ll(null)  ll(model)      df        AIC        BIC\n",
      "-------------+---------------------------------------------------------------\n",
      "           c |     67,937  -162673.5  -157211.5      52     314527   315001.5\n",
      "-----------------------------------------------------------------------------\n",
      "Note: BIC uses N = number of observations. See [R] BIC note.\n"
     ]
    }
   ],
   "source": [
    "fitstat\n",
    "estat ic\n",
    "\n",
    "* Number of obs     =     67,937\n",
    "* Nonzero obs       =     61,361\n",
    "* Zero obs          =      6,576"
   ]
  },
  {
   "cell_type": "code",
   "execution_count": 28,
   "metadata": {},
   "outputs": [
    {
     "name": "stdout",
     "output_type": "stream",
     "text": [
      "\n",
      "\n",
      "\n",
      "Measures of Fit for poisson of t0examac\n",
      "\n",
      "Log-Lik Intercept Only:            .     Log-Lik Full Model:      -179650.728\n",
      "D(67905):                 359301.457     LR(25):                            .\n",
      "                                         Prob > LR:                         .\n",
      "McFadden's R2:                     .     McFadden's Adj R2:                 .\n",
      "Maximum Likelihood R2:             .     Cragg & Uhler's R2:                .\n",
      "AIC:                           5.290     AIC*n:                    359365.457\n",
      "BIC:                     -396232.395     BIC':                              .\n",
      "\n",
      "\n",
      "Akaike's information criterion and Bayesian information criterion\n",
      "\n",
      "-----------------------------------------------------------------------------\n",
      "       Model |          N   ll(null)  ll(model)      df        AIC        BIC\n",
      "-------------+---------------------------------------------------------------\n",
      "           . |     67,937          .  -179650.7      26   359353.5   359590.7\n",
      "-----------------------------------------------------------------------------\n",
      "Note: BIC uses N = number of observations. See [R] BIC note.\n"
     ]
    }
   ],
   "source": [
    "* Compare this with a poisson regression model\n",
    "\n",
    "quietly: poisson t0examac \ti.t0cohort ///\n",
    "\t\t\t\t\t\t\tib2.t0sex ///\n",
    "\t\t\t\t\t\t\ti.t0ethnic ///\n",
    "\t\t\t\t\t\t\ti.t0house ///\n",
    "\t\t\t\t\t\t\ti.t0stay ///\n",
    "\t\t\t\t\t\t\tib2.t0par_nssec2 ///\n",
    "\t\t\t\t\t\t\t\t[pw=t1weight]\n",
    "fitstat\n",
    "estat ic\n",
    "\n",
    "* Lower BIC for ZIP model\n",
    "\n",
    "* ZIP\t\tBIC\t-440754.847\n",
    "* Poisson\tBIC\t-396232.395"
   ]
  },
  {
   "cell_type": "markdown",
   "metadata": {},
   "source": [
    "### Table A4 <a class=\"anchor\" id=\"tab4\"></a>\n",
    "*Linear regression model (survey weighted) for school GCSE attainment Year 11*\n",
    "\n",
    "All pupils gaining a GCSE pass at grades A*-G, n=67,937, weighted data, YCS Cohorts 5-11.\n",
    "Coefficients reported are estimated betas."
   ]
  },
  {
   "cell_type": "markdown",
   "metadata": {},
   "source": [
    "[Go to Contents](#contents) \n",
    "<br>"
   ]
  },
  {
   "cell_type": "code",
   "execution_count": 29,
   "metadata": {},
   "outputs": [
    {
     "name": "stdout",
     "output_type": "stream",
     "text": [
      "\n",
      "--------------------------------------------------------------------------------\n",
      "t0score2                                       Capped GCSE points score (max 84)\n",
      "--------------------------------------------------------------------------------\n",
      "\n",
      "                  type:  numeric (float)\n",
      "\n",
      "                 range:  [0,84]                       units:  1\n",
      "         unique values:  85                       missing .:  0/67,937\n",
      "\n",
      "                  mean:   42.8777\n",
      "              std. dev:   13.7502\n",
      "\n",
      "           percentiles:        10%       25%       50%       75%       90%\n",
      "                                24        33        43        53        61\n"
     ]
    }
   ],
   "source": [
    "* Outcome: GCSE points score (truncated)\n",
    "\n",
    "codebook t0score2"
   ]
  },
  {
   "cell_type": "code",
   "execution_count": 30,
   "metadata": {},
   "outputs": [
    {
     "name": "stdout",
     "output_type": "stream",
     "text": [
      "\n",
      "(sum of wgt is 62,780.23590652)\n",
      "\n",
      "Linear regression                               Number of obs     =     67,937\n",
      "                                                F(25, 67911)      =     528.91\n",
      "                                                Prob > F          =     0.0000\n",
      "                                                R-squared         =     0.1907\n",
      "                                                Root MSE          =     12.873\n",
      "\n",
      "-------------------------------------------------------------------------------\n",
      "              |               Robust\n",
      "     t0score2 |      Coef.   Std. Err.      t    P>|t|     [95% Conf. Interval]\n",
      "--------------+----------------------------------------------------------------\n",
      "     t0cohort |\n",
      "        1992  |   2.150578   .2004025    10.73   0.000     1.757789    2.543367\n",
      "        1993  |   4.145925   .2135546    19.41   0.000     3.727358    4.564491\n",
      "        1995  |   7.923091   .2136066    37.09   0.000     7.504422     8.34176\n",
      "        1997  |   8.005389   .2167318    36.94   0.000     7.580595    8.430183\n",
      "        1999  |   9.952661     .23745    41.91   0.000      9.48726    10.41806\n",
      "        2001  |   6.927405   .2134995    32.45   0.000     6.508947    7.345864\n",
      "              |\n",
      "        t0sex |\n",
      "        male  |  -3.792467   .1149306   -33.00   0.000    -4.017731   -3.567203\n",
      "              |\n",
      "     t0ethnic |\n",
      "       black  |   -2.32788   .4865811    -4.78   0.000    -3.281579   -1.374182\n",
      "      indian  |   2.013362   .3689399     5.46   0.000      1.29024    2.736484\n",
      "   pakistani  |  -1.923424   .5171799    -3.72   0.000    -2.937096   -.9097515\n",
      " bangladeshi  |   1.861565   1.021412     1.82   0.068    -.1404017    3.863532\n",
      " other asian  |   5.588811   .6128531     9.12   0.000      4.38762    6.790002\n",
      "other resp..  |   .3934053   .5841917     0.67   0.501    -.7516097     1.53842\n",
      "              |\n",
      "      t0house |\n",
      "      rented  |   -5.39042   .1779783   -30.29   0.000    -5.739258   -5.041583\n",
      "       other  |  -1.991537   .4997179    -3.99   0.000    -2.970984   -1.012091\n",
      "              |\n",
      "       t0stay |\n",
      " mother only  |  -.5416317    .188295    -2.88   0.004    -.9106898   -.1725737\n",
      " father only  |  -2.988215    .348792    -8.57   0.000    -3.671847   -2.304583\n",
      "other resp..  |  -3.910707    .490902    -7.97   0.000    -4.872874   -2.948539\n",
      "              |\n",
      " t0par_nssec2 |\n",
      "1.1 Large ..  |  -3.159534   .2958905   -10.68   0.000    -3.739479   -2.579589\n",
      "2 Lower ma..  |  -4.517582   .2175807   -20.76   0.000     -4.94404   -4.091124\n",
      "3 Intermed..  |  -7.595033   .2281425   -33.29   0.000    -8.042192   -7.147874\n",
      "4 Small em..  |  -9.904931   .2422477   -40.89   0.000    -10.37974   -9.430126\n",
      "5 Lower su..  |    -11.571   .2892652   -40.00   0.000    -12.13796   -11.00404\n",
      "6 Semi-rou..  |  -12.59668   .2444002   -51.54   0.000    -13.07571   -12.11766\n",
      "   7 Routine  |  -13.86872   .2841185   -48.81   0.000     -14.4256   -13.31185\n",
      "              |\n",
      "        _cons |   45.19329   .2406952   187.76   0.000     44.72153    45.66505\n",
      "-------------------------------------------------------------------------------\n",
      "\n"
     ]
    }
   ],
   "source": [
    "* Linear regression model\n",
    "\n",
    "reg t0score2 \ti.t0cohort ///\n",
    "\t\t\t\tib2.t0sex ///\n",
    "\t\t\t\ti.t0ethnic ///\n",
    "\t\t\t\ti.t0house ///\n",
    "\t\t\t\ti.t0stay ///\n",
    "\t\t\t\tib2.t0par_nssec2 ///\n",
    "\t\t\t\t\t[pw=t1weight]\n",
    "est store d"
   ]
  },
  {
   "cell_type": "code",
   "execution_count": 31,
   "metadata": {},
   "outputs": [
    {
     "name": "stdout",
     "output_type": "stream",
     "text": [
      "(output written to C:\\temp\\github_ycs_subject_analysis\\outputs\\agg_models_table3\n",
      "> .rtf)\n"
     ]
    }
   ],
   "source": [
    "* Export model results\n",
    "\n",
    "esttab d using \"$path2\\outputs\\agg_models_table3.rtf\", ///\n",
    "\tb(%9.2f) se(%9.2f) aic(%9.1f) bic(%9.1f) scalars(\"ll Log lik.\") sfmt(%9.1f) r2 ///\n",
    "\tstarlevels(* .05 ** .01 *** .001) stardetach \t///\n",
    "\tlabel mtitles(\"GCSE Points Score\") ///\n",
    "\twide staraux nogaps noparentheses replace"
   ]
  },
  {
   "cell_type": "markdown",
   "metadata": {},
   "source": [
    "### Table A5 <a class=\"anchor\" id=\"tab5\"></a>\n",
    "*Year 11 School GCSE Attainment: Tetrachoric Correlations.*\n",
    "\n",
    "n=67,937; Unweighted data, YCS Cohorts 5-11."
   ]
  },
  {
   "cell_type": "markdown",
   "metadata": {},
   "source": [
    "[Go to Contents](#contents) \n",
    "<br>"
   ]
  },
  {
   "cell_type": "code",
   "execution_count": 32,
   "metadata": {},
   "outputs": [],
   "source": [
    "use $path3\\ycs5_to_11_set5.dta, clear\n",
    "numlabel _all, add"
   ]
  },
  {
   "cell_type": "code",
   "execution_count": 33,
   "metadata": {},
   "outputs": [
    {
     "name": "stdout",
     "output_type": "stream",
     "text": [
      "\n",
      "\n",
      "(61,946 real changes made)\n",
      "\n",
      "\n",
      "\n",
      "(55,354 real changes made)\n",
      "\n",
      "\n",
      "\n",
      "(56,599 real changes made)\n",
      "\n",
      "\n",
      "\n",
      "(55,631 real changes made)\n",
      "\n",
      "\n",
      "\n",
      "(60,782 real changes made)\n",
      "\n"
     ]
    }
   ],
   "source": [
    "* Young people who gain 5+ A*-C passes and passes in each individual subject group\n",
    "\n",
    "* 1 ENGLISH\n",
    "\n",
    "gen fivepass_eng=0\n",
    "replace fivepass_eng=1 if (t0fiveac==1 & english==2)\n",
    "qui: tab1 fivepass_eng t0fiveac, missing\n",
    "\n",
    "* 2 MATHS\n",
    "\n",
    "gen fivepass_maths=0\n",
    "replace fivepass_maths=1 if (t0fiveac==1 & maths==2)\n",
    "qui: tab1 fivepass_maths t0fiveac, missing\n",
    "\n",
    "* 3 SCIENCE\n",
    "\n",
    "gen fivepass_sci=0\n",
    "replace fivepass_sci=1 if (t0fiveac==1 & science==2)\n",
    "qui: tab1 fivepass_sci t0fiveac, missing\n",
    "\n",
    "* 4 HUMANITY\n",
    "\n",
    "gen fivepass_hum=0\n",
    "replace fivepass_hum=1 if (t0fiveac==1 & humanity==2)\n",
    "qui: tab1 fivepass_hum t0fiveac, missing\n",
    "\n",
    "* 5 OTHER\n",
    "\n",
    "gen fivepass_other=0\n",
    "replace fivepass_other=1 if (t0fiveac==1 & othersub==2)\n",
    "qui: tab1 fivepass_other t0fiveac, missing"
   ]
  },
  {
   "cell_type": "code",
   "execution_count": 34,
   "metadata": {},
   "outputs": [
    {
     "name": "stdout",
     "output_type": "stream",
     "text": [
      "(obs=67,937)\n",
      "\n",
      "             | fivepa~g fivepa~s fivepa~i fivepa~m fivepa~r\n",
      "-------------+---------------------------------------------\n",
      "fivepass_eng |   1.0000 \n",
      "fivepass_m~s |   0.9652   1.0000 \n",
      "fivepass_sci |   0.9692   0.9448   1.0000 \n",
      "fivepass_hum |   0.9810   0.9337   0.9387   1.0000 \n",
      "fivepass_o~r |   0.9896   0.9506   0.9572   0.9684   1.0000 \n"
     ]
    }
   ],
   "source": [
    "tetrachoric fivepass_eng fivepass_maths fivepass_sci fivepass_hum fivepass_other if sample3==1"
   ]
  },
  {
   "cell_type": "code",
   "execution_count": 35,
   "metadata": {},
   "outputs": [
    {
     "name": "stdout",
     "output_type": "stream",
     "text": [
      "\n",
      "symmetric r(Rho)[5,5]\n",
      "              fivepass_eng  fivepass_m~s  fivepass_sci  fivepass_hum\n",
      "fivepass_eng             1\n",
      "fivepass_m~s     .96515764             1\n",
      "fivepass_sci     .96920308     .94480948             1\n",
      "fivepass_hum     .98102096     .93368675     .93872341             1\n",
      "fivepass_o~r     .98960496      .9506293      .9571842     .96839175\n",
      "\n",
      "              fivepass_o~r\n",
      "fivepass_o~r             1\n"
     ]
    }
   ],
   "source": [
    "matrix list r(Rho)"
   ]
  },
  {
   "cell_type": "markdown",
   "metadata": {},
   "source": [
    "### Table A6 <a class=\"anchor\" id=\"tab6\"></a>\n",
    "*Latent Group Model Results (Four Group Model) - 6 subject groups - all available GCSE subject information*"
   ]
  },
  {
   "cell_type": "markdown",
   "metadata": {},
   "source": [
    "[Go to Contents](#contents) \n",
    "<br>"
   ]
  },
  {
   "cell_type": "code",
   "execution_count": 36,
   "metadata": {},
   "outputs": [],
   "source": [
    "use $path3\\ycs5_to_11_set4.dta, clear\n",
    "numlabel _all, add"
   ]
  },
  {
   "cell_type": "code",
   "execution_count": 37,
   "metadata": {},
   "outputs": [
    {
     "name": "stdout",
     "output_type": "stream",
     "text": [
      "\n",
      "\n",
      "   Sample - |\n",
      " nonmissing |\n",
      "       GCSE |\n",
      "   subjects |\n",
      "(alternativ |\n",
      "e grouping) |      Freq.     Percent        Cum.\n",
      "------------+-----------------------------------\n",
      "          0 |     50,557       42.69       42.69\n",
      "          1 |     67,863       57.31      100.00\n",
      "------------+-----------------------------------\n",
      "      Total |    118,420      100.00\n",
      "\n",
      "(50,557 observations deleted)\n",
      "\n",
      "  67,863\n"
     ]
    }
   ],
   "source": [
    "tab sample2, mi\n",
    "keep if sample2==1\n",
    "count"
   ]
  },
  {
   "cell_type": "code",
   "execution_count": 38,
   "metadata": {},
   "outputs": [],
   "source": [
    "keep english maths science humanity language othersub2 \n",
    "sort english maths science humanity language othersub2\n",
    "\n",
    "contract english maths science humanity language othersub2, zero freq(count)"
   ]
  },
  {
   "cell_type": "markdown",
   "metadata": {},
   "source": [
    "Change the directory to the location of the doLCA plugin."
   ]
  },
  {
   "cell_type": "code",
   "execution_count": 39,
   "metadata": {},
   "outputs": [
    {
     "name": "stdout",
     "output_type": "stream",
     "text": [
      "C:\\ado\\plus\\l\\Release64-1.3.2\n"
     ]
    }
   ],
   "source": [
    "cd C:\\ado\\plus\\l\\Release64-1.3.2"
   ]
  },
  {
   "cell_type": "code",
   "execution_count": 40,
   "metadata": {},
   "outputs": [],
   "source": [
    "capture matrix drop _all"
   ]
  },
  {
   "cell_type": "code",
   "execution_count": 41,
   "metadata": {},
   "outputs": [
    {
     "name": "stdout",
     "output_type": "stream",
     "text": [
      "(0 real changes made)\n",
      "(0 real changes made)\n",
      "(0 real changes made)\n",
      "(0 real changes made)\n",
      "(0 real changes made)\n",
      "(0 real changes made)\n",
      "(0 observations deleted)\n",
      "(0 observations deleted)\n",
      "(0 observations deleted)\n",
      "  variable english was float now byte\n",
      "  variable maths was float now byte\n",
      "  variable science was float now byte\n",
      "  variable humanity was float now byte\n",
      "  variable language was float now byte\n",
      "  variable othersub2 was float now byte\n",
      "  (1,152 bytes saved)\n",
      "(0 real changes made)\n",
      "(0 real changes made)\n",
      "(0 real changes made)\n",
      "(0 real changes made)\n",
      "(0 real changes made)\n",
      "(0 real changes made)\n",
      "Data Summary, Model Information, and Fit Statistics (EM Algorithm)\n",
      "Number of subjects in analysis: = 64\n",
      "Number of measurement items: 6\n",
      "Number of groups in the data: 1\n",
      "Number of latent classes: 4\n",
      "Rho starting values were randomly generated (seed =      100.0000).\n",
      "The model converged in 1306 iterations.\n",
      "Log-likelihood = -186222.92\n",
      "G-squared = 368.1588\n",
      "AIC = 422.1588\n",
      "BIC = 668.54045\n",
      "CAIC = 695.54045\n",
      "Adjusted BIC = 582.73379\n",
      "Entropy Raw = 27465.293\n",
      "Entropy R-sqd = .70805858\n",
      "Degrees of freedom = 36\n",
      "Number of gamma parameters estimated:3\n",
      "Number of rho parameters estimated::24\n",
      "(0 real changes made)\n",
      "(64 real changes made)\n",
      "(64 real changes made)\n",
      "(64 real changes made)\n",
      "(64 real changes made)\n"
     ]
    }
   ],
   "source": [
    "doLCA english maths science humanity language othersub2, ///\n",
    "      nclass(4) ///\n",
    "\t  seed(100) ///\n",
    "\t  seeddraws(1500) ///\n",
    "\t  categories(2 2 2 2 2 2) ///\n",
    "\t  freq(count)"
   ]
  },
  {
   "cell_type": "markdown",
   "metadata": {},
   "source": [
    "The following code shows the:\n",
    "\n",
    "* Prior Probabilities (latent group membership)"
   ]
  },
  {
   "cell_type": "code",
   "execution_count": 42,
   "metadata": {},
   "outputs": [
    {
     "name": "stdout",
     "output_type": "stream",
     "text": [
      "\n",
      "r(gamma)[1,4]\n",
      "       Class1     Class2     Class3     Class4\n",
      "r1  .16942356  .17670045  .12159101  .53228498\n"
     ]
    }
   ],
   "source": [
    "matrix list r(gamma)"
   ]
  },
  {
   "cell_type": "markdown",
   "metadata": {},
   "source": [
    "The following code shows the:\n",
    "\n",
    "* (prior probabilities) - GCSE subject outcomes"
   ]
  },
  {
   "cell_type": "code",
   "execution_count": 43,
   "metadata": {},
   "outputs": [
    {
     "name": "stdout",
     "output_type": "stream",
     "text": [
      "\n",
      "r(rho)[12,4]\n",
      "                Class1     Class2     Class3     Class4\n",
      "  english11   .7556502  .10869346  .27273981  .00152074\n",
      "    maths11  .93824359  .69618163  .28848678  .03783777\n",
      "  science11  .92714957  .73888437  .14240732  .03537025\n",
      " humanity11  .92206627  .41070796  .40135902   .0281725\n",
      " language11  .93074363  .62819149  .70873709    .122517\n",
      "othersub211   .6806005  .23275712  .31997368  .05230464\n",
      "  english21   .2443498  .89130654  .72726019  .99847926\n",
      "    maths21  .06175641  .30381837  .71151322  .96216223\n",
      "  science21  .07285043  .26111563  .85759268  .96462975\n",
      " humanity21  .07793373  .58929204  .59864098   .9718275\n",
      " language21  .06925637  .37180851  .29126291    .877483\n",
      "othersub221   .3193995  .76724288  .68002632  .94769536\n"
     ]
    }
   ],
   "source": [
    "matrix list r(rho)"
   ]
  },
  {
   "cell_type": "markdown",
   "metadata": {},
   "source": [
    "### Table A7 <a class=\"anchor\" id=\"tab7\"></a>\n",
    "*Latent Group Model Results (Four Group Model) - all available GCSE subject information*"
   ]
  },
  {
   "cell_type": "markdown",
   "metadata": {},
   "source": [
    "[Go to Contents](#contents) \n",
    "<br>"
   ]
  },
  {
   "cell_type": "code",
   "execution_count": 44,
   "metadata": {},
   "outputs": [],
   "source": [
    "use $path3\\ycs5_to_11_set4.dta, clear\n",
    "numlabel _all, add"
   ]
  },
  {
   "cell_type": "code",
   "execution_count": 45,
   "metadata": {},
   "outputs": [
    {
     "name": "stdout",
     "output_type": "stream",
     "text": [
      "\n",
      "\n",
      "   Sample - |\n",
      " nonmissing |\n",
      "       GCSE |\n",
      "   subjects |      Freq.     Percent        Cum.\n",
      "------------+-----------------------------------\n",
      "          0 |     26,338       22.24       22.24\n",
      "          1 |     92,082       77.76      100.00\n",
      "------------+-----------------------------------\n",
      "      Total |    118,420      100.00\n",
      "\n",
      "(26,338 observations deleted)\n",
      "\n",
      "  92,082\n"
     ]
    }
   ],
   "source": [
    "tab sample1, missing\n",
    "keep if sample1==1\n",
    "count"
   ]
  },
  {
   "cell_type": "code",
   "execution_count": 46,
   "metadata": {},
   "outputs": [],
   "source": [
    "keep english maths science humanity othersub \n",
    "sort english maths science humanity othersub\n",
    "\n",
    "contract english maths science humanity othersub, zero freq(count)"
   ]
  },
  {
   "cell_type": "markdown",
   "metadata": {},
   "source": [
    "Change the directory to the location of the doLCA plugin."
   ]
  },
  {
   "cell_type": "code",
   "execution_count": 47,
   "metadata": {},
   "outputs": [
    {
     "name": "stdout",
     "output_type": "stream",
     "text": [
      "C:\\ado\\plus\\l\\Release64-1.3.2\n"
     ]
    }
   ],
   "source": [
    "cd C:\\ado\\plus\\l\\Release64-1.3.2"
   ]
  },
  {
   "cell_type": "code",
   "execution_count": 48,
   "metadata": {},
   "outputs": [],
   "source": [
    "capture matrix drop _all"
   ]
  },
  {
   "cell_type": "code",
   "execution_count": 49,
   "metadata": {},
   "outputs": [
    {
     "name": "stdout",
     "output_type": "stream",
     "text": [
      "(0 real changes made)\n",
      "(0 real changes made)\n",
      "(0 real changes made)\n",
      "(0 real changes made)\n",
      "(0 real changes made)\n",
      "(0 observations deleted)\n",
      "(0 observations deleted)\n",
      "(0 observations deleted)\n",
      "  variable english was float now byte\n",
      "  variable maths was float now byte\n",
      "  variable science was float now byte\n",
      "  variable humanity was float now byte\n",
      "  variable othersub was float now byte\n",
      "  (480 bytes saved)\n",
      "(0 real changes made)\n",
      "(0 real changes made)\n",
      "(0 real changes made)\n",
      "(0 real changes made)\n",
      "(0 real changes made)\n",
      "Data Summary, Model Information, and Fit Statistics (EM Algorithm)\n",
      "Number of subjects in analysis: = 32\n",
      "Number of measurement items: 5\n",
      "Number of groups in the data: 1\n",
      "Number of latent classes: 4\n",
      "Rho starting values were randomly generated (seed =      100.0000).\n",
      "The model converged in 1045 iterations.\n",
      "Log-likelihood = -210835.33\n",
      "G-squared = 36.671514\n",
      "AIC = 82.671514\n",
      "BIC = 299.57151\n",
      "CAIC = 322.57151\n",
      "Adjusted BIC = 226.47678\n",
      "Entropy Raw = 34661.208\n",
      "Entropy R-sqd = .72847271\n",
      "Degrees of freedom = 8\n",
      "Number of gamma parameters estimated:3\n",
      "Number of rho parameters estimated::20\n",
      "(0 real changes made)\n",
      "(32 real changes made)\n",
      "(32 real changes made)\n",
      "(32 real changes made)\n",
      "(32 real changes made)\n"
     ]
    }
   ],
   "source": [
    "* 4 Class Model\n",
    "\n",
    "doLCA english maths science humanity othersub, ///\n",
    "      nclass(4) ///\n",
    "\t  seed(100) ///\n",
    "\t  seeddraws(1500) ///\n",
    "\t  categories(2 2 2 2 2) ///\n",
    "\t  freq(count)"
   ]
  },
  {
   "cell_type": "markdown",
   "metadata": {},
   "source": [
    "The following code shows the:\n",
    "\n",
    "* Prior Probabilities (latent group membership)"
   ]
  },
  {
   "cell_type": "code",
   "execution_count": 50,
   "metadata": {},
   "outputs": [
    {
     "name": "stdout",
     "output_type": "stream",
     "text": [
      "\n",
      "r(gamma)[1,4]\n",
      "       Class1     Class2     Class3     Class4\n",
      "r1  .18328562   .0739366  .55050729  .19227049\n"
     ]
    }
   ],
   "source": [
    "matrix list r(gamma)"
   ]
  },
  {
   "cell_type": "markdown",
   "metadata": {},
   "source": [
    "The following code shows the:\n",
    "\n",
    "* (prior probabilities) - GCSE subject outcomes"
   ]
  },
  {
   "cell_type": "code",
   "execution_count": 51,
   "metadata": {},
   "outputs": [
    {
     "name": "stdout",
     "output_type": "stream",
     "text": [
      "\n",
      "r(rho)[10,4]\n",
      "               Class1     Class2     Class3     Class4\n",
      " english11  .82946123  .51793764   .0117196  .15225391\n",
      "   maths11  .95757634  .41182169  .05519545  .73347712\n",
      " science11   .9523567  .20524751  .04589657  .76781132\n",
      "humanity11  .93015137  .58614158  .04495717   .4632118\n",
      "othersub11  .70316103  .35563051  .03394275  .22596897\n",
      " english21  .17053877  .48206236   .9882804  .84774609\n",
      "   maths21  .04242366  .58817831  .94480455  .26652288\n",
      " science21   .0476433  .79475249  .95410343  .23218868\n",
      "humanity21  .06984863  .41385842  .95504283   .5367882\n",
      "othersub21  .29683897  .64436949  .96605725  .77403103\n"
     ]
    }
   ],
   "source": [
    "matrix list r(rho)"
   ]
  },
  {
   "cell_type": "markdown",
   "metadata": {},
   "source": [
    "### Table A8 <a class=\"anchor\" id=\"tab8\"></a>\n",
    "*Characteristics of the Latent Educational Groups (Row Percentages)*\n",
    "\n",
    "All pupils gaining a GCSE pass at grades A*-G, n=67,937, weighted data, YCS Cohorts 5-11."
   ]
  },
  {
   "cell_type": "markdown",
   "metadata": {},
   "source": [
    "[Go to Contents](#contents) \n",
    "<br>"
   ]
  },
  {
   "cell_type": "code",
   "execution_count": 52,
   "metadata": {},
   "outputs": [],
   "source": [
    "use $path3\\ycs5_to_11_set5.dta, clear\n",
    "numlabel _all, add"
   ]
  },
  {
   "cell_type": "code",
   "execution_count": 53,
   "metadata": {},
   "outputs": [],
   "source": [
    "estimates clear\n",
    "capture matrix drop _all"
   ]
  },
  {
   "cell_type": "code",
   "execution_count": 54,
   "metadata": {},
   "outputs": [],
   "source": [
    "* Cohort\n",
    "\n",
    "qui: svy: proportion sample3_modal_class, over(t0cohort)\n",
    "matrix a1 = e(b)\n",
    "matrix a  = (a1[1 , 1..7] \\ a1[1 , 8..14] \\ a1[1 , 15..21] \\ a1[1 , 22..28] )'\n",
    "\n",
    "matrix colnames a = \"1 Poor Grades\" \"2 Science\" \"3 Non-Science\" \"4 Good Grades\"\n",
    "matrix rownames a = \":1990\" \":1992\" \":1993\" \":1995\" \":1997\" \":1999\" \":2001\""
   ]
  },
  {
   "cell_type": "code",
   "execution_count": 55,
   "metadata": {},
   "outputs": [],
   "source": [
    "* Sex\n",
    "\n",
    "qui: svy: proportion sample3_modal_class, over(t0sex)\n",
    "matrix b1 = e(b)\n",
    "matrix b  = (b1[1 , 1..2] \\ b1[1 , 3..4] \\ b1[1 , 5..6] \\ b1[1 , 7..8] )'\n",
    "\n",
    "matrix rownames b = \":Boys\" \":Girls\""
   ]
  },
  {
   "cell_type": "code",
   "execution_count": 56,
   "metadata": {},
   "outputs": [],
   "source": [
    "* Ethnicity\n",
    "\n",
    "qui: svy: proportion sample3_modal_class, over(t0ethnic)\n",
    "matrix c1 = e(b)\n",
    "matrix c  = (c1[1 , 1..7] \\ c1[1 , 8..14] \\ c1[1 , 15..21] \\ c1[1 , 22..28] )'\n",
    "\n",
    "matrix rownames c = \":White\" \":Black\" \":Indian\" \":Pakistani\" \":Bangladeshi\" \":Other asian\" \":Other response\""
   ]
  },
  {
   "cell_type": "code",
   "execution_count": 57,
   "metadata": {},
   "outputs": [],
   "source": [
    "* Housing\n",
    "\n",
    "qui: svy: proportion sample3_modal_class, over(t0house)\n",
    "matrix d1 = e(b)\n",
    "matrix d  = (d1[1 , 1..3] \\ d1[1 , 4..6] \\ d1[1 , 7..9] \\ d1[1 , 10..12] )'\n",
    "\n",
    "matrix rownames d = \":Owned\" \":Rented\" \":Other housing\""
   ]
  },
  {
   "cell_type": "code",
   "execution_count": 58,
   "metadata": {},
   "outputs": [],
   "source": [
    "* Household Type\n",
    "\n",
    "qui: svy: proportion sample3_modal_class, over(t0stay)\n",
    "matrix e1 = e(b)\n",
    "matrix e  = (e1[1 , 1..4] \\ e1[1 , 5..8] \\ e1[1 , 9..12] \\ e1[1 , 13..16] )'\n",
    "\n",
    "matrix rownames e = \":Lives with both parents\" \":Only lives with mother\" \":Only lives with father\" \":Other household\""
   ]
  },
  {
   "cell_type": "code",
   "execution_count": 59,
   "metadata": {},
   "outputs": [],
   "source": [
    "* NS-SEC\n",
    "\n",
    "qui: svy: proportion sample3_modal_class, over(t0par_nssec2)\n",
    "matrix f1 = e(b)\n",
    "matrix f  = (f1[1 , 1..8] \\ f1[1 , 9..16] \\ f1[1 , 17..24] \\ f1[1 , 25..32] )'\n",
    "\n",
    "matrix rownames f = \":NS1 1\" \":NS1 2\" \":NS2\" \":NS3\" \":NS4\" \":NS5\" \":NS6\" \":NS7\""
   ]
  },
  {
   "cell_type": "code",
   "execution_count": 60,
   "metadata": {},
   "outputs": [],
   "source": [
    "* All\n",
    "\n",
    "qui: svy: proportion sample3_modal_class\n",
    "matrix g1 = e(b)\n",
    "matrix rownames g1 = \"All\""
   ]
  },
  {
   "cell_type": "code",
   "execution_count": 61,
   "metadata": {},
   "outputs": [],
   "source": [
    "* n\n",
    "\n",
    "matrix g2 = e(b) * e(N)\n",
    "matrix rownames g2 = \"n\"\n",
    "\n",
    "forval j = 1/4 {\n",
    "\t\tmatrix g2[1,`j'] = round(g2[1,`j'])\n",
    "}"
   ]
  },
  {
   "cell_type": "code",
   "execution_count": 62,
   "metadata": {},
   "outputs": [],
   "source": [
    "* Concatenate the sub-matrices\n",
    "\n",
    "matrix h = (a\\b\\c\\d\\e\\f\\g1\\g2)"
   ]
  },
  {
   "cell_type": "code",
   "execution_count": 63,
   "metadata": {},
   "outputs": [],
   "source": [
    "* Round the values\n",
    "\n",
    "forval i = 1/32 {\n",
    "\tforval j = 1/4 {\n",
    "\t\tmatrix h[`i',`j'] = round(h[`i',`j'], 0.01)\n",
    "}\n",
    "}"
   ]
  },
  {
   "cell_type": "code",
   "execution_count": 64,
   "metadata": {},
   "outputs": [
    {
     "name": "stdout",
     "output_type": "stream",
     "text": [
      "\n",
      "h[33,4]\n",
      "              1 Poor Gra~s     2 Science  3 Non-Scie~e  4 Good Gra~s\n",
      "        1990           .32           .06           .21           .41\n",
      "        1992           .31           .05           .21           .43\n",
      "        1993           .29           .05            .2           .47\n",
      "        1995           .29           .04           .18           .48\n",
      "        1997           .26           .04           .18           .52\n",
      "        1999           .25           .04           .18           .53\n",
      "        2001           .23           .04           .18           .55\n",
      "        Boys           .33           .07           .15           .45\n",
      "       Girls           .24           .02           .23           .51\n",
      "       White           .28           .05           .19           .48\n",
      "       Black           .31           .04           .28           .37\n",
      "      Indian           .25           .05           .19           .51\n",
      "   Pakistani           .37           .04           .24           .35\n",
      " Bangladeshi           .32           .05           .26           .37\n",
      " Other asian           .18           .05           .15           .63\n",
      "Other resp~e           .24           .04           .23           .49\n",
      "       Owned           .25           .05           .19           .52\n",
      "      Rented           .47           .05           .23           .26\n",
      "Other hous~g            .3           .07            .2           .43\n",
      "Lives with~s           .27           .05           .19           .49\n",
      "Only lives~r           .32           .05           .21           .43\n",
      "Only lives~r           .36           .06           .21           .37\n",
      "Other hous~d            .4           .04           .24           .32\n",
      "       NS1 1           .17           .04           .17           .63\n",
      "       NS1 2           .11           .04           .13           .73\n",
      "         NS2            .2           .04           .18           .58\n",
      "         NS3           .27           .05           .21           .48\n",
      "         NS4           .32           .06           .21           .41\n",
      "         NS5           .39           .05           .21           .35\n",
      "         NS6           .43           .05           .22            .3\n",
      "         NS7           .49           .05           .21           .26\n",
      "         All           .28           .05           .19           .48\n",
      "           n         19141          3163         12970         32663\n"
     ]
    }
   ],
   "source": [
    "matrix list h"
   ]
  },
  {
   "cell_type": "markdown",
   "metadata": {},
   "source": [
    "### Table A9 <a class=\"anchor\" id=\"tab9\"></a>\n",
    "*Multinomial Logistic Regression Model Results – Latent Educational Group Membership (posterior probability assignment)*\n",
    "\n",
    "All pupils gaining a GCSE pass at grades A*-G, n=67,937, weighted data, YCS Cohorts 5-11."
   ]
  },
  {
   "cell_type": "markdown",
   "metadata": {},
   "source": [
    "[Go to Contents](#contents) \n",
    "<br>"
   ]
  },
  {
   "cell_type": "code",
   "execution_count": 65,
   "metadata": {},
   "outputs": [],
   "source": [
    "* Estimating posterior probability weighted mlogit\n",
    "\n",
    "use $path3\\ycs5_to_11_set5.dta, clear\n",
    "numlabel _all, add"
   ]
  },
  {
   "cell_type": "code",
   "execution_count": 66,
   "metadata": {},
   "outputs": [],
   "source": [
    "* Predicting latent class probabilities\n",
    "\n",
    "* These have already been appended to the dataset in the variables:\n",
    "* sample3_pp1 sample3_pp2 sample3_pp3 sample3_pp4"
   ]
  },
  {
   "cell_type": "code",
   "execution_count": 67,
   "metadata": {},
   "outputs": [
    {
     "name": "stdout",
     "output_type": "stream",
     "text": [
      "\n",
      "\n",
      "    Sample 3 - |\n",
      "   Modal Class |\n",
      "    Assignment |      Freq.     Percent        Cum.\n",
      "---------------+-----------------------------------\n",
      "1. Poor Grades |     13,595       11.48       11.48\n",
      "    2. Science |      2,934        2.48       13.96\n",
      "3. Non-Science |     12,602       10.64       24.60\n",
      "4. Good Grades |     38,806       32.77       57.37\n",
      "             . |     50,483       42.63      100.00\n",
      "---------------+-----------------------------------\n",
      "         Total |    118,420      100.00\n",
      "\n",
      "(50,483 observations deleted)\n",
      "\n",
      "  67,937\n"
     ]
    }
   ],
   "source": [
    "tab sample3_modal_class, mi\n",
    "\n",
    "keep if sample3==1\n",
    "count"
   ]
  },
  {
   "cell_type": "code",
   "execution_count": 68,
   "metadata": {},
   "outputs": [],
   "source": [
    "* Need to reshape the data into long format by posterior probability weights\n",
    "\n",
    "rename sample3_pp1 pp1\n",
    "rename sample3_pp2 pp2\n",
    "rename sample3_pp3 pp3\n",
    "rename sample3_pp4 pp4"
   ]
  },
  {
   "cell_type": "code",
   "execution_count": 69,
   "metadata": {},
   "outputs": [
    {
     "name": "stdout",
     "output_type": "stream",
     "text": [
      "\n",
      "\n",
      "\n",
      "--------------------------------------------------------------------------------\n",
      "id                                                                   (unlabeled)\n",
      "--------------------------------------------------------------------------------\n",
      "\n",
      "                  type:  numeric (float)\n",
      "\n",
      "                 range:  [1,67937]                    units:  1\n",
      "         unique values:  67,937                   missing .:  0/67,937\n",
      "\n",
      "                  mean:     33969\n",
      "              std. dev:   19611.9\n",
      "\n",
      "           percentiles:        10%       25%       50%       75%       90%\n",
      "                              6794     16985     33969     50953     61144\n"
     ]
    }
   ],
   "source": [
    "* Create id variable for case number\n",
    "\n",
    "gen id = _n\n",
    "codebook id"
   ]
  },
  {
   "cell_type": "code",
   "execution_count": 70,
   "metadata": {},
   "outputs": [
    {
     "name": "stdout",
     "output_type": "stream",
     "text": [
      "(note: j = 1 2 3 4)\n",
      "\n",
      "Data                               wide   ->   long\n",
      "-----------------------------------------------------------------------------\n",
      "Number of obs.                    67937   ->  271748\n",
      "Number of variables                 115   ->     113\n",
      "j variable (4 values)                     ->   class\n",
      "xij variables:\n",
      "                        pp1 pp2 ... pp4   ->   pp\n",
      "-----------------------------------------------------------------------------\n"
     ]
    }
   ],
   "source": [
    "* Reshape long so that that each individual is represented 4 times \n",
    "* with posterior probability weight\n",
    "\n",
    "reshape long pp, i(id) j(class)"
   ]
  },
  {
   "cell_type": "code",
   "execution_count": 71,
   "metadata": {},
   "outputs": [
    {
     "name": "stdout",
     "output_type": "stream",
     "text": [
      "\n",
      "\n",
      "--------------------------------------------------------------------------------\n",
      "pp                                                                   (unlabeled)\n",
      "--------------------------------------------------------------------------------\n",
      "\n",
      "                  type:  numeric (double)\n",
      "\n",
      "                 range:  [5.645e-07,.97712007]        units:  1.000e-13\n",
      "         unique values:  128                      missing .:  0/271,748\n",
      "\n",
      "                  mean:       .25\n",
      "              std. dev:   .363132\n",
      "\n",
      "           percentiles:        10%       25%       50%       75%       90%\n",
      "                           4.0e-06   .010486   .021196    .43897    .97712\n",
      "\n",
      "--------------------------------------------------------------------------------\n",
      "t1weight                                                               weight s1\n",
      "--------------------------------------------------------------------------------\n",
      "\n",
      "                  type:  numeric (double)\n",
      "\n",
      "                 range:  [.133797,4.4664001]          units:  1.000e-07\n",
      "         unique values:  1,479                    missing .:  0/271,748\n",
      "\n",
      "                  mean:   .924095\n",
      "              std. dev:   .448744\n",
      "\n",
      "           percentiles:        10%       25%       50%       75%       90%\n",
      "                           .415742   .684385   .822856   1.08558   1.47895\n",
      "\n",
      "\n",
      "\n",
      "      pweight: lca_weight\n",
      "          VCE: linearized\n",
      "  Single unit: missing\n",
      "     Strata 1: <one>\n",
      "         SU 1: <observations>\n",
      "        FPC 1: <zero>\n",
      "\n",
      "\n",
      "Survey: Describing stage 1 sampling units\n",
      "\n",
      "      pweight: lca_weight\n",
      "          VCE: linearized\n",
      "  Single unit: missing\n",
      "     Strata 1: <one>\n",
      "         SU 1: <observations>\n",
      "        FPC 1: <zero>\n",
      "\n",
      "                                      #Obs per Unit\n",
      "                              ----------------------------\n",
      "Stratum    #Units     #Obs      min       mean      max   \n",
      "--------  --------  --------  --------  --------  --------\n",
      "       1   271,748   271,748         1       1.0         1\n",
      "--------  --------  --------  --------  --------  --------\n",
      "       1   271,748   271,748         1       1.0         1\n"
     ]
    }
   ],
   "source": [
    "* Fit multinomial logistic regression model using posterior probability weight\n",
    "\n",
    "* Combine the posterior probability weight with the survey weight\n",
    "\n",
    "codebook pp t1weight\n",
    "gen lca_weight = pp * t1weight\n",
    "\n",
    "svyset [pw=lca_weight]\n",
    "svydescribe"
   ]
  },
  {
   "cell_type": "code",
   "execution_count": 72,
   "metadata": {},
   "outputs": [
    {
     "name": "stdout",
     "output_type": "stream",
     "text": [
      "i.t0cohort        _It0cohort_1990-2001(naturally coded; _It0cohort_1990 omitted)\n",
      "i.t0ethnic        _It0ethnic_1-10     (naturally coded; _It0ethnic_1 omitted)\n",
      "i.t0house         _It0house_1-3       (naturally coded; _It0house_1 omitted)\n",
      "i.t0stay          _It0stay_1-4        (naturally coded; _It0stay_1 omitted)\n",
      "(running mlogit on estimation sample)\n",
      "\n",
      "Survey: Multinomial logistic regression\n",
      "\n",
      "Number of strata   =         1                  Number of obs     =    271,748\n",
      "Number of PSUs     =   271,748                  Population size   = 62,780.236\n",
      "                                                Design df         =    271,747\n",
      "                                                F(  75, 271673)   =     120.52\n",
      "                                                Prob > F          =     0.0000\n",
      "\n",
      "-------------------------------------------------------------------------------\n",
      "              |             Linearized\n",
      "        class |      Coef.   Std. Err.      t    P>|t|     [95% Conf. Interval]\n",
      "--------------+----------------------------------------------------------------\n",
      "1             |\n",
      "_It0coho~1992 |  -.0632261   .0380688    -1.66   0.097    -.1378398    .0113876\n",
      "_It0coho~1993 |  -.2397565   .0401229    -5.98   0.000    -.3183962   -.1611168\n",
      "_It0coho~1995 |  -.3311368   .0399391    -8.29   0.000    -.4094164   -.2528572\n",
      "_It0coho~1997 |  -.4722288    .041523   -11.37   0.000    -.5536128   -.3908448\n",
      "_It0coho~1999 |  -.5445075   .0459818   -11.84   0.000    -.6346305   -.4543845\n",
      "_It0coho~2001 |  -.7202282   .0436982   -16.48   0.000    -.8058756   -.6345809\n",
      "              |\n",
      "        t0sex |\n",
      "     1. male  |   .5149823   .0218245    23.60   0.000     .4722068    .5577577\n",
      "              |\n",
      " _It0ethnic_4 |   .2319987   .0970887     2.39   0.017     .0417075    .4222899\n",
      " _It0ethnic_5 |  -.3308674   .0715405    -4.62   0.000    -.4710848   -.1906499\n",
      " _It0ethnic_6 |   .2541783   .0944218     2.69   0.007     .0691141    .4392425\n",
      " _It0ethnic_7 |  -.2946748   .1833531    -1.61   0.108    -.6540419    .0646924\n",
      " _It0ethnic_9 |  -.9701617   .1319057    -7.35   0.000    -1.228693   -.7116301\n",
      "_It0ethnic_10 |  -.0637038   .1245152    -0.51   0.609    -.3077502    .1803426\n",
      "  _It0house_2 |   .9268064   .0330005    28.08   0.000     .8621262    .9914865\n",
      "  _It0house_3 |   .2736829   .0963105     2.84   0.004      .084917    .4624488\n",
      "   _It0stay_2 |   .0433981   .0363104     1.20   0.232    -.0277694    .1145655\n",
      "   _It0stay_3 |   .4853612   .0647211     7.50   0.000     .3585096    .6122129\n",
      "   _It0stay_4 |   .5497102    .095435     5.76   0.000     .3626602    .7367602\n",
      "              |\n",
      " t0par_nssec2 |\n",
      "1. 1.1 Lar..  |   .5652993   .0679882     8.31   0.000     .4320443    .6985543\n",
      "3. 2 Lower..  |   .7775962   .0527425    14.74   0.000     .6742223    .8809702\n",
      "4. 3 Inter..  |   1.247349   .0539076    23.14   0.000     1.141692    1.353007\n",
      "5. 4 Small..  |   1.595769   .0551897    28.91   0.000     1.487598    1.703939\n",
      "6. 5 Lower..  |   1.898648    .062567    30.35   0.000     1.776019    2.021278\n",
      "7. 6 Semi-..  |    2.09627   .0557912    37.57   0.000     1.986921    2.205619\n",
      "8. 7 Routine  |     2.3002    .061949    37.13   0.000     2.178782    2.421619\n",
      "              |\n",
      "        _cons |  -1.826211   .0561726   -32.51   0.000    -1.936308   -1.716114\n",
      "--------------+----------------------------------------------------------------\n",
      "2             |\n",
      "_It0coho~1992 |   -.131974   .0401829    -3.28   0.001    -.2107313   -.0532167\n",
      "_It0coho~1993 |  -.2985647   .0416183    -7.17   0.000    -.3801356   -.2169939\n",
      "_It0coho~1995 |  -.4020445   .0423421    -9.50   0.000    -.4850338   -.3190551\n",
      "_It0coho~1997 |   -.461819   .0419012   -11.02   0.000    -.5439443   -.3796937\n",
      "_It0coho~1999 |  -.5307947   .0449096   -11.82   0.000    -.6188163   -.4427731\n",
      "_It0coho~2001 |  -.5759235   .0419146   -13.74   0.000    -.6580751    -.493772\n",
      "              |\n",
      "        t0sex |\n",
      "     1. male  |   .8260679   .0211658    39.03   0.000     .7845835    .8675522\n",
      "              |\n",
      " _It0ethnic_4 |   .1316945   .0967497     1.36   0.173    -.0579322    .3213212\n",
      " _It0ethnic_5 |   -.089991   .0699165    -1.29   0.198    -.2270254    .0470434\n",
      " _It0ethnic_6 |   .0968457   .1009241     0.96   0.337    -.1009627    .2946542\n",
      " _It0ethnic_7 |   .0247898   .1805195     0.14   0.891    -.3290234    .3786031\n",
      " _It0ethnic_9 |  -.3750509   .1220328    -3.07   0.002    -.6142319   -.1358699\n",
      "_It0ethnic_10 |   .0305418   .1015419     0.30   0.764    -.1684776    .2295611\n",
      "  _It0house_2 |   .5216281   .0359717    14.50   0.000     .4511245    .5921317\n",
      "  _It0house_3 |   .3879718   .0949647     4.09   0.000     .2018436       .5741\n",
      "   _It0stay_2 |   .0417334   .0362706     1.15   0.250     -.029356    .1128229\n",
      "   _It0stay_3 |   .3933138    .064914     6.06   0.000     .2660842    .5205435\n",
      "   _It0stay_4 |   .4152893   .0970114     4.28   0.000     .2251497     .605429\n",
      "              |\n",
      " t0par_nssec2 |\n",
      "1. 1.1 Lar..  |   .1588751   .0554328     2.87   0.004     .0502283     .267522\n",
      "3. 2 Lower..  |   .3402859   .0416401     8.17   0.000     .2586725    .4218993\n",
      "4. 3 Inter..  |   .6434872   .0438094    14.69   0.000      .557622    .7293524\n",
      "5. 4 Small..  |   .9118614   .0463735    19.66   0.000     .8209706    1.002752\n",
      "6. 5 Lower..  |   1.000309    .056694    17.64   0.000     .8891905    1.111428\n",
      "7. 6 Semi-..  |   1.148599   .0480317    23.91   0.000     1.054458     1.24274\n",
      "8. 7 Routine  |   1.203251   .0572513    21.02   0.000     1.091039    1.315462\n",
      "              |\n",
      "        _cons |  -2.448814   .0479544   -51.07   0.000    -2.542803   -2.354825\n",
      "--------------+----------------------------------------------------------------\n",
      "3             |\n",
      "_It0coho~1992 |    -.01126    .033866    -0.33   0.740    -.0776365    .0551165\n",
      "_It0coho~1993 |  -.1699852    .034848    -4.88   0.000    -.2382864   -.1016841\n",
      "_It0coho~1995 |  -.3002958   .0352194    -8.53   0.000    -.3693248   -.2312668\n",
      "_It0coho~1997 |  -.4095572    .035462   -11.55   0.000    -.4790618   -.3400526\n",
      "_It0coho~1999 |  -.4175502   .0377043   -11.07   0.000    -.4914495   -.3436508\n",
      "_It0coho~2001 |  -.5055105   .0351563   -14.38   0.000     -.574416   -.4366051\n",
      "              |\n",
      "        t0sex |\n",
      "     1. male  |  -.1944904   .0185635   -10.48   0.000    -.2308743   -.1581064\n",
      "              |\n",
      " _It0ethnic_4 |    .509382   .0793713     6.42   0.000     .3538164    .6649476\n",
      " _It0ethnic_5 |  -.1629349   .0580905    -2.80   0.005    -.2767906   -.0490791\n",
      " _It0ethnic_6 |   .3000715   .0828996     3.62   0.000     .1375905    .4625526\n",
      " _It0ethnic_7 |   .0850075   .1572467     0.54   0.589    -.2231917    .3932067\n",
      " _It0ethnic_9 |   -.585692   .1000402    -5.85   0.000     -.781768    -.389616\n",
      "_It0ethnic_10 |   .2016643   .0899168     2.24   0.025     .0254298    .3778987\n",
      "  _It0house_2 |    .587133   .0300861    19.52   0.000     .5281651    .6461008\n",
      "  _It0house_3 |   .1819381   .0833371     2.18   0.029     .0185997    .3452765\n",
      "   _It0stay_2 |    .093452   .0302194     3.09   0.002     .0342229    .1526811\n",
      "   _It0stay_3 |   .3766461   .0554703     6.79   0.000     .2679259    .4853663\n",
      "   _It0stay_4 |   .4467214   .0847802     5.27   0.000     .2805544    .6128883\n",
      "              |\n",
      " t0par_nssec2 |\n",
      "1. 1.1 Lar..  |   .3803232   .0469946     8.09   0.000      .288215    .4724314\n",
      "3. 2 Lower..  |   .4815017   .0356423    13.51   0.000     .4116438    .5513597\n",
      "4. 3 Inter..  |    .796022   .0373751    21.30   0.000     .7227678    .8692763\n",
      "5. 4 Small..  |   .9832162     .03949    24.90   0.000      .905817    1.060615\n",
      "6. 5 Lower..  |   1.130796   .0483043    23.41   0.000      1.03612    1.225471\n",
      "7. 6 Semi-..  |   1.289798    .041215    31.29   0.000     1.209018    1.370578\n",
      "8. 7 Routine  |   1.362974   .0489114    27.87   0.000     1.267109    1.458839\n",
      "              |\n",
      "        _cons |  -1.246271   .0403186   -30.91   0.000    -1.325294   -1.167247\n",
      "--------------+----------------------------------------------------------------\n",
      "4             |  (base outcome)\n",
      "-------------------------------------------------------------------------------\n"
     ]
    }
   ],
   "source": [
    "* Estimating the multinomial logistic regression model\n",
    "\n",
    "xi: svy: mlogit class ///\n",
    "\t\t\t\ti.t0cohort ///\n",
    "\t\t\t\tib2.t0sex ///\n",
    "\t\t\t\ti.t0ethnic ///\n",
    "\t\t\t\ti.t0house ///\n",
    "\t\t\t\ti.t0stay ///\n",
    "\t\t\t\tib2.t0par_nssec2 ///\n",
    "\t\t\t\t\t, base(4)"
   ]
  },
  {
   "cell_type": "code",
   "execution_count": 73,
   "metadata": {},
   "outputs": [],
   "source": [
    "* Equivalent command not using svy (for post-estimation reporting)\n",
    "\t\t\t\t\t\n",
    "qui: xi: mlogit class ///\n",
    "\t\t\t\ti.t0cohort ///\n",
    "\t\t\t\tib2.t0sex ///\n",
    "\t\t\t\ti.t0ethnic ///\n",
    "\t\t\t\ti.t0house ///\n",
    "\t\t\t\ti.t0stay ///\n",
    "\t\t\t\tib2.t0par_nssec2 ///\n",
    "\t\t\t\t\t[pw=lca_weight], base(4)\n",
    "est store e"
   ]
  },
  {
   "cell_type": "code",
   "execution_count": 74,
   "metadata": {},
   "outputs": [
    {
     "name": "stdout",
     "output_type": "stream",
     "text": [
      "(output written to C:\\temp\\github_ycs_subject_analysis\\outputs\\table10.rtf)\n"
     ]
    }
   ],
   "source": [
    "* Write out results to table\n",
    "\n",
    "esttab e using \"$path2\\outputs\\table10.rtf\", ///\n",
    "\tb(%9.2f) se(%9.2f) aic(%9.1f) bic(%9.1f) scalars(\"ll Log lik.\") sfmt(%9.1f) pr2 ///\n",
    "\tstarlevels(* .05 ** .01 *** .001) stardetach \t///\n",
    "\tlabel mtitles(\"Multnomial Logit\") ///\n",
    "\twide staraux nogaps noparentheses replace"
   ]
  },
  {
   "cell_type": "markdown",
   "metadata": {},
   "source": [
    "### Table A10 <a class=\"anchor\" id=\"tab10\"></a>\n",
    "*Latent Group Model Results (Structural Equation Model, n = 67,690)*\n",
    "\n",
    "School GCSE Attainment – Posterior Probabilities and Prior Probabilities (percentages), YCS Cohorts 5-11.   \n",
    "All pupils gaining a GCSE pass at grades A*-G; n=67,690; \n",
    "Probabilities reported as percentages."
   ]
  },
  {
   "cell_type": "markdown",
   "metadata": {},
   "source": [
    "[Go to Contents](#contents) \n",
    "<br>"
   ]
  },
  {
   "cell_type": "markdown",
   "metadata": {},
   "source": [
    "* The model reported is model 5 in the file: \"5_ycs5_11_file9_gsem.do\"\n",
    "* These models take a long time to converge (typically over an hour)\n",
    "* This is not compatible with the timeout settings for a Jupyter notebook\n",
    "* Therefore I have not shown the output here\n",
    "\n",
    "The model that was run used the following code for estimation. This is on lines 282-298.\n",
    "\n",
    "* The subject outcome indicators were dummy coded to work with Stata's GSEM commands\n",
    "* Bangladeshi children were excluded from the analysis due to convergence issues\n",
    "* For the models to converge, you will need to run them all in the order I did as later models set the seeds for the parameters based on earlier models"
   ]
  },
  {
   "cell_type": "code",
   "execution_count": 75,
   "metadata": {},
   "outputs": [],
   "source": [
    "/*\n",
    "* Re-run model 5 using weight option rather than svy for model output\n",
    "\n",
    "gsem (english maths science humanity othersub <- , logit) ///\n",
    "     (C <- \ti.t0cohort ///\n",
    "\t\t\tib2.t0sex ///\n",
    "\t\t\ti.t0ethnic ///\n",
    "\t\t\ti.t0house ///\n",
    "\t\t\ti.t0stay ///\n",
    "\t\t\tib2.t0par_nssec2) [pw=t1weight], ///\n",
    "\t\t\t\t\tlclass(C 4, base(3) ) from(mod5, skip)\n",
    "\n",
    "estat lcgof\n",
    "\n",
    "ereturn list\n",
    "\n",
    "estat lcprob, nose\n",
    "estat lcmean, nose\n",
    "*/"
   ]
  },
  {
   "cell_type": "markdown",
   "metadata": {},
   "source": [
    "### Table A11 <a class=\"anchor\" id=\"tab11\"></a>\n",
    "*Multinomial Logistic Regression Model Results – Latent Educational Group Membership (Structural Equation Model)*\n",
    "\n",
    "All pupils gaining a GCSE pass at grades A*-G, n=67,937, weighted data, YCS Cohorts 5-11."
   ]
  },
  {
   "cell_type": "markdown",
   "metadata": {},
   "source": [
    "* The model reported is model 5 in the file: \"5_ycs5_11_file9_gsem.do\"\n",
    "* These models take a long time to converge (typically over an hour)\n",
    "* This is not compatible with the timeout settings for a Jupyter notebook\n",
    "* Therefore I have not shown the output here\n",
    "\n",
    "The model that was run used the following code for estimation. This is on lines 282-298.\n",
    "\n",
    "* The subject outcome indicators were dummy coded to work with Stata's GSEM commands\n",
    "* Bangladeshi children were excluded from the analysis due to convergence issues\n",
    "* For the models to converge, you will need to run them all in the order I did as later models set the seeds for the parameters based on earlier models"
   ]
  },
  {
   "cell_type": "markdown",
   "metadata": {},
   "source": [
    "[Go to Contents](#contents) \n",
    "<br>"
   ]
  },
  {
   "cell_type": "code",
   "execution_count": 76,
   "metadata": {},
   "outputs": [],
   "source": [
    "/*\n",
    "* Re-run model 5 using weight option rather than svy for model output\n",
    "\n",
    "gsem (english maths science humanity othersub <- , logit) ///\n",
    "     (C <- \ti.t0cohort ///\n",
    "\t\t\tib2.t0sex ///\n",
    "\t\t\ti.t0ethnic ///\n",
    "\t\t\ti.t0house ///\n",
    "\t\t\ti.t0stay ///\n",
    "\t\t\tib2.t0par_nssec2) [pw=t1weight], ///\n",
    "\t\t\t\t\tlclass(C 4, base(3) ) from(mod5, skip)\n",
    "\n",
    "estat lcgof\n",
    "\n",
    "ereturn list\n",
    "\n",
    "estat lcprob, nose\n",
    "estat lcmean, nose\n",
    "*/"
   ]
  },
  {
   "cell_type": "markdown",
   "metadata": {},
   "source": [
    "### Table A12 <a class=\"anchor\" id=\"tab12\"></a>\n",
    "*Latent Educational Factor Models (Goodness of Fit Statistics)*\n",
    "\n",
    "All pupils gaining a GCSE pass at grades A*-G, n=67,937, weighted data, YCS Cohorts 5-11."
   ]
  },
  {
   "cell_type": "markdown",
   "metadata": {},
   "source": [
    "[Go to Contents](#contents) \n",
    "<br>"
   ]
  },
  {
   "cell_type": "code",
   "execution_count": 77,
   "metadata": {},
   "outputs": [
    {
     "name": "stdout",
     "output_type": "stream",
     "text": [
      "\n",
      "\n",
      "\n",
      "(50,483 observations deleted)\n",
      "\n",
      "  67,937\n"
     ]
    }
   ],
   "source": [
    "estimates clear\n",
    "use $path3\\ycs5_to_11_set5.dta, clear\n",
    "\n",
    "keep if sample3==1\n",
    "count"
   ]
  },
  {
   "cell_type": "code",
   "execution_count": 78,
   "metadata": {},
   "outputs": [],
   "source": [
    "* Construct highest score variables for subject groupings\n",
    "\n",
    "* 1) English\n",
    "\n",
    "egen english_sc = anyvalue (t0gc1eng_sc), v(0/7)\n",
    "label variable english_sc \"Highest Score in GCSE English subjects\"\n",
    "qui: tab1 t0gc1eng_sc english_sc, missing\n",
    "\n",
    "* 2) Maths\n",
    "\n",
    "egen maths_sc = anyvalue (t0gc2math_sc), v(0/7)\n",
    "label variable maths_sc \"Highest Score in GCSE Maths subjects\"\n",
    "qui: tab1 t0gc2math_sc maths_sc, missing\n",
    "\n",
    "* 3) Science\n",
    "\n",
    "egen science_sc = rmax (t0gc7bio_sc t0gc8phy_sc t0gc9che_sc t0gc10sci_sc t0gc12othsci_sc)\n",
    "label variable science_sc \"Highest Score in GCSE Science subjects\"\n",
    "qui: tab science_sc science, missing\n",
    "\n",
    "* 4) Humanity\n",
    "\n",
    "egen humanity_sc = rmax (t0gc3his_sc t0gc4geo_sc t0gc13othhum_sc t0gc15re_sc)\n",
    "label variable humanity_sc \"Highest Score in GCSE Humanity subjects\"\n",
    "qui: tab humanity_sc humanity, missing\n",
    "\n",
    "* 5) Other Subject\n",
    "\n",
    "egen othersub_sc = rmax (t0gc5fre_sc t0gc6cdt_sc t0gc14othlan_sc t0gc16arts_sc t0gc17ped_sc t0gc18other_sc)\n",
    "label variable othersub_sc \"Highest Score in GCSE Other subjects\"\n",
    "qui: tab othersub_sc othersub, missing"
   ]
  },
  {
   "cell_type": "code",
   "execution_count": 79,
   "metadata": {},
   "outputs": [
    {
     "name": "stdout",
     "output_type": "stream",
     "text": [
      "\n",
      "\n",
      "Variable       Obs Unique      Mean  Min  Max  Label\n",
      "--------------------------------------------------------------------------------\n",
      "english_sc   67937      8  5.290534    0    7  Highest Score in GCSE English ...\n",
      "maths_sc     67937      8   4.64027    0    7  Highest Score in GCSE Maths su...\n",
      "science_sc   67937      8  4.829828    0    7  Highest Score in GCSE Science ...\n",
      "humanity_sc  67937      8   4.97561    0    7  Highest Score in GCSE Humanity...\n",
      "othersub_sc  67937      8  5.456923    0    7  Highest Score in GCSE Other su...\n",
      "--------------------------------------------------------------------------------\n",
      "\n"
     ]
    }
   ],
   "source": [
    "* These are the score variables for each of the 5 subject groupings\n",
    "\n",
    "codebook english_sc maths_sc science_sc humanity_sc othersub_sc, compact\n",
    "\n",
    "* Correlation between these variables\n",
    "\n",
    "qui: corr english_sc maths_sc science_sc humanity_sc othersub_sc"
   ]
  },
  {
   "cell_type": "code",
   "execution_count": 80,
   "metadata": {},
   "outputs": [
    {
     "name": "stdout",
     "output_type": "stream",
     "text": [
      "\n",
      "\n",
      "(obs=67,937)\n",
      "number of factors adjusted to 2\n",
      "Iteration 0:   log likelihood = -4226.3535\n",
      "Iteration 1:   log likelihood =  -14.79257\n",
      "Iteration 2:   log likelihood = -1.9678752\n",
      "Iteration 3:   log likelihood = -1.8629061\n",
      "\n",
      "Factor analysis/correlation                      Number of obs    =     67,937\n",
      "    Method: maximum likelihood                   Retained factors =          2\n",
      "    Rotation: (unrotated)                        Number of params =          9\n",
      "                                                 Schwarz's BIC    =    103.863\n",
      "    Log likelihood = -1.862906                   (Akaike's) AIC   =    21.7258\n",
      "\n",
      "    --------------------------------------------------------------------------\n",
      "         Factor  |   Eigenvalue   Difference        Proportion   Cumulative\n",
      "    -------------+------------------------------------------------------------\n",
      "        Factor1  |      3.23571      3.04321            0.9438       0.9438\n",
      "        Factor2  |      0.19250            .            0.0562       1.0000\n",
      "    --------------------------------------------------------------------------\n",
      "    LR test: independent vs. saturated:  chi2(10) = 2.0e+05 Prob>chi2 = 0.0000\n",
      "    LR test:   2 factors vs. saturated:  chi2(1)  =    3.73 Prob>chi2 = 0.0536\n",
      "\n",
      "Factor loadings (pattern matrix) and unique variances\n",
      "\n",
      "    -------------------------------------------------\n",
      "        Variable |  Factor1   Factor2 |   Uniqueness \n",
      "    -------------+--------------------+--------------\n",
      "      english_sc |   0.8128    0.2953 |      0.2522  \n",
      "        maths_sc |   0.8360   -0.1886 |      0.2654  \n",
      "      science_sc |   0.8478   -0.2141 |      0.2354  \n",
      "     humanity_sc |   0.8129    0.0976 |      0.3297  \n",
      "     othersub_sc |   0.7046    0.1198 |      0.4891  \n",
      "    -------------------------------------------------\n",
      "\n"
     ]
    }
   ],
   "source": [
    "* ML Factor Analysis - this will be the reported version\n",
    "\n",
    "estimates clear\n",
    "\n",
    "factor english_sc maths_sc science_sc humanity_sc othersub_sc, ml\n",
    "est store f"
   ]
  },
  {
   "cell_type": "code",
   "execution_count": 81,
   "metadata": {},
   "outputs": [
    {
     "name": "stdout",
     "output_type": "stream",
     "text": [
      "\n",
      "\n",
      "\n",
      "\n",
      "Factor analysis/correlation                      Number of obs    =     67,937\n",
      "    Method: maximum likelihood                   Retained factors =          2\n",
      "    Rotation: orthogonal varimax (Kaiser off)    Number of params =          9\n",
      "                                                 Schwarz's BIC    =    103.863\n",
      "    Log likelihood = -1.862906                   (Akaike's) AIC   =    21.7258\n",
      "\n",
      "    --------------------------------------------------------------------------\n",
      "         Factor  |     Variance   Difference        Proportion   Cumulative\n",
      "    -------------+------------------------------------------------------------\n",
      "        Factor1  |      1.86878      0.30935            0.5451       0.5451\n",
      "        Factor2  |      1.55943            .            0.4549       1.0000\n",
      "    --------------------------------------------------------------------------\n",
      "    LR test: independent vs. saturated:  chi2(10) = 2.0e+05 Prob>chi2 = 0.0000\n",
      "    LR test:   2 factors vs. saturated:  chi2(1)  =    3.73 Prob>chi2 = 0.0536\n",
      "\n",
      "Rotated factor loadings (pattern matrix) and unique variances\n",
      "\n",
      "    -------------------------------------------------\n",
      "        Variable |  Factor1   Factor2 |   Uniqueness \n",
      "    -------------+--------------------+--------------\n",
      "      english_sc |   0.4214    0.7552 |      0.2522  \n",
      "        maths_sc |   0.7556    0.4044 |      0.2654  \n",
      "      science_sc |   0.7812    0.3929 |      0.2354  \n",
      "     humanity_sc |   0.5508    0.6057 |      0.3297  \n",
      "     othersub_sc |   0.4545    0.5517 |      0.4891  \n",
      "    -------------------------------------------------\n",
      "\n",
      "Factor rotation matrix\n",
      "\n",
      "    --------------------------------\n",
      "                 | Factor1  Factor2 \n",
      "    -------------+------------------\n",
      "         Factor1 |  0.7562   0.6544 \n",
      "         Factor2 | -0.6544   0.7562 \n",
      "    --------------------------------\n",
      "\n"
     ]
    }
   ],
   "source": [
    "* Predict the factor loadings for the unrotated solution\n",
    "\n",
    "capture drop f1 f2\n",
    "qui: predict f1 f2\n",
    "\n",
    "rotate, varimax\n",
    "est store g"
   ]
  },
  {
   "cell_type": "code",
   "execution_count": 82,
   "metadata": {},
   "outputs": [
    {
     "name": "stdout",
     "output_type": "stream",
     "text": [
      "\n",
      "\n",
      "\n",
      "\n",
      "\n",
      "\n",
      "\n",
      "fa[2,5]\n",
      "              Log Likeli~d      DF Model        DF Rem           AIC\n",
      "1 Factor M~l       -2835.4             5             5        5680.8\n",
      "2 Factor M~l          -1.9             9             1          21.7\n",
      "\n",
      "                       BIC\n",
      "1 Factor M~l        5726.4\n",
      "2 Factor M~l         103.9\n"
     ]
    }
   ],
   "source": [
    "* Need to produce a summary of the number of factors - table 1\n",
    "\n",
    "qui: estat factors\n",
    "matrix fa = r(stats)\n",
    "\n",
    "matrix colnames fa = \"Log Likelihood\" \"DF Model\" \"DF Rem\" \"AIC\" \"BIC\"\n",
    "matrix rownames fa = \"1 Factor Model\" \"2 Factor Model\"\n",
    "\n",
    "* Round the values in the matrix\n",
    "\n",
    "forval i = 1/2 {\n",
    "\tforval j = 1/5 {\n",
    "\t\tmatrix fa[`i',`j'] = round(fa[`i',`j'], 0.1)\n",
    "}\n",
    "}\n",
    "\n",
    "matrix list fa"
   ]
  },
  {
   "cell_type": "code",
   "execution_count": 83,
   "metadata": {},
   "outputs": [],
   "source": [
    "* Export the matrix into an RTF file\n",
    "\n",
    "/*\n",
    "esttab matrix(fa) using \"$path2\\outputs\\fa_models_table1.rtf\", ///\n",
    "\tnomtitle replace\n",
    "*/"
   ]
  },
  {
   "cell_type": "code",
   "execution_count": 84,
   "metadata": {},
   "outputs": [
    {
     "name": "stdout",
     "output_type": "stream",
     "text": [
      "\n",
      "Structure matrix: correlations between variables and varimax rotated common\n",
      "factors\n",
      "\n",
      "    ----------------------------------\n",
      "        Variable |  Factor1   Factor2 \n",
      "    -------------+--------------------\n",
      "      english_sc |   0.4214    0.7552 \n",
      "        maths_sc |   0.7556    0.4044 \n",
      "      science_sc |   0.7812    0.3929 \n",
      "     humanity_sc |   0.5508    0.6057 \n",
      "     othersub_sc |   0.4545    0.5517 \n",
      "    ----------------------------------\n"
     ]
    }
   ],
   "source": [
    "estat structure\t\t/* This repeats the factor correlations */"
   ]
  },
  {
   "cell_type": "markdown",
   "metadata": {},
   "source": [
    "### Table A13 <a class=\"anchor\" id=\"tab13\"></a>\n",
    "*Latent Factor Model Results (Two Factor Model)*\n",
    "\n",
    "All pupils gaining a GCSE pass at grades A*-G, n=67,937, weighted data, YCS Cohorts 5-11."
   ]
  },
  {
   "cell_type": "markdown",
   "metadata": {},
   "source": [
    "**The factor loadings for the rotated and unrotated versions have been reported above**\n",
    "\n",
    "The code below exports this to a table."
   ]
  },
  {
   "cell_type": "markdown",
   "metadata": {},
   "source": [
    "[Go to Contents](#contents) \n",
    "<br>"
   ]
  },
  {
   "cell_type": "code",
   "execution_count": 85,
   "metadata": {},
   "outputs": [
    {
     "name": "stdout",
     "output_type": "stream",
     "text": [
      "(output written to C:\\temp\\github_ycs_subject_analysis\\outputs\\fa_models_table2.\n",
      "> rtf)\n"
     ]
    }
   ],
   "source": [
    "esttab g using \"$path2\\outputs\\fa_models_table2.rtf\", ///\n",
    "     cells(\"L[Factor1](t fmt(2)) L[Factor2](t) r_L[Factor1](t) r_L[Factor2](t) Psi[Uniqueness]\") ///\n",
    "     mgroups(\"Unrotated\" \"Rotated\", pattern(1 0 1 0 0) ) ///\n",
    "\t\tcoeflabels(\tenglish_sc \t\"English Points Score\" ///\n",
    "\t\t\t\t\tmaths_sc \t\"Maths Points Score\" ///\n",
    "\t\t\t\t\tscience_sc\t\"Science Points Score\" ///\n",
    "\t\t\t\t\thumanity_sc\t\"Humanity Points Score\" ///\n",
    "\t\t\t\t\tothersub_sc \"Other Subject Points Score\" ) ///\n",
    "\t nogap noobs nonumber replace"
   ]
  },
  {
   "cell_type": "markdown",
   "metadata": {},
   "source": [
    "### Table A14 <a class=\"anchor\" id=\"tab14\"></a>\n",
    "*Linear regression models on two factors of GCSE points score (unrotated)*\n",
    "\n",
    "All pupils gaining a GCSE pass at grades A*-G, n=67,937, weighted data, YCS Cohorts 5-11."
   ]
  },
  {
   "cell_type": "markdown",
   "metadata": {},
   "source": [
    "[Go to Contents](#contents) \n",
    "<br>"
   ]
  },
  {
   "cell_type": "code",
   "execution_count": 86,
   "metadata": {},
   "outputs": [
    {
     "name": "stdout",
     "output_type": "stream",
     "text": [
      "\n",
      "(sum of wgt is 62,780.23590652)\n",
      "\n",
      "Linear regression                               Number of obs     =     67,937\n",
      "                                                F(25, 67911)      =     376.92\n",
      "                                                Prob > F          =     0.0000\n",
      "                                                R-squared         =     0.1554\n",
      "                                                Root MSE          =     .93716\n",
      "\n",
      "-------------------------------------------------------------------------------\n",
      "              |               Robust\n",
      "           f1 |      Coef.   Std. Err.      t    P>|t|     [95% Conf. Interval]\n",
      "--------------+----------------------------------------------------------------\n",
      "     t0cohort |\n",
      "        1992  |   .0269343   .0155857     1.73   0.084    -.0036137    .0574822\n",
      "        1993  |   .1107068   .0161945     6.84   0.000     .0789656    .1424479\n",
      "        1995  |   .1891869   .0162113    11.67   0.000     .1574127     .220961\n",
      "        1997  |   .2506191   .0165543    15.14   0.000     .2181726    .2830655\n",
      "        1999  |   .2935148   .0176535    16.63   0.000      .258914    .3281156\n",
      "        2001  |   .3625742   .0164562    22.03   0.000       .33032    .3948283\n",
      "              |\n",
      "        t0sex |\n",
      "     1. male  |  -.1888001   .0085566   -22.06   0.000    -.2055711   -.1720291\n",
      "              |\n",
      "     t0ethnic |\n",
      "    4. black  |  -.1561646   .0371563    -4.20   0.000    -.2289909   -.0833383\n",
      "   5. indian  |   .1333022   .0281651     4.73   0.000     .0780987    .1885057\n",
      "6. pakistani  |  -.1496013    .040889    -3.66   0.000    -.2297437   -.0694589\n",
      "7. banglad..  |   .0823994   .0773945     1.06   0.287    -.0692937    .2340926\n",
      "9. other a..  |   .4010993   .0433035     9.26   0.000     .3162244    .4859741\n",
      "10. other ..  |   .0100721   .0430442     0.23   0.815    -.0742944    .0944386\n",
      "              |\n",
      "      t0house |\n",
      "   2. rented  |  -.3920604   .0137047   -28.61   0.000    -.4189215   -.3651993\n",
      "    3. other  |  -.1199395   .0376456    -3.19   0.001    -.1937247   -.0461542\n",
      "              |\n",
      "       t0stay |\n",
      "2. mother ..  |  -.0279555   .0142906    -1.96   0.050     -.055965     .000054\n",
      "3. father ..  |  -.2274166    .026988    -8.43   0.000    -.2803131   -.1745201\n",
      "4. other r..  |  -.2575058   .0377514    -6.82   0.000    -.3314986   -.1835131\n",
      "              |\n",
      " t0par_nssec2 |\n",
      "1. 1.1 Lar..  |  -.2377267   .0212953   -11.16   0.000    -.2794655   -.1959879\n",
      "3. 2 Lower..  |  -.3367301   .0155547   -21.65   0.000    -.3672172    -.306243\n",
      "4. 3 Inter..  |  -.5557781    .016446   -33.79   0.000    -.5880123   -.5235439\n",
      "5. 4 Small..  |  -.7283708   .0176723   -41.22   0.000    -.7630085    -.693733\n",
      "6. 5 Lower..  |  -.8466048   .0213947   -39.57   0.000    -.8885384   -.8046713\n",
      "7. 6 Semi-..  |  -.9326464   .0179469   -51.97   0.000    -.9678224   -.8974704\n",
      "8. 7 Routine  |  -1.028811   .0213424   -48.21   0.000    -1.070642   -.9869803\n",
      "              |\n",
      "        _cons |    .348744   .0178748    19.51   0.000     .3137093    .3837786\n",
      "-------------------------------------------------------------------------------\n",
      "\n"
     ]
    }
   ],
   "source": [
    "* Regression models of scores - this is from the unrotated solution\n",
    "\n",
    "* Factor 1 (f1 is general ability)\n",
    "\n",
    "regress f1 \t\ti.t0cohort ///\n",
    "\t\t\t\tib2.t0sex ///\n",
    "\t\t\t\ti.t0ethnic ///\n",
    "\t\t\t\ti.t0house ///\n",
    "\t\t\t\ti.t0stay ///\n",
    "\t\t\t\tib2.t0par_nssec2 ///\n",
    "\t\t\t\t\t[pw=t1weight]\n",
    "est store h"
   ]
  },
  {
   "cell_type": "code",
   "execution_count": 87,
   "metadata": {},
   "outputs": [
    {
     "name": "stdout",
     "output_type": "stream",
     "text": [
      "\n",
      "(sum of wgt is 62,780.23590652)\n",
      "\n",
      "Linear regression                               Number of obs     =     67,937\n",
      "                                                F(25, 67911)      =     296.61\n",
      "                                                Prob > F          =     0.0000\n",
      "                                                R-squared         =     0.1230\n",
      "                                                Root MSE          =     .62094\n",
      "\n",
      "-------------------------------------------------------------------------------\n",
      "              |               Robust\n",
      "           f2 |      Coef.   Std. Err.      t    P>|t|     [95% Conf. Interval]\n",
      "--------------+----------------------------------------------------------------\n",
      "     t0cohort |\n",
      "        1992  |   .0129067   .0106612     1.21   0.226    -.0079893    .0338027\n",
      "        1993  |  -.0003863   .0108113    -0.04   0.971    -.0215764    .0208038\n",
      "        1995  |  -.0314166   .0106139    -2.96   0.003    -.0522199   -.0106134\n",
      "        1997  |  -.0471399   .0107363    -4.39   0.000     -.068183   -.0260967\n",
      "        1999  |  -.0187095   .0112785    -1.66   0.097    -.0408155    .0033964\n",
      "        2001  |  -.0435876   .0106422    -4.10   0.000    -.0644462    -.022729\n",
      "              |\n",
      "        t0sex |\n",
      "     1. male  |  -.4549339    .005426   -83.84   0.000    -.4655688   -.4442991\n",
      "              |\n",
      "     t0ethnic |\n",
      "    4. black  |   .2000364   .0247442     8.08   0.000     .1515378     .248535\n",
      "   5. indian  |  -.0378371   .0175044    -2.16   0.031    -.0721456   -.0035285\n",
      "6. pakistani  |   .0825107     .02606     3.17   0.002     .0314333    .1335882\n",
      "7. banglad..  |   .1351727   .0564116     2.40   0.017      .024606    .2457395\n",
      "9. other a..  |  -.0541945    .028743    -1.89   0.059    -.1105307    .0021418\n",
      "10. other ..  |   .1085816   .0332711     3.26   0.001     .0433702    .1737929\n",
      "              |\n",
      "      t0house |\n",
      "   2. rented  |  -.0207901   .0092519    -2.25   0.025    -.0389239   -.0026563\n",
      "    3. other  |  -.0988186   .0273853    -3.61   0.000    -.1524938   -.0451435\n",
      "              |\n",
      "       t0stay |\n",
      "2. mother ..  |   .0366915    .009073     4.04   0.000     .0189084    .0544745\n",
      "3. father ..  |  -.0053389   .0162702    -0.33   0.743    -.0372285    .0265508\n",
      "4. other r..  |   .0391549   .0272326     1.44   0.150     -.014221    .0925308\n",
      "              |\n",
      " t0par_nssec2 |\n",
      "1. 1.1 Lar..  |   .0374311   .0125113     2.99   0.003     .0129091    .0619532\n",
      "3. 2 Lower..  |   .0329729   .0093759     3.52   0.000     .0145962    .0513496\n",
      "4. 3 Inter..  |   .0066776   .0101485     0.66   0.511    -.0132133    .0265686\n",
      "5. 4 Small..  |  -.0177055   .0110352    -1.60   0.109    -.0393344    .0039234\n",
      "6. 5 Lower..  |  -.0412468    .013913    -2.96   0.003    -.0685163   -.0139773\n",
      "7. 6 Semi-..  |  -.0158497   .0113124    -1.40   0.161     -.038022    .0063227\n",
      "8. 7 Routine  |  -.0387245    .013817    -2.80   0.005    -.0658059   -.0116432\n",
      "              |\n",
      "        _cons |   .2015377   .0114698    17.57   0.000     .1790569    .2240185\n",
      "-------------------------------------------------------------------------------\n",
      "\n"
     ]
    }
   ],
   "source": [
    "* Factor 2 (f2 is English/Humanities ability)\n",
    "\n",
    "regress f2 \t\ti.t0cohort ///\n",
    "\t\t\t\tib2.t0sex ///\n",
    "\t\t\t\ti.t0ethnic ///\n",
    "\t\t\t\ti.t0house ///\n",
    "\t\t\t\ti.t0stay ///\n",
    "\t\t\t\tib2.t0par_nssec2 ///\n",
    "\t\t\t\t\t[pw=t1weight]\n",
    "est store i"
   ]
  },
  {
   "cell_type": "code",
   "execution_count": 88,
   "metadata": {},
   "outputs": [
    {
     "name": "stdout",
     "output_type": "stream",
     "text": [
      "(output written to C:\\temp\\github_ycs_subject_analysis\\outputs\\fa_models_table3.\n",
      "> rtf)\n"
     ]
    }
   ],
   "source": [
    "* Use esttab to export results\n",
    "\n",
    "* numlabel _all, rem\n",
    "\n",
    "esttab h i using \"$path2\\outputs\\fa_models_table3.rtf\", ///\n",
    "\tb(%9.2f) se(%9.2f) aic(%9.1f) bic(%9.1f) scalars(\"ll Log lik.\") sfmt(%9.1f) r2 ///\n",
    "\tstarlevels(* .10 ** .05 *** .01) stardetach \t///\n",
    "\tlabel mtitles(\"Factor 1 Score\" \"Factor 2 Score\") ///\n",
    "\twide staraux nogaps noparentheses replace"
   ]
  },
  {
   "cell_type": "markdown",
   "metadata": {},
   "source": [
    "### Table A15 <a class=\"anchor\" id=\"tab15\"></a>\n",
    "*Multinomial Logistic Regression Model Results – Latent Educational Group Membership (modal assignment) – Base Category changed to ‘Science.’*\n",
    "\n",
    "All pupils gaining a GCSE pass at grades A*-G, n=67,937, weighted data, YCS Cohorts 5-11."
   ]
  },
  {
   "cell_type": "markdown",
   "metadata": {},
   "source": [
    "[Go to Contents](#contents) \n",
    "<br>"
   ]
  },
  {
   "cell_type": "code",
   "execution_count": 89,
   "metadata": {},
   "outputs": [],
   "source": [
    "use $path3\\ycs5_to_11_set5.dta, clear\n",
    "numlabel _all, rem"
   ]
  },
  {
   "cell_type": "code",
   "execution_count": 90,
   "metadata": {},
   "outputs": [],
   "source": [
    "estimates clear"
   ]
  },
  {
   "cell_type": "code",
   "execution_count": 91,
   "metadata": {},
   "outputs": [
    {
     "name": "stdout",
     "output_type": "stream",
     "text": [
      "\n",
      "\n",
      "Iteration 0:   log pseudolikelihood = -73322.301  \n",
      "Iteration 1:   log pseudolikelihood = -68511.958  \n",
      "Iteration 2:   log pseudolikelihood = -68414.663  \n",
      "Iteration 3:   log pseudolikelihood = -68414.193  \n",
      "Iteration 4:   log pseudolikelihood = -68414.193  \n",
      "\n",
      "Multinomial logistic regression                 Number of obs     =     67,937\n",
      "                                                Wald chi2(75)     =    7119.96\n",
      "                                                Prob > chi2       =     0.0000\n",
      "Log pseudolikelihood = -68414.193               Pseudo R2         =     0.0669\n",
      "\n",
      "-------------------------------------------------------------------------------\n",
      "              |               Robust\n",
      "sample3_mod~s |      Coef.   Std. Err.      z    P>|z|     [95% Conf. Interval]\n",
      "--------------+----------------------------------------------------------------\n",
      "Poor_Grades   |\n",
      "     t0cohort |\n",
      "        1992  |   .0899197   .0761635     1.18   0.238     -.059358    .2391973\n",
      "        1993  |   .0778813   .0799609     0.97   0.330    -.0788391    .2346017\n",
      "        1995  |    .101936   .0822782     1.24   0.215    -.0593263    .2631984\n",
      "        1997  |   .0852434   .0831418     1.03   0.305    -.0777115    .2481983\n",
      "        1999  |   .0034016   .0909023     0.04   0.970    -.1747636    .1815668\n",
      "        2001  |  -.0547699   .0860579    -0.64   0.524    -.2234402    .1139004\n",
      "              |\n",
      "        t0sex |\n",
      "        male  |  -.9166933   .0494984   -18.52   0.000    -1.013708   -.8196782\n",
      "              |\n",
      "     t0ethnic |\n",
      "       black  |   .2810394   .2279438     1.23   0.218    -.1657222    .7278009\n",
      "      indian  |  -.2170232   .1471606    -1.47   0.140    -.5054526    .0714062\n",
      "   pakistani  |   .2748294   .1951032     1.41   0.159    -.1075658    .6572246\n",
      " bangladeshi  |   -.133157   .3394754    -0.39   0.695    -.7985167    .5322026\n",
      " other asian  |  -.4752368   .2563324    -1.85   0.064    -.9776392    .0271655\n",
      "other resp..  |   .0343679   .2491599     0.14   0.890    -.4539766    .5227124\n",
      "              |\n",
      "      t0house |\n",
      "      rented  |   .3893315   .0669936     5.81   0.000     .2580264    .5206365\n",
      "       other  |   -.361225   .1687606    -2.14   0.032    -.6919898   -.0304603\n",
      "              |\n",
      "       t0stay |\n",
      " mother only  |  -.0552953   .0728817    -0.76   0.448    -.1981407    .0875502\n",
      " father only  |   .0209799   .1223252     0.17   0.864    -.2187731    .2607329\n",
      "other resp..  |    .343481   .2051353     1.67   0.094    -.0585768    .7455389\n",
      "              |\n",
      " t0par_nssec2 |\n",
      "1.1 Large ..  |   .4043619   .1346186     3.00   0.003     .1405143    .6682096\n",
      "2 Lower ma..  |   .4385417   .1000606     4.38   0.000     .2424265    .6346569\n",
      "3 Intermed..  |   .5409894   .1024732     5.28   0.000     .3401457    .7418332\n",
      "4 Small em..  |   .5168216   .1041307     4.96   0.000     .3127291    .7209142\n",
      "5 Lower su..  |    .785774   .1200322     6.55   0.000     .5505151    1.021033\n",
      "6 Semi-rou..  |   .8551132   .1057797     8.08   0.000     .6477887    1.062438\n",
      "   7 Routine  |   .9738594   .1180401     8.25   0.000      .742505    1.205214\n",
      "              |\n",
      "        _cons |   1.707348   .1111997    15.35   0.000       1.4894    1.925295\n",
      "--------------+----------------------------------------------------------------\n",
      "Science       |  (base outcome)\n",
      "--------------+----------------------------------------------------------------\n",
      "Non_Science   |\n",
      "     t0cohort |\n",
      "        1992  |   .1284298   .0777976     1.65   0.099    -.0240506    .2809102\n",
      "        1993  |   .1437534   .0811571     1.77   0.077    -.0153117    .3028184\n",
      "        1995  |   .1307846    .083816     1.56   0.119    -.0334918    .2950611\n",
      "        1997  |   .1422523   .0842164     1.69   0.091    -.0228088    .3073133\n",
      "        1999  |   .1171856   .0910482     1.29   0.198    -.0612655    .2956367\n",
      "        2001  |   .1864637   .0856635     2.18   0.030     .0185664     .354361\n",
      "              |\n",
      "        t0sex |\n",
      "        male  |  -1.682033   .0499204   -33.69   0.000    -1.779876   -1.584191\n",
      "              |\n",
      "     t0ethnic |\n",
      "       black  |   .6366078   .2238258     2.84   0.004     .1979172    1.075298\n",
      "      indian  |  -.0240803   .1461061    -0.16   0.869     -.310443    .2622825\n",
      "   pakistani  |    .378492   .1984905     1.91   0.057    -.0105423    .7675263\n",
      " bangladeshi  |   .3679279   .3360642     1.09   0.274    -.2907457    1.026602\n",
      " other asian  |  -.1148282   .2546794    -0.45   0.652    -.6139905    .3843342\n",
      "other resp..  |   .3746257   .2382849     1.57   0.116    -.0924041    .8416554\n",
      "              |\n",
      "      t0house |\n",
      "      rented  |    .049411   .0686748     0.72   0.472    -.0851892    .1840112\n",
      "       other  |  -.4409847   .1726285    -2.55   0.011    -.7793304    -.102639\n",
      "              |\n",
      "       t0stay |\n",
      " mother only  |  -.0054159   .0732315    -0.07   0.941     -.148947    .1381153\n",
      " father only  |  -.0648175   .1240049    -0.52   0.601    -.3078626    .1782276\n",
      "other resp..  |   .2443812   .2081008     1.17   0.240    -.1634887    .6522512\n",
      "              |\n",
      " t0par_nssec2 |\n",
      "1.1 Large ..  |   .2878352   .1289053     2.23   0.026     .0351855    .5404849\n",
      "2 Lower ma..  |   .1822984   .0953092     1.91   0.056    -.0045041     .369101\n",
      "3 Intermed..  |   .1596041    .098061     1.63   0.104    -.0325919    .3518001\n",
      "4 Small em..  |  -.0581059   .1004221    -0.58   0.563    -.2549296    .1387179\n",
      "5 Lower su..  |   .0587956   .1179156     0.50   0.618    -.1723147    .2899059\n",
      "6 Semi-rou..  |   .1035822   .1027423     1.01   0.313    -.0977889    .3049533\n",
      "   7 Routine  |   .0618481   .1163071     0.53   0.595    -.1661097    .2898059\n",
      "              |\n",
      "        _cons |   2.158595   .1077392    20.04   0.000     1.947431     2.36976\n",
      "--------------+----------------------------------------------------------------\n",
      "Good_Grades   |\n",
      "     t0cohort |\n",
      "        1992  |   .1577532   .0733766     2.15   0.032     .0139377    .3015687\n",
      "        1993  |   .3251154   .0765301     4.25   0.000     .1751192    .4751116\n",
      "        1995  |   .4267212   .0787843     5.42   0.000     .2723069    .5811355\n",
      "        1997  |   .5644654   .0790001     7.15   0.000     .4096281    .7193028\n",
      "        1999  |   .5524158   .0850695     6.49   0.000     .3856827    .7191489\n",
      "        2001  |   .6878261   .0803283     8.56   0.000     .5303856    .8452666\n",
      "              |\n",
      "        t0sex |\n",
      "        male  |  -1.455361   .0472493   -30.80   0.000    -1.547968   -1.362754\n",
      "              |\n",
      "     t0ethnic |\n",
      "       black  |   .0686016   .2195035     0.31   0.755    -.3616173    .4988206\n",
      "      indian  |   .1366249   .1372278     1.00   0.319    -.1323367    .4055865\n",
      "   pakistani  |   .0200028    .190954     0.10   0.917    -.3542601    .3942657\n",
      " bangladeshi  |   .1850845   .3241049     0.57   0.568    -.4501495    .8203184\n",
      " other asian  |   .5088903   .2361272     2.16   0.031     .0460896    .9716911\n",
      "other resp..  |   .1336189   .2266425     0.59   0.555    -.3105921      .57783\n",
      "              |\n",
      "      t0house |\n",
      "      rented  |  -.5464336   .0663136    -8.24   0.000    -.6764059   -.4164613\n",
      "       other  |  -.6288826   .1583725    -3.97   0.000    -.9392871   -.3184782\n",
      "              |\n",
      "       t0stay |\n",
      " mother only  |   -.089338   .0690825    -1.29   0.196    -.2247373    .0460613\n",
      " father only  |  -.4555926    .117188    -3.89   0.000    -.6852768   -.2259084\n",
      "other resp..  |  -.1914936   .2024491    -0.95   0.344    -.5882865    .2052994\n",
      "              |\n",
      " t0par_nssec2 |\n",
      "1.1 Large ..  |  -.1509869   .1179906    -1.28   0.201    -.3822443    .0802705\n",
      "2 Lower ma..  |  -.3388553   .0862225    -3.93   0.000    -.5078483   -.1698623\n",
      "3 Intermed..  |  -.7012802   .0891389    -7.87   0.000    -.8759892   -.5265712\n",
      "4 Small em..  |  -1.063831   .0914268   -11.64   0.000    -1.243024   -.8846381\n",
      "5 Lower su..  |   -1.10632   .1090422   -10.15   0.000    -1.320039   -.8926013\n",
      "6 Semi-rou..  |  -1.240535   .0943707   -13.15   0.000    -1.425498   -1.055571\n",
      "   7 Routine  |  -1.307436    .108312   -12.07   0.000    -1.519724   -1.095149\n",
      "              |\n",
      "        _cons |    3.61289   .0996465    36.26   0.000     3.417586    3.808193\n",
      "-------------------------------------------------------------------------------\n",
      "\n"
     ]
    }
   ],
   "source": [
    "* Change base category to compare middle attainment latent groups\n",
    "\n",
    "mlogit sample3_modal_class ///\n",
    "\t\t\t\ti.t0cohort ///\n",
    "\t\t\t\tib2.t0sex ///\n",
    "\t\t\t\ti.t0ethnic ///\n",
    "\t\t\t\ti.t0house ///\n",
    "\t\t\t\ti.t0stay ///\n",
    "\t\t\t\tib2.t0par_nssec2 ///\n",
    "\t\t\t\t\t[pw=t1weight], base(2) \n",
    "est store j"
   ]
  },
  {
   "cell_type": "code",
   "execution_count": 92,
   "metadata": {},
   "outputs": [
    {
     "name": "stdout",
     "output_type": "stream",
     "text": [
      "(note: file C:\\temp\\github_ycs_subject_analysis\\outputs\\table9a.rtf not found)\n",
      "(output written to C:\\temp\\github_ycs_subject_analysis\\outputs\\table9a.rtf)\n"
     ]
    }
   ],
   "source": [
    "* Export results\n",
    "\n",
    "esttab j using \"C:\\temp\\github_ycs_subject_analysis\\outputs\\table9a.rtf\", ///\n",
    "\tb(%9.2f) se(%9.2f) aic(%9.1f) bic(%9.1f) scalars(\"ll Log lik.\") sfmt(%9.1f) pr2 ///\n",
    "\tstarlevels(* .05 ** .01 *** .001) stardetach \t///\n",
    "\tlabel mtitles(\"Multinomial Logit\") ///\n",
    "\tunstack wide staraux nogaps noparentheses replace"
   ]
  },
  {
   "cell_type": "markdown",
   "metadata": {},
   "source": [
    "**END OF FILE**\n",
    "\n",
    "[Go to Contents](#contents)"
   ]
  },
  {
   "cell_type": "code",
   "execution_count": null,
   "metadata": {},
   "outputs": [],
   "source": []
  }
 ],
 "metadata": {
  "kernelspec": {
   "display_name": "Stata",
   "language": "stata",
   "name": "stata"
  },
  "language_info": {
   "codemirror_mode": "stata",
   "file_extension": ".do",
   "mimetype": "text/x-stata",
   "name": "stata",
   "version": "15.1"
  }
 },
 "nbformat": 4,
 "nbformat_minor": 4
}
